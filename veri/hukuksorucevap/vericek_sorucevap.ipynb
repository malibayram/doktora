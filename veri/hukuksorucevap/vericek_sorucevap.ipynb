{
 "cells": [
  {
   "cell_type": "code",
   "execution_count": 22,
   "metadata": {},
   "outputs": [],
   "source": [
    "import requests\n",
    "from bs4 import BeautifulSoup\n",
    "\n",
    "import pandas as pd"
   ]
  },
  {
   "cell_type": "code",
   "execution_count": 19,
   "metadata": {},
   "outputs": [
    {
     "data": {
      "text/plain": [
       "'\\r\\n<!DOCTYPE html>\\r\\n<html lang=\"tr-TR\">\\r\\n<head>\\r\\n<meta http-equiv=\"Content-Type\" content=\"text/html; charset=UTF-8\" />\\r\\n<meta name=\"content-language\" content=\"tr-TR\" />\\r\\n<meta http-equiv=\"X-UA-Compatible\" content=\"IE=edge\">\\r\\n<meta name=\"viewport\" content=\"width=device-width, initial-scale=1\">\\r\\n\\r\\n<title>Soru & Cevap</title>\\r\\n<meta name=\"description\" content=\"Ziyaretçilerimizin avukatlık ofisimize sordukları soruları cevapladığımız sayfa.\" />\\r\\n<meta name=\"robots\" content=\"index,follow\" />\\r\\n<link rel=\"canonical\" href=\"https://www.hukuksorucevap.com.tr/sorucevap/?sayfa=1\" />\\r\\n<link rel=\"shortcut icon\" href=\"/images/favicon.ico\" type=\"image/x-icon\">\\r\\n \\r\\n\\r\\n<link href=\"https://fonts.googleapis.com/css?family=Roboto:300,400,500,600,700\" rel=\"stylesheet\"> \\r\\n\\r\\n<link rel=\"stylesheet\" type=\"text/css\" href=\"/css/stil.css?v=1.3\" />\\r\\n<script type=\"text/javascript\" src=\"/js/jquery.js\"></script>\\r\\n\\r\\n<li style=\"display:none\" id=\"google_translate_element2\"></li>\\r\\n<script type=\"text/javascript\">\\r\\nfunction googleTranslateElementInit2() {new google.translate.TranslateElement({pageLanguage: \\'tr\\',autoDisplay: false}, \\'google_translate_element2\\');}\\r\\n</script>\\r\\n<script type=\"text/javascript\" src=\"//translate.google.com/translate_a/element.js?cb=googleTranslateElementInit2\"></script>\\r\\n\\r\\n<script type=\"text/javascript\">\\r\\nfunction GTranslateGetCurrentLang() {var keyValue = document.cookie.match(\\'(^|;) ?googtrans=([^;]*)(;|$)\\');return keyValue ? keyValue[2].split(\\'/\\')[2] : null;}\\r\\nfunction GTranslateFireEvent(element,event){try{if(document.createEventObject){var evt=document.createEventObject();element.fireEvent(\\'on\\'+event,evt)}else{var evt=document.createEvent(\\'HTMLEvents\\');evt.initEvent(event,true,true);element.dispatchEvent(evt)}}catch(e){}}\\r\\nfunction doGTranslate(lang_pair){if(lang_pair.value)lang_pair=lang_pair.value;if(lang_pair==\\'\\')return;var lang=lang_pair.split(\\'|\\')[1];if(GTranslateGetCurrentLang() == null && lang == lang_pair.split(\\'|\\')[0])return;var teCombo;var sel=document.getElementsByTagName(\\'select\\');for(var i=0;i<sel.length;i++)if(sel[i].className==\\'goog-te-combo\\')teCombo=sel[i];if(document.getElementById(\\'google_translate_element2\\')==null||document.getElementById(\\'google_translate_element2\\').innerHTML.length==0||teCombo.length==0||teCombo.innerHTML.length==0){setTimeout(function(){doGTranslate(lang_pair)},500)}else{teCombo.value=lang;GTranslateFireEvent(teCombo,\\'change\\');GTranslateFireEvent(teCombo,\\'change\\')}}\\r\\nif(GTranslateGetCurrentLang() != null)jQuery(document).ready(function() {jQuery(\\'div.switcher div.selected a\\').html(jQuery(\\'div.switcher div.option\\').find(\\'img[alt=\"\\'+GTranslateGetCurrentLang()+\\'\"]\\').parent().html());});\\r\\n</script>\\r\\n\\r\\n<!-- Google tag (gtag.js) -->\\r\\n<script async src=\"https://www.googletagmanager.com/gtag/js?id=AW-11400734304\">\\r\\n</script>\\r\\n<script>\\r\\n  window.dataLayer = window.dataLayer || [];\\r\\n  function gtag(){dataLayer.push(arguments);}\\r\\n  gtag(\\'js\\', new Date());\\r\\n  gtag(\\'config\\', \\'AW-11400734304\\');\\r\\n</script>\\r\\n\\r\\n</head>\\r\\n<body>\\r\\n\\r\\n<!--Üst Blok Başlangıcı-->\\r\\n<div id=\"UstBlok\">\\r\\n<div id=\"UstBlok_Ortala\">\\r\\n\\r\\n<!--Diller Başlangıcı-->\\r\\n<div id=\"Diller_Mobil\">\\r\\n<img src=\"/images/dil_tr.png\" alt=\"Turkish\" onclick=\"doGTranslate(\\'tr|tr\\');\"/>\\r\\n<img src=\"/images/dil_en.png\" alt=\"English\" onclick=\"doGTranslate(\\'tr|en\\');\"/>\\r\\n<img src=\"/images/dil_de.png\" alt=\"Deutsch\" onclick=\"doGTranslate(\\'tr|de\\');\"/>\\r\\n</div>\\r\\n<!--/Diller Bitişi-->\\r\\n\\r\\n<!--Logo Başlangıcı-->\\r\\n<div id=\"Logo\"><a href=\"/\" title=\"Hukuk Bilgi Platformu\"><img src=\"/images/logo.png\" alt=\"Hukuk Bilgi Platformu\"/></a></div>\\r\\n<!--/Logo Bitişi-->\\r\\n\\r\\n<!--Telefon Başlangıcı-->\\r\\n<div id=\"Telefon_Mobil\"><a href=\"tel:0312 295 64 03\" title=\"0312 295 64 03\"></a></div>\\r\\n<!--/Telefon Bitişi-->\\r\\n\\r\\n<div id=\"Telefon_UstMenu\">\\r\\n<!--Diller Başlangıcı-->\\r\\n<div id=\"Diller\">\\r\\n<img src=\"/images/dil_tr.png\" alt=\"Turkish\" onclick=\"doGTranslate(\\'tr|tr\\');\"/>\\r\\n<img src=\"/images/dil_en.png\" alt=\"English\" onclick=\"doGTranslate(\\'tr|en\\');\"/>\\r\\n<img src=\"/images/dil_de.png\" alt=\"Deutsch\" onclick=\"doGTranslate(\\'tr|de\\');\"/>\\r\\n</div>\\r\\n<!--/Diller Bitişi-->\\r\\n\\r\\n<div id=\"Sosyal_Telefon\">\\r\\n<!--Sosyal Medya Başlangıcı-->\\r\\n<div id=\"Sosyal\">\\r\\n<a href=\"\" class=\"Facebook\" title=\"Facebook\" target=\"_blank\"></a>\\r\\n<a href=\"\" class=\"Instagram\" title=\"Instagram\" target=\"_blank\"></a>\\r\\n<a href=\"\" class=\"Youtube\" title=\"Twitter\" target=\"_blank\"></a>\\r\\n</div>\\r\\n<!--/Sosyal Medya Bitişi-->\\r\\n\\r\\n<!--Telefon Başlangıcı-->\\r\\n<div id=\"Telefon\">\\r\\n<div id=\"Tel_Icon\"></div>\\r\\n<div id=\"Numara\">0312 295 64 03</div>\\r\\n</div>\\r\\n<!--/Telefon Bitişi-->\\r\\n\\r\\n<!--Whatsapp Başlangıcı-->\\r\\n<div id=\"Telefon\">\\r\\n<div id=\"Mail_Icon\"></div>\\r\\n<div id=\"Numara\">info@hukuksorucevap.com.tr</div>\\r\\n</div>\\r\\n<!--/Whatsapp Bitişi-->\\r\\n</div>\\r\\n\\r\\n<!--Üst Menü Başlangıcı-->\\r\\n<div id=\"UstMenu\">\\r\\n<ul>\\r\\n<li><a href=\"/sistem/\" class=\"ico_sistem\" title=\"E-Müvekkil Girişi\">E-Müvekkil Girişi</a></li>\\r\\n<li><a href=\"/fotogaleri/\" class=\"ico_fotograflar\" title=\"Fotoğraflar\">Foto Galeri</a></li>\\r\\n<li><a href=\"/insankaynaklari/\" class=\"ico_ik\" title=\"İnsan Kaynakları\">İnsan Kaynakları</a></li>\\r\\n<li><a href=\"/randevu/\" class=\"ico_randevu\" title=\"E-Randevu\">E-Randevu</a></li>\\r\\n</ul>\\r\\n</div>\\r\\n<!--/Üst Menü Bitişi-->\\r\\n</div>\\r\\n\\r\\n</div>\\r\\n\\r\\n<!--Mobil Menü Buton Başlangıcı-->\\r\\n<div class=\"MobilMenuButon\"><a href=\"#menu\"></a>\\r\\n<span></span>\\r\\n<span></span>\\r\\n<span></span>\\r\\n<span></span>\\r\\n</div>\\r\\n<!--/Mobil Menü Buton Bitişi-->\\r\\n<!--Mobil Menü Başlangıcı-->\\r\\n<div id=\"MobilMenu\">\\r\\n<nav id=\"menu\">\\r\\n<ul>\\r\\n<li><a href=\"/\" title=\">Ana Sayfa\">Ana Sayfa</a></li>\\r\\n<li><a href=\"/hakkimizda/\" title=\"Hakkımızda\">Hakkımızda</a></li>\\r\\n<li><a href=\"/sorucevap/\" title=\"Soru & Cevap\">Soru & Cevap</a></li>\\r\\n<li><a href=\"/sistem/\" title=\"E-Müvekkil Girişi\">E-Müvekkil Girişi</a></li>\\r\\n<li><a href=\"/fotogaleri/\" title=\"Fotoğraflar\">Foto Galeri</a></li>\\r\\n<li><a href=\"/insankaynaklari/\" title=\"İnsan Kaynakları\">İnsan Kaynakları</a></li>\\r\\n<li><a href=\"/randevu/\" title=\"E-Randevu\">E-Randevu</a></li>\\r\\n<li><a href=\"/iletisim/\" title=\"İletişim Bilgilerimiz\">İletişim Bilgilerimiz</a></li>\\r\\n</ul>\\r\\n</nav>\\r\\n</div>\\r\\n<!--/Mobil Menü Bitişi-->\\r\\n\\t\\t\\t\\r\\n\\r\\n<!--Menü Başlangıcı-->\\r\\n<div id=\"Menu\">\\r\\n<ul>\\r\\n<li><a href=\"/\" title=\">Ana Sayfa\">Ana Sayfa</a></li>\\r\\n<div id=\"Menu_Ara_Cizgi\"></div>\\r\\n<li><a href=\"/hakkimizda/\" title=\"Hakkımızda\">Hakkımızda</a></li>\\r\\n<div id=\"Menu_Ara_Cizgi\"></div>\\r\\n<li><a href=\"/sorucevap/\" title=\"Soru & Cevap\">Soru & Cevap</a></li>\\r\\n<div id=\"Menu_Ara_Cizgi\"></div>\\r\\n<li><a href=\"/iletisim/\" title=\"İletişim Bilgilerimiz\">İletişim Bilgilerimiz</a></li>\\r\\n</ul>\\r\\n</div>\\r\\n<!--/Menü Bitişi-->\\r\\n\\r\\n</div>\\r\\n<!--/Üst Blok Bitişi-->\\r\\n\\r\\n\\r\\n<!--Ortala Başlangıcı-->\\r\\n<div id=\"Ortala\">\\r\\n\\r\\n<!--Detay Başlangıcı-->\\r\\n<div id=\"Detay\">\\r\\n<script type=\"text/javascript\">\\r\\nfunction formkontrol() {\\r\\nvar bilgi = document.getElementById(\"iletisimim\");\\r\\nvar adi = bilgi.adi.value;\\r\\nvar mail = bilgi.mail.value;\\r\\nvar tel = bilgi.tel.value;\\r\\nvar sehir = bilgi.sehir.value;\\r\\nvar konu = bilgi.konu.value;\\r\\nvar soru = bilgi.soru.value;\\r\\nif(adi==\"\") {\\r\\nalert(\"Lütfen Adınız ve Soyadınız Alanını Doldurunuz !\");\\r\\nbilgi.adi.focus();\\r\\nreturn false;\\r\\n}\\r\\nif(mail==\"\") {\\r\\nalert(\"Lütfen E-Mail Adresiniz Alanını Doldurunuz !\");\\r\\nbilgi.mail.focus();\\r\\nreturn false;\\r\\n}\\r\\nif(tel==\"\") {\\r\\nalert(\"Lütfen Telefon Numaranız Alanını Doldurunuz !\");\\r\\nbilgi.tel.focus();\\r\\nreturn false;\\r\\n}\\r\\nif(sehir==\"\") {\\r\\nalert(\"Lütfen Şehrinizi Seçiniz !\");\\r\\nbilgi.sehir.focus();\\r\\nreturn false;\\r\\n}\\r\\nif(konu==\"\") {\\r\\nalert(\"Lütfen Konu Alanını Doldurunuz !\");\\r\\nbilgi.konu.focus();\\r\\nreturn false;\\r\\n}\\r\\nif(soru==\"\") {\\r\\nalert(\"Lütfen Sorunuz Alanını Doldurunuz !\");\\r\\nbilgi.soru.focus();\\r\\nreturn false;\\r\\n}\\r\\nbilgi.submit();\\r\\n}\\r\\n</script>\\r\\n\\r\\n<script type=\"text/javascript\" src=\"/js/input_tel.js\"></script>\\r\\n<script type=\"text/javascript\">\\r\\n$(document).ready(function(){\\r\\n$(\"#tel\").inputmask({\"mask\": \"0(999) 999 99 99\"});\\r\\n});\\r\\n</script>\\r\\n\\r\\n<h1 id=\"Detay_Baslik\">Soru Sorun - Bilgi Sahibi Olun</h1>\\r\\n<div id=\"Detay_Icerik\">\\r\\n\\r\\n<form method=\"post\" action=\"\" id=\"iletisimim\" onSubmit=\"return formkontrol(this);\">\\r\\n<div id=\"Rendevu_Formu\" style=\"margin-left:0px;\">\\r\\n<input type=\"text\" name=\"adi\" id=\"adi\" class=\"input\" placeholder=\"Adınız ve Soyadınız *\"/>\\r\\n<input type=\"text\" name=\"mail\" id=\"mail\" class=\"input\" placeholder=\"E-Mail Adresiniz *\"/>\\r\\n<input type=\"text\" name=\"tel\" id=\"tel\" class=\"input\" placeholder=\"Telefon Numaranız *\"/>\\r\\n<select name=\"sehir\" id=\"sehir\" class=\"select\">\\r\\n<option value=\"\">Şehir Seçiniz *</option>\\r\\n<option value=\"İstanbul\">İstanbul</option>\\r\\n<option value=\"Ankara\">Ankara</option>\\r\\n<option value=\"İzmir\">İzmir</option>\\r\\n<option value=\"Adana\">Adana</option>\\r\\n<option value=\"Antalya\">Antalya</option>\\r\\n<option value=\"Adıyaman\">Adıyaman</option>\\r\\n<option value=\"Afyon\">Afyon</option>\\r\\n<option value=\"Ağrı\">Ağrı</option>\\r\\n<option value=\"Aksaray\">Aksaray</option>\\r\\n<option value=\"Amasya\">Amasya</option>\\r\\n<option value=\"Ardahan\">Ardahan</option>\\r\\n<option value=\"Artvin\">Artvin</option>\\r\\n<option value=\"Aydın\">Aydın</option>\\r\\n<option value=\"Balıkesir\">Balıkesir</option>\\r\\n<option value=\"Bartın\">Bartın</option>\\r\\n<option value=\"Batman\">Batman</option>\\r\\n<option value=\"Bayburt\">Bayburt</option>\\r\\n<option value=\"Bilecik\">Bilecik</option>\\r\\n<option value=\"Bingöl\">Bingöl</option>\\r\\n<option value=\"Bitlis\">Bitlis</option>\\r\\n<option value=\"Bolu\">Bolu</option>\\r\\n<option value=\"Burdur\">Burdur</option>\\r\\n<option value=\"Bursa\">Bursa</option>\\r\\n<option value=\"Çanakkale\">Çanakkale</option>\\r\\n<option value=\"Çankırı\">Çankırı</option>\\r\\n<option value=\"Çorum\">Çorum</option>\\r\\n<option value=\"Denizli\">Denizli</option>\\r\\n<option value=\"Diyarbakır\">Diyarbakır</option>\\r\\n<option value=\"Düzce\">Düzce</option>\\r\\n<option value=\"Edirne\">Edirne</option>\\r\\n<option value=\"Elazığ\">Elazığ</option>\\r\\n<option value=\"Erzincan\">Erzincan</option>\\r\\n<option value=\"Erzurum\">Erzurum</option>\\r\\n<option value=\"Eskişehir\">Eskişehir</option>\\r\\n<option value=\"Gaziantep\">Gaziantep</option>\\r\\n<option value=\"Giresun\">Giresun</option>\\r\\n<option value=\"Gümüşhane\">Gümüşhane</option>\\r\\n<option value=\"Hakkari\">Hakkari</option>\\r\\n<option value=\"Hatay\">Hatay</option>\\r\\n<option value=\"Iğdır\">Iğdır</option>\\r\\n<option value=\"Isparta\">Isparta</option>\\r\\n<option value=\"Kahramanmaraş\">Kahramanmaraş</option>\\r\\n<option value=\"Karabük\">Karabük</option>\\r\\n<option value=\"Karaman\">Karaman</option>\\r\\n<option value=\"Kars\">Kars</option>\\r\\n<option value=\"Kastamonu\">Kastamonu</option>\\r\\n<option value=\"Kayseri\">Kayseri</option>\\r\\n<option value=\"Kırıkkale\">Kırıkkale</option>\\r\\n<option value=\"Kırklareli\">Kırklareli</option>\\r\\n<option value=\"Kırşehir\">Kırşehir</option>\\r\\n<option value=\"Kilis\">Kilis</option>\\r\\n<option value=\"Kocaeli\">Kocaeli</option>\\r\\n<option value=\"Konya\">Konya</option>\\r\\n<option value=\"Kütahya\">Kütahya</option>\\r\\n<option value=\"Malatya\">Malatya</option>\\r\\n<option value=\"Manisa\">Manisa</option>\\r\\n<option value=\"Mardin\">Mardin</option>\\r\\n<option value=\"Mersin\">Mersin</option>\\r\\n<option value=\"Muğla\">Muğla</option>\\r\\n<option value=\"Muş\">Muş</option>\\r\\n<option value=\"Nevşehir\">Nevşehir</option>\\r\\n<option value=\"Niğde\">Niğde</option>\\r\\n<option value=\"Ordu\">Ordu</option>\\r\\n<option value=\"Osmaniye\">Osmaniye</option>\\r\\n<option value=\"Rize\">Rize</option>\\r\\n<option value=\"Sakarya\">Sakarya</option>\\r\\n<option value=\"Samsun\">Samsun</option>\\r\\n<option value=\"Siirt\">Siirt</option>\\r\\n<option value=\"Sinop\">Sinop</option>\\r\\n<option value=\"Sivas\">Sivas</option>\\r\\n<option value=\"Şanlıurfa\">Şanlıurfa</option>\\r\\n<option value=\"Şırnak\">Şırnak</option>\\r\\n<option value=\"Tekirdağ\">Tekirdağ</option>\\r\\n<option value=\"Tokat\">Tokat</option>\\r\\n<option value=\"Trabzon\">Trabzon</option>\\r\\n<option value=\"Tunceli\">Tunceli</option>\\r\\n<option value=\"Uşak\">Uşak</option>\\r\\n<option value=\"Van\">Van</option>\\r\\n<option value=\"Yalova\">Yalova</option>\\r\\n<option value=\"Yozgat\">Yozgat</option>\\r\\n<option value=\"Zonguldak\">Zonguldak</option>\\r\\n</select> \\r\\n<input type=\"text\" name=\"konu\" id=\"konu\" class=\"input\" placeholder=\"Konu *\"/>\\r\\n</div>\\r\\n\\r\\n<div id=\"Rendevu_Formu\">\\r\\n<textarea name=\"soru\" id=\"soru\" class=\"textarea\" placeholder=\"Sorunuz *\" style=\"height:265px;\"></textarea>\\r\\n</div>\\r\\n\\r\\n<span style=\"color:red; font-weight:bold;\">Kişisel bilgileriniz tam ve doğru bir şekilde girilmediği sürece sorularınız cevaplanmayacaktır.</span>\\r\\n\\r\\n\\r\\n<!--//\\r\\n/* *******************************************************\\r\\nSoftware: Web Wiz CAPTCHA(TM) ver. \\r\\nInfo: http://www.WebWizCAPTCHA.com\\r\\nCopyright: (C)2005-2013 Web Wiz Ltd. All rights reserved\\r\\n******************************************************* */\\r\\n//-->\\r\\n<script language=\"javaScript\">\\r\\nfunction reloadCAPTCHA() {\\r\\n\\tdocument.getElementById(\\'CAPTCHA\\').src=\\'/captcha/CAPTCHA_image.asp?\\'+Date();\\r\\n}\\r\\n</script>           \\r\\n\\r\\n\\r\\n<div id=\"GuvenlikKutulari\">\\r\\n<div><img src=\"/captcha/CAPTCHA_image.asp\" id=\"CAPTCHA\" width=\"120\" height=\"50\" style=\"-webkit-border-radius:5px; -moz-border-radius:5px; border-radius:5px;\"/></div>\\r\\n<div><a href=\"javascript:reloadCAPTCHA();\" title=\"Yenile\"><img src=\"/captcha/images/refresh.png\" alt=\"Yenile\" style=\"-webkit-border-radius:5px; -moz-border-radius:5px; border-radius:5px;\"></a></div>\\r\\n<input type=\"hidden\" name=\"CAPTCHA_Postback\" id=\"CAPTCHA_Postback\" value=\"true\" />\\r\\n<div><input type=\"text\" name=\"securityCode\" id=\"securityCode\" size=\"12\" maxlength=\"5\" autocomplete=\"off\" class=\"Captcha_Input\" placeholder=\"Kodu Yaz\"/></div>\\r\\n<div><input type=\"button\" id=\"IletisimButonGonder\" value=\"\" class=\"Gonder_Buton\"/></div>\\r\\n</div>\\r\\n</form>\\r\\n\\r\\n</div>\\r\\n\\r\\n\\r\\n<h1 id=\"Detay_Baslik\">Sorulmuş Sorular ve Cevapları</h1>\\r\\n<div id=\"Detay_Icerik\">\\r\\n\\r\\n\\r\\n \\r\\n  \\r\\n\\r\\n<div id=\"Soru\">\\r\\n<ul>\\r\\n\\r\\n<li>\\r\\n<div id=\"Adi\"><span>P**** *****</span> sordu,</div>\\r\\n<div id=\"Soru\">Ortak ıkı cocugumuz bulunan ancak gorusmedıgım kısı cezaevıne, gırmıs. Çocuklar, benım yanımda ancak e, devlette, velılerı Baba göründüğü ıcın ben yasak olarak hıcbır, işlem yapamıyorum oğlumla ılgılı. Onbeş, yasında, lısede, bölüm degıstırmek ıstıyor. Bu durumun duzeltılebılmesı adına hukukı olarak ne yapabılırım.? Bılgılendırırsenız mınnettar, olurum</div>\\r\\n<div id=\"Cevap\">\\r\\n<div class=\"Resim\"><img src=\"/images/muhasebecevap.jpg\"/></div>\\r\\n<div class=\"DoktorBilgiler\">\\r\\n<div class=\"DoktorAdi\">YH Grup</div>\\r\\n<div class=\"DoktorUnvani\">Hukuk Bilgi Platformu</div>\\r\\n<div class=\"DoktorCevabi\">Merhaba, söz konusu sizin durumunuza ilişkin olarak velayet sahibi olan ebeveyn cezaevine girdiği için velayet hakkının el değiştirmesi mümkündür. Yani velayet değişikliği davası açarak bu durumu düzeltebilirsiniz.</div>\\r\\n</div>\\r\\n</div>\\r\\n</li>\\r\\n\\r\\n<li>\\r\\n<div id=\"Adi\"><span>S**** *****</span> sordu,</div>\\r\\n<div id=\"Soru\">Merhaba ev sahibi evden çıkardı bizi evi yaptırıp kendim oturacağım diye. Bizde kendilerine inanarak evi boşalttık ama herhangi bir ihtar falan çekmedi bize.inandik oturacaklarina. Şuan evi ilana koymuş kiralığa çıkarmış.bu durumda şikayet etme hakkım bulunuyormu acaba?</div>\\r\\n<div id=\"Cevap\">\\r\\n<div class=\"Resim\"><img src=\"/images/muhasebecevap.jpg\"/></div>\\r\\n<div class=\"DoktorBilgiler\">\\r\\n<div class=\"DoktorAdi\">YH Grup</div>\\r\\n<div class=\"DoktorUnvani\">Hukuk Bilgi Platformu</div>\\r\\n<div class=\"DoktorCevabi\">Merhaba, ev sahibi ihtiyacı olduğundan ve kendisi oturacağından bahisle kiracıyı dava yolu ile çıkardığı takdirde; kiracının bir yıllık kira bedelinden az olmamak üzere tazminat hakkı bulunmaktadır. Fakat kiracı, kendisine evin tahliyesi için dava açılmaksızın doğrudan kiralananı tahliye etmesi halinde böyle bir tazminat talep hakkı bulunmamaktadır.</div>\\r\\n</div>\\r\\n</div>\\r\\n</li>\\r\\n\\r\\n<li>\\r\\n<div id=\"Adi\"><span>O**** *****</span> sordu,</div>\\r\\n<div id=\"Soru\">5 ay önce eşimle ayrıldık eski eşime nafaka ödemiyorum sadece 2 oğlum var onlara 3 birine 3 de birine nafaka ödüyorum ama şuan işimden atıldım çalışmıyorum bu nafakayıda verebilecek durumum yok dava açsam nafakanın fiyatını düşürebilir miyiz yada çocuklardan birini ben alsam ne önerirsiniz. \\r\\n\\r\\nNot:eski iş yerinde 33500 tl alıyordum rahat ödüyordum şuan başka bi işe başlasam asgeri üç ret veriyorlar üstünü veren yok o yüzden çok çaresizim napmam gerekiyor. \\r\\nYeni ev aldım aylık ödemesi 23500+5000  toplam:28500 tl  ödemem var 6000 tl nafaka ödeyecek durumum yok napmam gerekiyor eski eşim haciz işlemi başlatacağını söylüyor lütfen yardımcı olurmusunuz</div>\\r\\n<div id=\"Cevap\">\\r\\n<div class=\"Resim\"><img src=\"/images/muhasebecevap.jpg\"/></div>\\r\\n<div class=\"DoktorBilgiler\">\\r\\n<div class=\"DoktorAdi\">YH Grup</div>\\r\\n<div class=\"DoktorUnvani\">Hukuk Bilgi Platformu</div>\\r\\n<div class=\"DoktorCevabi\">Merhaba, çocuklarınız için ödemiş olduğunuz iştirak nafakası velayeti siz aldığınız takdirde ödeme yükümlülüğünden kurtulacağınız bir nafaka türüdür. Fakat dilerseniz dava açarak söz konusu yaşadığınız maddi güçlüğü dile getirdiğiniz takdirde mahkeme gelir düzeyinizi göz önüne alarak, nafaka miktarını\\xa0düşürebilir.</div>\\r\\n</div>\\r\\n</div>\\r\\n</li>\\r\\n\\r\\n<li>\\r\\n<div id=\"Adi\"><span>E**** *****</span> sordu,</div>\\r\\n<div id=\"Soru\">Merhaba,\\r\\nÖzel sektör çalışanıyım 2 buçuk ay oldu maaş alamıyorum bir açıklama yapılmıyor. İşe gitmeme hakkım var mı. </div>\\r\\n<div id=\"Cevap\">\\r\\n<div class=\"Resim\"><img src=\"/images/muhasebecevap.jpg\"/></div>\\r\\n<div class=\"DoktorBilgiler\">\\r\\n<div class=\"DoktorAdi\">YH Grup</div>\\r\\n<div class=\"DoktorUnvani\">Hukuk Bilgi Platformu</div>\\r\\n<div class=\"DoktorCevabi\">Merhaba, ücreti; ödeme gününden itibaren 20 gün içinde mücbir bir neden dışında ödenmeyen işçi, İş görme borcunu yerine getirmekten\\xa0kaçınabilir.</div>\\r\\n</div>\\r\\n</div>\\r\\n</li>\\r\\n\\r\\n<li>\\r\\n<div id=\"Adi\"><span>A**** *****</span> sordu,</div>\\r\\n<div id=\"Soru\">Tüketici hakları hakem heyetine iade kargo ödemesinin haksız yere alındığına dair üç firma için başvuruda bulundum… heyet beni haklı buldu ve alınan kargo ücretlerinin iadesine karar verdi .., firmanın biri verdi ikisi vermedi .., ne yapmam lazım</div>\\r\\n<div id=\"Cevap\">\\r\\n<div class=\"Resim\"><img src=\"/images/muhasebecevap.jpg\"/></div>\\r\\n<div class=\"DoktorBilgiler\">\\r\\n<div class=\"DoktorAdi\">YH Grup</div>\\r\\n<div class=\"DoktorUnvani\">Hukuk Bilgi Platformu</div>\\r\\n<div class=\"DoktorCevabi\">Merhaba, ücret iadesi yapmayan firmaları Tüketici Hakem Heyetine bildirebilirsiniz.</div>\\r\\n</div>\\r\\n</div>\\r\\n</li>\\r\\n\\r\\n<li>\\r\\n<div id=\"Adi\"><span>M**** *****</span> sordu,</div>\\r\\n<div id=\"Soru\">Türk Silahlı Kuvvetleri Sağlık Yeteneği Yönetmeliği esas alınmayarak askeri heyetten elendim, Resmi Gazete ile Düzeltilmiş bir rahatsızlık uzman çavuş olmaya engel teşkil etmez diyor fakat doktorlar umursamadan heyetten eliyorlar. Hakkımı savunabilecek bir avukat arıyorum konu ile alakalı yardımcı olurmusunuz \\r\\nTSK SYY Madde 63/A F/3  2023/02.24 32114 sayılı resmi gazete ile düzeltilmiştir derdimi kimseye anlatamıyorum. Asker olup görevimi yerine getirmek istiyorum </div>\\r\\n<div id=\"Cevap\">\\r\\n<div class=\"Resim\"><img src=\"/images/muhasebecevap.jpg\"/></div>\\r\\n<div class=\"DoktorBilgiler\">\\r\\n<div class=\"DoktorAdi\">YH Grup</div>\\r\\n<div class=\"DoktorUnvani\">Hukuk Bilgi Platformu</div>\\r\\n<div class=\"DoktorCevabi\">Merhaba, öncelikle uzman çavuş olmanıza engel teşkil ettiğinden bahisle heyetten elenmenize neden olan rahatsızlığınız nedir? Eğer  bir hak kaybı mevcutsa bu konuya ilişkin olarak dava\\xa0açabilirsiniz.</div>\\r\\n</div>\\r\\n</div>\\r\\n</li>\\r\\n\\r\\n<li>\\r\\n<div id=\"Adi\"><span>Ş**** *****</span> sordu,</div>\\r\\n<div id=\"Soru\">Merhabalar, En zor davalarda bile oldukça başarılı değerli bir Organizasyon olduğunuzu duydum ve size danışmak istedim, Efendim ben 10 ay önce işten ayrıldım ve iş çıkış kodunu 44 olarak girmişler halbuki ben istifamı yazıp gittim 03 olması  gerekiyor işverenim  ile konuştuğumda  bir şey yapamayız diyip sehven dilekçesini  vermeyi kabul etmedi ,Mahkemede çok uzun sürüyor Ben üniversite öğrencisiyim bir işverenin yapmış? olduğu hata yüzünden bizler mağdur oluyoruz ,mahkemeler de çok uzun sürüyor ,Şikayete tabii ispatı  kolay sgk ya Şikayet olmadığına dair ispatlı  belge verirsem ve istifa dilekçemi verirsem düzeltilir mi Kod 22 ye veya 41 e çevrilir mi\\r\\nVeya mahkeme, işverenle?görüşmek?dışında herhangi bir yol var mı  İllaki vardır bu yüzden size danışmak istedim \\r\\nLütfen bütün seçenekleri detaylıca açıklar mısınız bana yardım edin yalvarırım.\\r\\n</div>\\r\\n<div id=\"Cevap\">\\r\\n<div class=\"Resim\"><img src=\"/images/muhasebecevap.jpg\"/></div>\\r\\n<div class=\"DoktorBilgiler\">\\r\\n<div class=\"DoktorAdi\">YH Grup</div>\\r\\n<div class=\"DoktorUnvani\">Hukuk Bilgi Platformu</div>\\r\\n<div class=\"DoktorCevabi\">Merhaba, işten çıkış kodu, işçinin işten ayrılmasından itibaren, 10 gün içerisinde düzenlenmelidir. İşten çıkış kodu hatalı olarak verilen ya da bilinçli olarak yanlış yazılan işçi, işverene 10 gün içerisinde başvuru yapmalıdır. Bu süre içerisinde başvuru yapıldığı takdirde, işverenin kodu değiştirmesinde bir sakınca bulunmamaktadır. Ancak işveren kötüniyetli olarak işten çıkış kodunu yanlış bildirmiş ise, daha sonra işçi alacağı davası ile karşılaşmamak için bu talebi reddedecek ve düzeltmeyecektir. 10 günlük süre geçtikten sonra işveren kod değişikliği yapamayacaktır. Bu süre geçtikten sonra kod değişikliği, ancak işyerinin bulunduğu yer Sosyal Güvenlik Kurumuna başvuru yapılarak, kodun değişmesini gerektiren belgeler sunularak yapılır. Fakat  işçi tek başına, işten çıkış kodunun değiştirilmesi için, işkur ya da sgk ya başvuru yapamaz. Bu konuda 2013/11 sayılı Sgk Genelgesine göre; sigortalıların işten ayrılış nedenine yönelik talepleri işverenle birlikte müracaat etmişse değiştirilecek, bunun dışında sigortalı taleplerinde işten ayrılış nedeni ile ilgili herhangi bir değişiklik yapılmamaktadır.</div>\\r\\n</div>\\r\\n</div>\\r\\n</li>\\r\\n\\r\\n<li>\\r\\n<div id=\"Adi\"><span>K**** *****</span> sordu,</div>\\r\\n<div id=\"Soru\">İyi günler ben bir yıllık kiracıyım benim kira sözleşmem 29.06.2023 tarihinde ama benim kira tarihim her ayın 5ila10u arası ilk kira tarihim 05.07.2023 benim bu sene ki zammın kanunen nedir %25 ten mi zam yapılması gerekli bir bilgi verebilir misiniz </div>\\r\\n<div id=\"Cevap\">\\r\\n<div class=\"Resim\"><img src=\"/images/muhasebecevap.jpg\"/></div>\\r\\n<div class=\"DoktorBilgiler\">\\r\\n<div class=\"DoktorAdi\">YH Grup</div>\\r\\n<div class=\"DoktorUnvani\">Hukuk Bilgi Platformu</div>\\r\\n<div class=\"DoktorCevabi\">Merhaba, konut kira artış oranındaki %25 zam sınırlaması 1 temmuz 2024 tarihine kadar geçerlidir. Yani 1 temmuz 2024 tarihinden sonra konut kiralarındaki yüzde 25 zam sınırlaması yasası ortadan\\xa0kalkacak.</div>\\r\\n</div>\\r\\n</div>\\r\\n</li>\\r\\n\\r\\n<li>\\r\\n<div id=\"Adi\"><span>E**** *****</span> sordu,</div>\\r\\n<div id=\"Soru\">Anneme çıkan tokinin taksitleri yüksek geldi ödeyemeyecek. bu nedenle bir yıl dolunca bende bankadan sözleşme ile devralmak istiyorum. Kardeşim şimdi almak istemiyor. Ve Bu sürede ben ödeyeceğim taksitleri ama satış için toplu para almayacak ele gitmesin diye. Kardeşim sonra bana mal kaçırma davası açabilir mi\\r\\nÇok teşekkür ederim </div>\\r\\n<div id=\"Cevap\">\\r\\n<div class=\"Resim\"><img src=\"/images/muhasebecevap.jpg\"/></div>\\r\\n<div class=\"DoktorBilgiler\">\\r\\n<div class=\"DoktorAdi\">YH Grup</div>\\r\\n<div class=\"DoktorUnvani\">Hukuk Bilgi Platformu</div>\\r\\n<div class=\"DoktorCevabi\">Merhaba, her ne kadar ilerde dava açsa bile eğer aranızda yazılı bir anlaşma yaparsanız bu durumu ileri\\xa0süremeyecektir.</div>\\r\\n</div>\\r\\n</div>\\r\\n</li>\\r\\n\\r\\n<li>\\r\\n<div id=\"Adi\"><span>H**** *****</span> sordu,</div>\\r\\n<div id=\"Soru\">Merhaba ben bir spor salonunun 2017den beri üyesiydim temizlik personeli desrlerde sürekli bizleri izliyordu defalarca şikayet ettik sonuç alamadık eleman bulamıyoruz gibi bahaneler sunuldu son yine bisiklet dersinde yine aynı şeyi yapınca gittik yanına müdürde yanındaydı ofisin önünde ben abi niye bakıyorsun dedim bana ağzında sakızla lakayt bir şekilde bakarım dedi bende bakamazsın dedim yasakmı diye devam etti bunun üzerine müdür personeli abi işine bak sen deyip bana onca insan içinde sanki köpek kovar gibi el hareketi ile hadi hadi dedi bende benimle böyle konuşamazsınız dedim yine aynı şekilde devam etti ve seseni yükselterek bende kendimi savundum tabiki bunu üzerine bağırarak adını soyadını ver diye onca insan içinde saygısızca davrandı hem kendi hem personeli saygısızlık yaptı şikayet ettim genel müdürlüğe gelip kamera kayıtlarına bakmışlar fakat kayıtlarda ses yok benimle hiç iletişime geçilmedi maail yoluyla üyeliğimi iptal ettiklerini söylediler burda haksızlığa uğrayan saygısızlığa uğrayan bendim bir sürü yalan kılıf uydurmuşlar uzun yazdım özür dilerim burda ben nasıl bir yol izleyebilirim hakkımı aramak istiyorum sizden ricam bir bilgi yol gösterebilirmisiniz</div>\\r\\n<div id=\"Cevap\">\\r\\n<div class=\"Resim\"><img src=\"/images/muhasebecevap.jpg\"/></div>\\r\\n<div class=\"DoktorBilgiler\">\\r\\n<div class=\"DoktorAdi\">YH Grup</div>\\r\\n<div class=\"DoktorUnvani\">Hukuk Bilgi Platformu</div>\\r\\n<div class=\"DoktorCevabi\">Merhaba, söz konusu yaşadığınız duruma ilişkin olarak olaylara şahit olan bir tanığınız var mıydı? Eğer varsa ve tartışma esnasında hakaret içeren bir durum vardıysa hem bu duruma ilişkin hem de temizlik personelinin davranışına ilişkin olarak savcılığa suç duyurusunda bulunabilirsiniz.</div>\\r\\n</div>\\r\\n</div>\\r\\n</li>\\r\\n \\r\\n</ul>\\r\\n</div>\\r\\n\\r\\n\\r\\n <ul class=\"sayfalama\"><li><a href=\"/sorucevap/?sayfa=1\" class=\"secili\">1</a></li><li><a href=\"/sorucevap/?sayfa=2\">2</a></li><li><a href=\"/sorucevap/?sayfa=3\">3</a></li><li><a href=\"/sorucevap/?sayfa=4\">4</a></li><li><a href=\"/sorucevap/?sayfa=5\">5</a></li><li><a href=\"/sorucevap/?sayfa=6\">6</a></li><li><a href=\"/sorucevap/?sayfa=7\">7</a></li><li><a href=\"/sorucevap/?sayfa=8\">8</a></li><li><a href=\"/sorucevap/?sayfa=9\">9</a></li><li><a href=\"/sorucevap/?sayfa=10\">10</a></li><li><a href=\"/sorucevap/?sayfa=11\">11</a></li><li><a href=\"/sorucevap/?sayfa=12\">12</a></li><li><a href=\"/sorucevap/?sayfa=13\">13</a></li><li><a href=\"/sorucevap/?sayfa=14\">14</a></li><li><a href=\"/sorucevap/?sayfa=15\">15</a></li><li><a href=\"/sorucevap/?sayfa=16\">16</a></li><li><a href=\"/sorucevap/?sayfa=17\">17</a></li><li><a href=\"/sorucevap/?sayfa=18\">18</a></li><li><a href=\"/sorucevap/?sayfa=19\">19</a></li><li><a href=\"/sorucevap/?sayfa=20\">20</a></li><li><a href=\"/sorucevap/?sayfa=21\">21</a></li><li><a href=\"/sorucevap/?sayfa=22\">22</a></li><li><a href=\"/sorucevap/?sayfa=23\">23</a></li><li><a href=\"/sorucevap/?sayfa=24\">24</a></li><li><a href=\"/sorucevap/?sayfa=25\">25</a></li><li><a href=\"/sorucevap/?sayfa=26\">26</a></li><li><a href=\"/sorucevap/?sayfa=27\">27</a></li><li><a href=\"/sorucevap/?sayfa=28\">28</a></li><li><a href=\"/sorucevap/?sayfa=29\">29</a></li><li><a href=\"/sorucevap/?sayfa=30\">30</a></li><li><a href=\"/sorucevap/?sayfa=31\">31</a></li><li><a href=\"/sorucevap/?sayfa=32\">32</a></li><li><a href=\"/sorucevap/?sayfa=33\">33</a></li><li><a href=\"/sorucevap/?sayfa=34\">34</a></li><li><a href=\"/sorucevap/?sayfa=35\">35</a></li><li><a href=\"/sorucevap/?sayfa=36\">36</a></li></ul>\\r\\n\\r\\n\\r\\n\\r\\n\\r\\n</div>\\r\\n\\r\\n<script type=\"text/javascript\">\\r\\n$(\"#IletisimButonGonder\").click(function () {\\r\\nIletisim_CaptchaKontrol();\\r\\n});                                               \\r\\n\\r\\nfunction Iletisim_CaptchaKontrol() {\\r\\nvar GuvenlikKodu = $(\"#securityCode\").val();\\r\\n$.ajax({\\r\\ntype: \"GET\",\\r\\ncontentType: \"application/json; charset=utf-8\",\\r\\nurl: \"/captcha/captcha_kontrol.asp?securityCode=\" + GuvenlikKodu,\\r\\nasync: true,\\r\\nsuccess: function (data, textStatus) {\\r\\nvar sonuc = data;\\r\\nif(data == \"TAMAM\"){\\r\\nformkontrol();\\r\\n}else{\\r\\nalert(data);\\r\\n$( \"#securityCode\" ).focus();\\r\\n}\\r\\n}\\r\\n});\\r\\n}\\r\\n</script>\\r\\n\\r\\n\\r\\n\\r\\n</div>\\r\\n<!--/Detay Bitişi-->\\r\\n\\r\\n</div>\\r\\n<!--/Ortala Bitişi-->\\r\\n\\r\\n\\r\\n<!--Alt Blok Başlangıcı-->\\r\\n<div id=\"AltBlok\">\\r\\n<div id=\"AltBlok_Ici\">\\r\\n\\r\\n<div id=\"Copyright\">Tüm Hakları Saklıdır © 2024 - YH Grup | Hukuk Bilgi Platformu<br/>\\r\\nYayınladığımız yazıların içeriği firmamızın sorumluluğu dışındadır. Fotoğraf ve yazılar izinsiz kullanılamaz.</div>\\r\\n<div id=\"Tasarim\"><a href=\"http://www.webzane.net\" target=\"_blank\">web tasarım : webzane</a><a href=\"/blog\" style=\"display:none;\">blog</a></div>\\r\\n\\r\\n</div>\\r\\n</div>\\r\\n<!--/Alt Blok Bitişi-->\\r\\n\\r\\n\\r\\n\\r\\n</body>\\r\\n</html>'"
      ]
     },
     "execution_count": 19,
     "metadata": {},
     "output_type": "execute_result"
    }
   ],
   "source": []
  },
  {
   "cell_type": "code",
   "execution_count": 16,
   "metadata": {},
   "outputs": [],
   "source": [
    "tum_sorular = []"
   ]
  },
  {
   "cell_type": "code",
   "execution_count": null,
   "metadata": {},
   "outputs": [],
   "source": [
    "{\n",
    "  \"soru\": \"soru metni\",\n",
    "  \"cevap\": \"cevap metni\",\n",
    "  \"cevaplayan_unvan\": \"cevaplayanın adı\",\n",
    "}"
   ]
  },
  {
   "cell_type": "code",
   "execution_count": 31,
   "metadata": {},
   "outputs": [],
   "source": [
    "def temizle(metin):\n",
    "  metin = metin.replace(\"\\n\", \" \").replace(\"\\t\", \" \").replace(\"\\r\", \" \")\n",
    "  while \"  \" in metin:\n",
    "    metin = metin.replace(\"  \", \" \")\n",
    "  return metin.strip()"
   ]
  },
  {
   "cell_type": "code",
   "execution_count": 32,
   "metadata": {},
   "outputs": [
    {
     "data": {
      "text/plain": [
       "354"
      ]
     },
     "execution_count": 32,
     "metadata": {},
     "output_type": "execute_result"
    }
   ],
   "source": [
    "tum_sorular = []\n",
    "for i in range(1, 37):\n",
    "    response = requests.get('https://www.hukuksorucevap.com.tr/sorucevap/?sayfa=' + str(i))\n",
    "    response.encoding = 'utf-8'\n",
    "    soup = BeautifulSoup(response.text, 'html.parser')\n",
    "    soru = soup.find('div', {'id': 'Soru'})\n",
    "    sorular = soru.find_all('li')\n",
    "    for soru_li in sorular:\n",
    "        soru_dict = {}\n",
    "        soru_metni = soru_li.find('div', {'id': 'Soru'}).text\n",
    "        soru_dict['soru'] = temizle(soru_metni)\n",
    "        \n",
    "        cevap_metni = soru_li.find('div', {'id': 'Cevap'}).find('div', {'class': 'DoktorCevabi'}).text\n",
    "        soru_dict['cevap'] = temizle(cevap_metni)\n",
    "\n",
    "        cevaplayan_unvan = soru_li.find('div', {'id': 'Cevap'}).find('div', {'class': 'DoktorUnvani'}).text\n",
    "        soru_dict['cevaplayan_unvan'] = temizle(cevaplayan_unvan)\n",
    "\n",
    "        tum_sorular.append(soru_dict)\n",
    "\n",
    "len(tum_sorular)"
   ]
  },
  {
   "cell_type": "code",
   "execution_count": 33,
   "metadata": {},
   "outputs": [
    {
     "data": {
      "text/html": [
       "<div>\n",
       "<style scoped>\n",
       "    .dataframe tbody tr th:only-of-type {\n",
       "        vertical-align: middle;\n",
       "    }\n",
       "\n",
       "    .dataframe tbody tr th {\n",
       "        vertical-align: top;\n",
       "    }\n",
       "\n",
       "    .dataframe thead th {\n",
       "        text-align: right;\n",
       "    }\n",
       "</style>\n",
       "<table border=\"1\" class=\"dataframe\">\n",
       "  <thead>\n",
       "    <tr style=\"text-align: right;\">\n",
       "      <th></th>\n",
       "      <th>soru</th>\n",
       "      <th>cevap</th>\n",
       "      <th>cevaplayan_unvan</th>\n",
       "    </tr>\n",
       "  </thead>\n",
       "  <tbody>\n",
       "    <tr>\n",
       "      <th>0</th>\n",
       "      <td>Ortak ıkı cocugumuz bulunan ancak gorusmedıgım...</td>\n",
       "      <td>Merhaba, söz konusu sizin durumunuza ilişkin o...</td>\n",
       "      <td>Hukuk Bilgi Platformu</td>\n",
       "    </tr>\n",
       "    <tr>\n",
       "      <th>1</th>\n",
       "      <td>Merhaba ev sahibi evden çıkardı bizi evi yaptı...</td>\n",
       "      <td>Merhaba, ev sahibi ihtiyacı olduğundan ve kend...</td>\n",
       "      <td>Hukuk Bilgi Platformu</td>\n",
       "    </tr>\n",
       "    <tr>\n",
       "      <th>2</th>\n",
       "      <td>5 ay önce eşimle ayrıldık eski eşime nafaka öd...</td>\n",
       "      <td>Merhaba, çocuklarınız için ödemiş olduğunuz iş...</td>\n",
       "      <td>Hukuk Bilgi Platformu</td>\n",
       "    </tr>\n",
       "    <tr>\n",
       "      <th>3</th>\n",
       "      <td>Merhaba, Özel sektör çalışanıyım 2 buçuk ay ol...</td>\n",
       "      <td>Merhaba, ücreti; ödeme gününden itibaren 20 gü...</td>\n",
       "      <td>Hukuk Bilgi Platformu</td>\n",
       "    </tr>\n",
       "    <tr>\n",
       "      <th>4</th>\n",
       "      <td>Tüketici hakları hakem heyetine iade kargo öde...</td>\n",
       "      <td>Merhaba, ücret iadesi yapmayan firmaları Tüket...</td>\n",
       "      <td>Hukuk Bilgi Platformu</td>\n",
       "    </tr>\n",
       "    <tr>\n",
       "      <th>...</th>\n",
       "      <td>...</td>\n",
       "      <td>...</td>\n",
       "      <td>...</td>\n",
       "    </tr>\n",
       "    <tr>\n",
       "      <th>349</th>\n",
       "      <td>Arabuluculuk evrakında başvuru sahibi patronum...</td>\n",
       "      <td>İyi Günler, Konuyu tam olarak açıklamamışsınız...</td>\n",
       "      <td>Hukuk Bilgi Platformu</td>\n",
       "    </tr>\n",
       "    <tr>\n",
       "      <th>350</th>\n",
       "      <td>Merhaba, Boşanma süreci içerisindeyim ikiz çoc...</td>\n",
       "      <td>İyi Günler, Avuakt doğru söylüyor, kişisel ili...</td>\n",
       "      <td>Hukuk Bilgi Platformu</td>\n",
       "    </tr>\n",
       "    <tr>\n",
       "      <th>351</th>\n",
       "      <td>İyi günler Ayrıldığım iş yerinde sigortayı yat...</td>\n",
       "      <td>İyi Günler, İcra takibi ile alacak takibine ba...</td>\n",
       "      <td>Hukuk Bilgi Platformu</td>\n",
       "    </tr>\n",
       "    <tr>\n",
       "      <th>352</th>\n",
       "      <td>Calisdiyim özel firmada 6 aydir calismaktayim ...</td>\n",
       "      <td>İyi Günler, Hizmet tespit davası açmamız gerek...</td>\n",
       "      <td>Hukuk Bilgi Platformu</td>\n",
       "    </tr>\n",
       "    <tr>\n",
       "      <th>353</th>\n",
       "      <td>15.10.2021 tarihinde ikamet etmekte olduğum da...</td>\n",
       "      <td>İyi Günler, İhtarname´ in içeriği hatalı olmuş...</td>\n",
       "      <td>Hukuk Bilgi Platformu</td>\n",
       "    </tr>\n",
       "  </tbody>\n",
       "</table>\n",
       "<p>354 rows × 3 columns</p>\n",
       "</div>"
      ],
      "text/plain": [
       "                                                  soru  \\\n",
       "0    Ortak ıkı cocugumuz bulunan ancak gorusmedıgım...   \n",
       "1    Merhaba ev sahibi evden çıkardı bizi evi yaptı...   \n",
       "2    5 ay önce eşimle ayrıldık eski eşime nafaka öd...   \n",
       "3    Merhaba, Özel sektör çalışanıyım 2 buçuk ay ol...   \n",
       "4    Tüketici hakları hakem heyetine iade kargo öde...   \n",
       "..                                                 ...   \n",
       "349  Arabuluculuk evrakında başvuru sahibi patronum...   \n",
       "350  Merhaba, Boşanma süreci içerisindeyim ikiz çoc...   \n",
       "351  İyi günler Ayrıldığım iş yerinde sigortayı yat...   \n",
       "352  Calisdiyim özel firmada 6 aydir calismaktayim ...   \n",
       "353  15.10.2021 tarihinde ikamet etmekte olduğum da...   \n",
       "\n",
       "                                                 cevap       cevaplayan_unvan  \n",
       "0    Merhaba, söz konusu sizin durumunuza ilişkin o...  Hukuk Bilgi Platformu  \n",
       "1    Merhaba, ev sahibi ihtiyacı olduğundan ve kend...  Hukuk Bilgi Platformu  \n",
       "2    Merhaba, çocuklarınız için ödemiş olduğunuz iş...  Hukuk Bilgi Platformu  \n",
       "3    Merhaba, ücreti; ödeme gününden itibaren 20 gü...  Hukuk Bilgi Platformu  \n",
       "4    Merhaba, ücret iadesi yapmayan firmaları Tüket...  Hukuk Bilgi Platformu  \n",
       "..                                                 ...                    ...  \n",
       "349  İyi Günler, Konuyu tam olarak açıklamamışsınız...  Hukuk Bilgi Platformu  \n",
       "350  İyi Günler, Avuakt doğru söylüyor, kişisel ili...  Hukuk Bilgi Platformu  \n",
       "351  İyi Günler, İcra takibi ile alacak takibine ba...  Hukuk Bilgi Platformu  \n",
       "352  İyi Günler, Hizmet tespit davası açmamız gerek...  Hukuk Bilgi Platformu  \n",
       "353  İyi Günler, İhtarname´ in içeriği hatalı olmuş...  Hukuk Bilgi Platformu  \n",
       "\n",
       "[354 rows x 3 columns]"
      ]
     },
     "execution_count": 33,
     "metadata": {},
     "output_type": "execute_result"
    }
   ],
   "source": [
    "# convert tum_sorular to a DataFrame\n",
    "df = pd.DataFrame(tum_sorular)\n",
    "df"
   ]
  },
  {
   "cell_type": "code",
   "execution_count": 34,
   "metadata": {},
   "outputs": [],
   "source": [
    "df.to_csv('hukuksorucevap.csv', index=False, encoding='utf-8')"
   ]
  },
  {
   "cell_type": "code",
   "execution_count": 35,
   "metadata": {},
   "outputs": [
    {
     "data": {
      "text/html": [
       "<div>\n",
       "<style scoped>\n",
       "    .dataframe tbody tr th:only-of-type {\n",
       "        vertical-align: middle;\n",
       "    }\n",
       "\n",
       "    .dataframe tbody tr th {\n",
       "        vertical-align: top;\n",
       "    }\n",
       "\n",
       "    .dataframe thead th {\n",
       "        text-align: right;\n",
       "    }\n",
       "</style>\n",
       "<table border=\"1\" class=\"dataframe\">\n",
       "  <thead>\n",
       "    <tr style=\"text-align: right;\">\n",
       "      <th></th>\n",
       "      <th>soru</th>\n",
       "      <th>cevap</th>\n",
       "      <th>cevaplayan_unvan</th>\n",
       "    </tr>\n",
       "  </thead>\n",
       "  <tbody>\n",
       "    <tr>\n",
       "      <th>0</th>\n",
       "      <td>Ortak ıkı cocugumuz bulunan ancak gorusmedıgım...</td>\n",
       "      <td>Merhaba, söz konusu sizin durumunuza ilişkin o...</td>\n",
       "      <td>Hukuk Bilgi Platformu</td>\n",
       "    </tr>\n",
       "    <tr>\n",
       "      <th>1</th>\n",
       "      <td>Merhaba ev sahibi evden çıkardı bizi evi yaptı...</td>\n",
       "      <td>Merhaba, ev sahibi ihtiyacı olduğundan ve kend...</td>\n",
       "      <td>Hukuk Bilgi Platformu</td>\n",
       "    </tr>\n",
       "    <tr>\n",
       "      <th>2</th>\n",
       "      <td>5 ay önce eşimle ayrıldık eski eşime nafaka öd...</td>\n",
       "      <td>Merhaba, çocuklarınız için ödemiş olduğunuz iş...</td>\n",
       "      <td>Hukuk Bilgi Platformu</td>\n",
       "    </tr>\n",
       "    <tr>\n",
       "      <th>3</th>\n",
       "      <td>Merhaba, Özel sektör çalışanıyım 2 buçuk ay ol...</td>\n",
       "      <td>Merhaba, ücreti; ödeme gününden itibaren 20 gü...</td>\n",
       "      <td>Hukuk Bilgi Platformu</td>\n",
       "    </tr>\n",
       "    <tr>\n",
       "      <th>4</th>\n",
       "      <td>Tüketici hakları hakem heyetine iade kargo öde...</td>\n",
       "      <td>Merhaba, ücret iadesi yapmayan firmaları Tüket...</td>\n",
       "      <td>Hukuk Bilgi Platformu</td>\n",
       "    </tr>\n",
       "    <tr>\n",
       "      <th>...</th>\n",
       "      <td>...</td>\n",
       "      <td>...</td>\n",
       "      <td>...</td>\n",
       "    </tr>\n",
       "    <tr>\n",
       "      <th>349</th>\n",
       "      <td>Arabuluculuk evrakında başvuru sahibi patronum...</td>\n",
       "      <td>İyi Günler, Konuyu tam olarak açıklamamışsınız...</td>\n",
       "      <td>Hukuk Bilgi Platformu</td>\n",
       "    </tr>\n",
       "    <tr>\n",
       "      <th>350</th>\n",
       "      <td>Merhaba, Boşanma süreci içerisindeyim ikiz çoc...</td>\n",
       "      <td>İyi Günler, Avuakt doğru söylüyor, kişisel ili...</td>\n",
       "      <td>Hukuk Bilgi Platformu</td>\n",
       "    </tr>\n",
       "    <tr>\n",
       "      <th>351</th>\n",
       "      <td>İyi günler Ayrıldığım iş yerinde sigortayı yat...</td>\n",
       "      <td>İyi Günler, İcra takibi ile alacak takibine ba...</td>\n",
       "      <td>Hukuk Bilgi Platformu</td>\n",
       "    </tr>\n",
       "    <tr>\n",
       "      <th>352</th>\n",
       "      <td>Calisdiyim özel firmada 6 aydir calismaktayim ...</td>\n",
       "      <td>İyi Günler, Hizmet tespit davası açmamız gerek...</td>\n",
       "      <td>Hukuk Bilgi Platformu</td>\n",
       "    </tr>\n",
       "    <tr>\n",
       "      <th>353</th>\n",
       "      <td>15.10.2021 tarihinde ikamet etmekte olduğum da...</td>\n",
       "      <td>İyi Günler, İhtarname´ in içeriği hatalı olmuş...</td>\n",
       "      <td>Hukuk Bilgi Platformu</td>\n",
       "    </tr>\n",
       "  </tbody>\n",
       "</table>\n",
       "<p>354 rows × 3 columns</p>\n",
       "</div>"
      ],
      "text/plain": [
       "                                                  soru  \\\n",
       "0    Ortak ıkı cocugumuz bulunan ancak gorusmedıgım...   \n",
       "1    Merhaba ev sahibi evden çıkardı bizi evi yaptı...   \n",
       "2    5 ay önce eşimle ayrıldık eski eşime nafaka öd...   \n",
       "3    Merhaba, Özel sektör çalışanıyım 2 buçuk ay ol...   \n",
       "4    Tüketici hakları hakem heyetine iade kargo öde...   \n",
       "..                                                 ...   \n",
       "349  Arabuluculuk evrakında başvuru sahibi patronum...   \n",
       "350  Merhaba, Boşanma süreci içerisindeyim ikiz çoc...   \n",
       "351  İyi günler Ayrıldığım iş yerinde sigortayı yat...   \n",
       "352  Calisdiyim özel firmada 6 aydir calismaktayim ...   \n",
       "353  15.10.2021 tarihinde ikamet etmekte olduğum da...   \n",
       "\n",
       "                                                 cevap       cevaplayan_unvan  \n",
       "0    Merhaba, söz konusu sizin durumunuza ilişkin o...  Hukuk Bilgi Platformu  \n",
       "1    Merhaba, ev sahibi ihtiyacı olduğundan ve kend...  Hukuk Bilgi Platformu  \n",
       "2    Merhaba, çocuklarınız için ödemiş olduğunuz iş...  Hukuk Bilgi Platformu  \n",
       "3    Merhaba, ücreti; ödeme gününden itibaren 20 gü...  Hukuk Bilgi Platformu  \n",
       "4    Merhaba, ücret iadesi yapmayan firmaları Tüket...  Hukuk Bilgi Platformu  \n",
       "..                                                 ...                    ...  \n",
       "349  İyi Günler, Konuyu tam olarak açıklamamışsınız...  Hukuk Bilgi Platformu  \n",
       "350  İyi Günler, Avuakt doğru söylüyor, kişisel ili...  Hukuk Bilgi Platformu  \n",
       "351  İyi Günler, İcra takibi ile alacak takibine ba...  Hukuk Bilgi Platformu  \n",
       "352  İyi Günler, Hizmet tespit davası açmamız gerek...  Hukuk Bilgi Platformu  \n",
       "353  İyi Günler, İhtarname´ in içeriği hatalı olmuş...  Hukuk Bilgi Platformu  \n",
       "\n",
       "[354 rows x 3 columns]"
      ]
     },
     "execution_count": 35,
     "metadata": {},
     "output_type": "execute_result"
    }
   ],
   "source": [
    "df_csv = pd.read_csv('hukuksorucevap.csv')\n",
    "df_csv"
   ]
  },
  {
   "cell_type": "code",
   "execution_count": null,
   "metadata": {},
   "outputs": [],
   "source": [
    "# https://www.hukuksorucevap.com.tr/sorucevap/?sayfa=1 adresindeki soru ve cevapları çekeceğiz. Toplamda 36 sayfa var.\n",
    "\n"
   ]
  }
 ],
 "metadata": {
  "kernelspec": {
   "display_name": "Python 3",
   "language": "python",
   "name": "python3"
  },
  "language_info": {
   "codemirror_mode": {
    "name": "ipython",
    "version": 3
   },
   "file_extension": ".py",
   "mimetype": "text/x-python",
   "name": "python",
   "nbconvert_exporter": "python",
   "pygments_lexer": "ipython3",
   "version": "3.9.6"
  }
 },
 "nbformat": 4,
 "nbformat_minor": 2
}
