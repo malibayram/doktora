{
 "cells": [
  {
   "cell_type": "code",
   "execution_count": 1,
   "metadata": {},
   "outputs": [
    {
     "name": "stderr",
     "output_type": "stream",
     "text": [
      "/Users/alibayram/Library/Python/3.9/lib/python/site-packages/urllib3/__init__.py:35: NotOpenSSLWarning: urllib3 v2 only supports OpenSSL 1.1.1+, currently the 'ssl' module is compiled with 'LibreSSL 2.8.3'. See: https://github.com/urllib3/urllib3/issues/3020\n",
      "  warnings.warn(\n"
     ]
    }
   ],
   "source": [
    "import pandas as pd\n",
    "\n",
    "# Login using e.g. `huggingface-cli login` to access this dataset\n",
    "hepsiburada_df = pd.read_parquet(\"hf://datasets/alibayram/hepsiburada_yorumlar/hepsiburadaYorumlar.parquet\")"
   ]
  },
  {
   "cell_type": "code",
   "execution_count": 4,
   "metadata": {},
   "outputs": [
    {
     "data": {
      "text/html": [
       "<div>\n",
       "<style scoped>\n",
       "    .dataframe tbody tr th:only-of-type {\n",
       "        vertical-align: middle;\n",
       "    }\n",
       "\n",
       "    .dataframe tbody tr th {\n",
       "        vertical-align: top;\n",
       "    }\n",
       "\n",
       "    .dataframe thead th {\n",
       "        text-align: right;\n",
       "    }\n",
       "</style>\n",
       "<table border=\"1\" class=\"dataframe\">\n",
       "  <thead>\n",
       "    <tr style=\"text-align: right;\">\n",
       "      <th></th>\n",
       "      <th>Puan</th>\n",
       "      <th>Baslik</th>\n",
       "      <th>Yorum</th>\n",
       "    </tr>\n",
       "  </thead>\n",
       "  <tbody>\n",
       "    <tr>\n",
       "      <th>0</th>\n",
       "      <td>100</td>\n",
       "      <td>Beş Yıldız</td>\n",
       "      <td>Çocukluğumu hatırlattıbana eskiden hep sabunla...</td>\n",
       "    </tr>\n",
       "    <tr>\n",
       "      <th>1</th>\n",
       "      <td>60</td>\n",
       "      <td>güzel</td>\n",
       "      <td>sorunsuz teslimat ürün güzel tebrikler</td>\n",
       "    </tr>\n",
       "    <tr>\n",
       "      <th>2</th>\n",
       "      <td>100</td>\n",
       "      <td>Hızlı kargo</td>\n",
       "      <td>Ürünü kullandıktan sonra dayanabilirlik süresi...</td>\n",
       "    </tr>\n",
       "    <tr>\n",
       "      <th>3</th>\n",
       "      <td>100</td>\n",
       "      <td>Fiyat performans ürünü</td>\n",
       "      <td>bir çok yer ve mağaza geztik fakat en uygunu b...</td>\n",
       "    </tr>\n",
       "    <tr>\n",
       "      <th>4</th>\n",
       "      <td>100</td>\n",
       "      <td>Beş Yıldız</td>\n",
       "      <td>Paranızın karşılığını alacağınız güzel bir ürü...</td>\n",
       "    </tr>\n",
       "  </tbody>\n",
       "</table>\n",
       "</div>"
      ],
      "text/plain": [
       "   Puan                  Baslik  \\\n",
       "0   100              Beş Yıldız   \n",
       "1    60                   güzel   \n",
       "2   100             Hızlı kargo   \n",
       "3   100  Fiyat performans ürünü   \n",
       "4   100              Beş Yıldız   \n",
       "\n",
       "                                               Yorum  \n",
       "0  Çocukluğumu hatırlattıbana eskiden hep sabunla...  \n",
       "1             sorunsuz teslimat ürün güzel tebrikler  \n",
       "2  Ürünü kullandıktan sonra dayanabilirlik süresi...  \n",
       "3  bir çok yer ve mağaza geztik fakat en uygunu b...  \n",
       "4  Paranızın karşılığını alacağınız güzel bir ürü...  "
      ]
     },
     "execution_count": 4,
     "metadata": {},
     "output_type": "execute_result"
    }
   ],
   "source": [
    "hepsiburada_df.head()\n",
    "\n"
   ]
  },
  {
   "cell_type": "code",
   "execution_count": 6,
   "metadata": {},
   "outputs": [
    {
     "data": {
      "text/plain": [
       "Puan\n",
       "100    1792415\n",
       "80      451369\n",
       "60      223862\n",
       "20      119928\n",
       "40       69499\n",
       "Name: count, dtype: int64"
      ]
     },
     "execution_count": 6,
     "metadata": {},
     "output_type": "execute_result"
    }
   ],
   "source": [
    "# count of Yorumm per Puan\n",
    "hepsiburada_df['Puan'].value_counts()\n",
    "\n"
   ]
  },
  {
   "cell_type": "code",
   "execution_count": 7,
   "metadata": {},
   "outputs": [
    {
     "data": {
      "text/html": [
       "<div>\n",
       "<style scoped>\n",
       "    .dataframe tbody tr th:only-of-type {\n",
       "        vertical-align: middle;\n",
       "    }\n",
       "\n",
       "    .dataframe tbody tr th {\n",
       "        vertical-align: top;\n",
       "    }\n",
       "\n",
       "    .dataframe thead th {\n",
       "        text-align: right;\n",
       "    }\n",
       "</style>\n",
       "<table border=\"1\" class=\"dataframe\">\n",
       "  <thead>\n",
       "    <tr style=\"text-align: right;\">\n",
       "      <th></th>\n",
       "      <th>Puan</th>\n",
       "      <th>Yorum</th>\n",
       "    </tr>\n",
       "  </thead>\n",
       "  <tbody>\n",
       "    <tr>\n",
       "      <th>0</th>\n",
       "      <td>4,0</td>\n",
       "      <td>Benim tarzım filmlerden en güzel olanlarından ...</td>\n",
       "    </tr>\n",
       "    <tr>\n",
       "      <th>1</th>\n",
       "      <td>4,0</td>\n",
       "      <td>Çok etkileyici bir filmdi herkese tavsiye eder...</td>\n",
       "    </tr>\n",
       "    <tr>\n",
       "      <th>2</th>\n",
       "      <td>3,0</td>\n",
       "      <td>kitabını okuduktan sonra filmini izlediğim içi...</td>\n",
       "    </tr>\n",
       "    <tr>\n",
       "      <th>3</th>\n",
       "      <td>3,0</td>\n",
       "      <td>kitabını çok beğenmiştm ama filmi izleyince sa...</td>\n",
       "    </tr>\n",
       "    <tr>\n",
       "      <th>4</th>\n",
       "      <td>4,0</td>\n",
       "      <td>Eğer bir dram filmi arıyosanız bu filmi izleme...</td>\n",
       "    </tr>\n",
       "  </tbody>\n",
       "</table>\n",
       "</div>"
      ],
      "text/plain": [
       "  Puan                                              Yorum\n",
       "0  4,0  Benim tarzım filmlerden en güzel olanlarından ...\n",
       "1  4,0  Çok etkileyici bir filmdi herkese tavsiye eder...\n",
       "2  3,0  kitabını okuduktan sonra filmini izlediğim içi...\n",
       "3  3,0  kitabını çok beğenmiştm ama filmi izleyince sa...\n",
       "4  4,0  Eğer bir dram filmi arıyosanız bu filmi izleme..."
      ]
     },
     "execution_count": 7,
     "metadata": {},
     "output_type": "execute_result"
    }
   ],
   "source": [
    "beyazperde_df = pd.read_parquet(\"hf://datasets/alibayram/beyazperde_yorumlar/beyazperdeYorumlar.parquet\")\n",
    "beyazperde_df.head()"
   ]
  },
  {
   "cell_type": "code",
   "execution_count": 8,
   "metadata": {},
   "outputs": [
    {
     "data": {
      "text/plain": [
       "Puan\n",
       "4,0    50993\n",
       "5,0    49624\n",
       "2,5    23774\n",
       "4,5    22455\n",
       "3,5    16386\n",
       "3,0     8900\n",
       "1,0     7806\n",
       "0,5     7108\n",
       "2,0     3136\n",
       "1,5     1892\n",
       "Name: count, dtype: int64"
      ]
     },
     "execution_count": 8,
     "metadata": {},
     "output_type": "execute_result"
    }
   ],
   "source": [
    "beyazperde_df['Puan'].value_counts()"
   ]
  },
  {
   "cell_type": "code",
   "execution_count": 9,
   "metadata": {},
   "outputs": [
    {
     "data": {
      "text/html": [
       "<div>\n",
       "<style scoped>\n",
       "    .dataframe tbody tr th:only-of-type {\n",
       "        vertical-align: middle;\n",
       "    }\n",
       "\n",
       "    .dataframe tbody tr th {\n",
       "        vertical-align: top;\n",
       "    }\n",
       "\n",
       "    .dataframe thead th {\n",
       "        text-align: right;\n",
       "    }\n",
       "</style>\n",
       "<table border=\"1\" class=\"dataframe\">\n",
       "  <thead>\n",
       "    <tr style=\"text-align: right;\">\n",
       "      <th></th>\n",
       "      <th>Puan</th>\n",
       "      <th>Yorum</th>\n",
       "    </tr>\n",
       "  </thead>\n",
       "  <tbody>\n",
       "    <tr>\n",
       "      <th>0</th>\n",
       "      <td>5</td>\n",
       "      <td>Enine boyuna aşk</td>\n",
       "    </tr>\n",
       "    <tr>\n",
       "      <th>1</th>\n",
       "      <td>3</td>\n",
       "      <td>Muhalefetin kendine bir özeleştiri yapması ger...</td>\n",
       "    </tr>\n",
       "    <tr>\n",
       "      <th>2</th>\n",
       "      <td>5</td>\n",
       "      <td>Oğuzname Türklerin en eski destanlarından Çıkı...</td>\n",
       "    </tr>\n",
       "    <tr>\n",
       "      <th>3</th>\n",
       "      <td>5</td>\n",
       "      <td>İlgi çekici ve sürükleyici bir roman Konusunun...</td>\n",
       "    </tr>\n",
       "    <tr>\n",
       "      <th>4</th>\n",
       "      <td>3</td>\n",
       "      <td>antik Mısır hakkında yazılmış olan bir çok rom...</td>\n",
       "    </tr>\n",
       "  </tbody>\n",
       "</table>\n",
       "</div>"
      ],
      "text/plain": [
       "   Puan                                              Yorum\n",
       "0     5                                   Enine boyuna aşk\n",
       "1     3  Muhalefetin kendine bir özeleştiri yapması ger...\n",
       "2     5  Oğuzname Türklerin en eski destanlarından Çıkı...\n",
       "3     5  İlgi çekici ve sürükleyici bir roman Konusunun...\n",
       "4     3  antik Mısır hakkında yazılmış olan bir çok rom..."
      ]
     },
     "execution_count": 9,
     "metadata": {},
     "output_type": "execute_result"
    }
   ],
   "source": [
    "kitapyurdu_df = pd.read_parquet(\"hf://datasets/alibayram/kitapyurdu_yorumlar/kitapYurduYorumlar.parquet\")\n",
    "kitapyurdu_df.head()\n"
   ]
  },
  {
   "cell_type": "code",
   "execution_count": 10,
   "metadata": {},
   "outputs": [
    {
     "data": {
      "text/plain": [
       "Puan\n",
       "5    294821\n",
       "4     71622\n",
       "3     25818\n",
       "2      7173\n",
       "1      5203\n",
       "Name: count, dtype: int64"
      ]
     },
     "execution_count": 10,
     "metadata": {},
     "output_type": "execute_result"
    }
   ],
   "source": [
    "kitapyurdu_df['Puan'].value_counts()"
   ]
  },
  {
   "cell_type": "code",
   "execution_count": 11,
   "metadata": {},
   "outputs": [
    {
     "data": {
      "text/html": [
       "<div>\n",
       "<style scoped>\n",
       "    .dataframe tbody tr th:only-of-type {\n",
       "        vertical-align: middle;\n",
       "    }\n",
       "\n",
       "    .dataframe tbody tr th {\n",
       "        vertical-align: top;\n",
       "    }\n",
       "\n",
       "    .dataframe thead th {\n",
       "        text-align: right;\n",
       "    }\n",
       "</style>\n",
       "<table border=\"1\" class=\"dataframe\">\n",
       "  <thead>\n",
       "    <tr style=\"text-align: right;\">\n",
       "      <th></th>\n",
       "      <th>Puan</th>\n",
       "      <th>Tarih</th>\n",
       "      <th>Baslik</th>\n",
       "      <th>Yorum</th>\n",
       "      <th>Konum</th>\n",
       "      <th>Yoruma verilen artı sayısı</th>\n",
       "      <th>Yoruma verilen eksi sayısı</th>\n",
       "    </tr>\n",
       "  </thead>\n",
       "  <tbody>\n",
       "    <tr>\n",
       "      <th>0</th>\n",
       "      <td>100</td>\n",
       "      <td>2017-10-02</td>\n",
       "      <td>aşure için aldım</td>\n",
       "      <td>Ben aşure dağıtmak için aldım 3 yıldır kullanı...</td>\n",
       "      <td>SÖĞÜTLÜ - Sakarya</td>\n",
       "      <td>3</td>\n",
       "      <td>0</td>\n",
       "    </tr>\n",
       "    <tr>\n",
       "      <th>1</th>\n",
       "      <td>100</td>\n",
       "      <td>2019-01-24</td>\n",
       "      <td>Beş Yıldız</td>\n",
       "      <td>sağlam paketleme , hızlı kargo , Teşekkürler</td>\n",
       "      <td>None</td>\n",
       "      <td>0</td>\n",
       "      <td>0</td>\n",
       "    </tr>\n",
       "    <tr>\n",
       "      <th>2</th>\n",
       "      <td>100</td>\n",
       "      <td>2018-03-28</td>\n",
       "      <td>Başarılı</td>\n",
       "      <td>Yulaf gevreği yemek için aldım gayet kullanışl...</td>\n",
       "      <td>None</td>\n",
       "      <td>0</td>\n",
       "      <td>0</td>\n",
       "    </tr>\n",
       "    <tr>\n",
       "      <th>3</th>\n",
       "      <td>100</td>\n",
       "      <td>2018-09-03</td>\n",
       "      <td>Beş Yıldız</td>\n",
       "      <td>Paketleme düzgündü ve oldukça hızlı ulaştı eli...</td>\n",
       "      <td>None</td>\n",
       "      <td>0</td>\n",
       "      <td>0</td>\n",
       "    </tr>\n",
       "    <tr>\n",
       "      <th>4</th>\n",
       "      <td>100</td>\n",
       "      <td>2017-10-03</td>\n",
       "      <td>Güzel</td>\n",
       "      <td>Tavsiye ederim</td>\n",
       "      <td>ÇEKMEKÖY - İstanbul</td>\n",
       "      <td>0</td>\n",
       "      <td>0</td>\n",
       "    </tr>\n",
       "  </tbody>\n",
       "</table>\n",
       "</div>"
      ],
      "text/plain": [
       "   Puan       Tarih             Baslik  \\\n",
       "0   100  2017-10-02  aşure için aldım    \n",
       "1   100  2019-01-24         Beş Yıldız   \n",
       "2   100  2018-03-28           Başarılı   \n",
       "3   100  2018-09-03         Beş Yıldız   \n",
       "4   100  2017-10-03              Güzel   \n",
       "\n",
       "                                               Yorum                Konum  \\\n",
       "0  Ben aşure dağıtmak için aldım 3 yıldır kullanı...    SÖĞÜTLÜ - Sakarya   \n",
       "1       sağlam paketleme , hızlı kargo , Teşekkürler                 None   \n",
       "2  Yulaf gevreği yemek için aldım gayet kullanışl...                 None   \n",
       "3  Paketleme düzgündü ve oldukça hızlı ulaştı eli...                 None   \n",
       "4                                     Tavsiye ederim  ÇEKMEKÖY - İstanbul   \n",
       "\n",
       "   Yoruma verilen artı sayısı  Yoruma verilen eksi sayısı  \n",
       "0                           3                           0  \n",
       "1                           0                           0  \n",
       "2                           0                           0  \n",
       "3                           0                           0  \n",
       "4                           0                           0  "
      ]
     },
     "execution_count": 11,
     "metadata": {},
     "output_type": "execute_result"
    }
   ],
   "source": [
    "yorumbudur_df = pd.read_parquet(\"hf://datasets/alibayram/yorumbudur/tum_veri.parquet\")\n",
    "yorumbudur_df.head()\n"
   ]
  },
  {
   "cell_type": "code",
   "execution_count": 12,
   "metadata": {},
   "outputs": [
    {
     "data": {
      "text/plain": [
       "Puan\n",
       "100    1713677\n",
       "80      441948\n",
       "60      221115\n",
       "20      118103\n",
       "40       68606\n",
       "Name: count, dtype: int64"
      ]
     },
     "execution_count": 12,
     "metadata": {},
     "output_type": "execute_result"
    }
   ],
   "source": [
    "yorumbudur_df['Puan'].value_counts()"
   ]
  },
  {
   "cell_type": "code",
   "execution_count": 13,
   "metadata": {},
   "outputs": [
    {
     "data": {
      "application/vnd.jupyter.widget-view+json": {
       "model_id": "dada27447e2b411bbfce304276427586",
       "version_major": 2,
       "version_minor": 0
      },
      "text/plain": [
       "Downloading readme:   0%|          | 0.00/2.73k [00:00<?, ?B/s]"
      ]
     },
     "metadata": {},
     "output_type": "display_data"
    },
    {
     "data": {
      "application/vnd.jupyter.widget-view+json": {
       "model_id": "fce57197f7374bbeac1771f0c2c336e9",
       "version_major": 2,
       "version_minor": 0
      },
      "text/plain": [
       "Downloading data:   0%|          | 0.00/286M [00:00<?, ?B/s]"
      ]
     },
     "metadata": {},
     "output_type": "display_data"
    },
    {
     "data": {
      "application/vnd.jupyter.widget-view+json": {
       "model_id": "dca8f6445bca41f6956afc8eb35f7794",
       "version_major": 2,
       "version_minor": 0
      },
      "text/plain": [
       "Generating train split:   0%|          | 0/2563449 [00:00<?, ? examples/s]"
      ]
     },
     "metadata": {},
     "output_type": "display_data"
    }
   ],
   "source": [
    "from datasets import load_dataset\n",
    "\n",
    "# Login using e.g. `huggingface-cli login` to access this dataset\n",
    "ds = load_dataset(\"alibayram/yorumbudur\")"
   ]
  },
  {
   "cell_type": "code",
   "execution_count": 14,
   "metadata": {},
   "outputs": [
    {
     "data": {
      "text/plain": [
       "DatasetDict({\n",
       "    train: Dataset({\n",
       "        features: ['Puan', 'Tarih', 'Baslik', 'Yorum', 'Konum', 'Yoruma verilen artı sayısı', 'Yoruma verilen eksi sayısı', '__index_level_0__'],\n",
       "        num_rows: 2563449\n",
       "    })\n",
       "})"
      ]
     },
     "execution_count": 14,
     "metadata": {},
     "output_type": "execute_result"
    }
   ],
   "source": [
    "ds"
   ]
  },
  {
   "cell_type": "code",
   "execution_count": 16,
   "metadata": {},
   "outputs": [
    {
     "data": {
      "text/plain": [
       "DatasetDict({\n",
       "    train: Dataset({\n",
       "        features: ['Puan', 'Tarih', 'Baslik', 'Yorum', 'Konum', 'Yoruma verilen artı sayısı', 'Yoruma verilen eksi sayısı'],\n",
       "        num_rows: 2563449\n",
       "    })\n",
       "})"
      ]
     },
     "execution_count": 16,
     "metadata": {},
     "output_type": "execute_result"
    }
   ],
   "source": [
    "\"\"\" DatasetDict({\n",
    "    train: Dataset({\n",
    "        features: ['Puan', 'Tarih', 'Baslik', 'Yorum', 'Konum', 'Yoruma verilen artı sayısı', 'Yoruma verilen eksi sayısı', '__index_level_0__'],\n",
    "        num_rows: 2563449\n",
    "    })\n",
    "}) \"\"\"\n",
    "\n",
    "# remove __index_level_0__ column from ds\n",
    "ds = ds.remove_columns(['__index_level_0__'])\n",
    "ds\n"
   ]
  },
  {
   "cell_type": "code",
   "execution_count": 17,
   "metadata": {},
   "outputs": [
    {
     "data": {
      "application/vnd.jupyter.widget-view+json": {
       "model_id": "6902a801a87447488bff9ca58c2049e2",
       "version_major": 2,
       "version_minor": 0
      },
      "text/plain": [
       "Uploading the dataset shards:   0%|          | 0/2 [00:00<?, ?it/s]"
      ]
     },
     "metadata": {},
     "output_type": "display_data"
    },
    {
     "data": {
      "application/vnd.jupyter.widget-view+json": {
       "model_id": "93b33df2b1db484ab7321198c0a64217",
       "version_major": 2,
       "version_minor": 0
      },
      "text/plain": [
       "Creating parquet from Arrow format:   0%|          | 0/1282 [00:00<?, ?ba/s]"
      ]
     },
     "metadata": {},
     "output_type": "display_data"
    },
    {
     "data": {
      "application/vnd.jupyter.widget-view+json": {
       "model_id": "468d8708d2fc4c65beb38aff45a87c67",
       "version_major": 2,
       "version_minor": 0
      },
      "text/plain": [
       "Creating parquet from Arrow format:   0%|          | 0/1282 [00:00<?, ?ba/s]"
      ]
     },
     "metadata": {},
     "output_type": "display_data"
    },
    {
     "data": {
      "application/vnd.jupyter.widget-view+json": {
       "model_id": "b31562388e3b48909e66c73909982b2d",
       "version_major": 2,
       "version_minor": 0
      },
      "text/plain": [
       "README.md:   0%|          | 0.00/2.73k [00:00<?, ?B/s]"
      ]
     },
     "metadata": {},
     "output_type": "display_data"
    },
    {
     "data": {
      "text/plain": [
       "CommitInfo(commit_url='https://huggingface.co/datasets/alibayram/yorumbudur/commit/82ae5951d9eb5224f89b8b36f704eb5204619e37', commit_message='Upload dataset', commit_description='', oid='82ae5951d9eb5224f89b8b36f704eb5204619e37', pr_url=None, repo_url=RepoUrl('https://huggingface.co/datasets/alibayram/yorumbudur', endpoint='https://huggingface.co', repo_type='dataset', repo_id='alibayram/yorumbudur'), pr_revision=None, pr_num=None)"
      ]
     },
     "execution_count": 17,
     "metadata": {},
     "output_type": "execute_result"
    }
   ],
   "source": [
    "# push ds to hub\n",
    "ds.push_to_hub(\"alibayram/yorumbudur\")\n",
    "\n"
   ]
  }
 ],
 "metadata": {
  "kernelspec": {
   "display_name": "Python 3",
   "language": "python",
   "name": "python3"
  },
  "language_info": {
   "codemirror_mode": {
    "name": "ipython",
    "version": 3
   },
   "file_extension": ".py",
   "mimetype": "text/x-python",
   "name": "python",
   "nbconvert_exporter": "python",
   "pygments_lexer": "ipython3",
   "version": "3.9.6"
  }
 },
 "nbformat": 4,
 "nbformat_minor": 2
}
