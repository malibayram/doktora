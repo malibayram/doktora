{
 "cells": [
  {
   "cell_type": "code",
   "execution_count": 10,
   "metadata": {},
   "outputs": [],
   "source": [
    "# https://forums.ankiweb.net/t/working-with-an-ankideck-using-python/37311"
   ]
  },
  {
   "cell_type": "code",
   "execution_count": 7,
   "metadata": {},
   "outputs": [],
   "source": [
    "from anki_export import ApkgReader\n",
    "import pyexcel_xlsxwx\n",
    "\n",
    "with ApkgReader('/Users/alibayram/Desktop/doktora/tus/Ff.apkg') as apkg:\n",
    "    pyexcel_xlsxwx.save_data('/Users/alibayram/Desktop/doktora/tus/test.xlsx', apkg.export(), config={'format': None})"
   ]
  }
 ],
 "metadata": {
  "kernelspec": {
   "display_name": "Python 3",
   "language": "python",
   "name": "python3"
  },
  "language_info": {
   "codemirror_mode": {
    "name": "ipython",
    "version": 3
   },
   "file_extension": ".py",
   "mimetype": "text/x-python",
   "name": "python",
   "nbconvert_exporter": "python",
   "pygments_lexer": "ipython3",
   "version": "3.9.6"
  }
 },
 "nbformat": 4,
 "nbformat_minor": 2
}
