{
 "cells": [
  {
   "cell_type": "markdown",
   "metadata": {},
   "source": [
    "## Backpropagation"
   ]
  },
  {
   "cell_type": "code",
   "execution_count": 14,
   "metadata": {},
   "outputs": [],
   "source": [
    "import numpy as np\n",
    "\n",
    "w1 = 0.7\n",
    "w2 = 0.3\n",
    "w3 = 0.4\n",
    "w4 = 0.6\n",
    "\n",
    "w5 = 0.55\n",
    "w6 = 0.46\n",
    "\n"
   ]
  },
  {
   "cell_type": "code",
   "execution_count": 15,
   "metadata": {},
   "outputs": [
    {
     "data": {
      "text/plain": [
       "0.6470438822170728"
      ]
     },
     "execution_count": 15,
     "metadata": {},
     "output_type": "execute_result"
    }
   ],
   "source": [
    "i1 = 0.5\n",
    "i2 = 0.3\n",
    "\n",
    "def sigmoid(x):\n",
    "  return 1 / (1 + np.exp(-x)) # 2.71828\n",
    "\n",
    "def z1(i1, i2):\n",
    "  return i1 * w1 + i2 * w3\n",
    "\n",
    "def z2(i1, i2):\n",
    "  return i1 * w2 + i2 * w4\n",
    "\n",
    "def z3(h1, h2):\n",
    "  return h1 * w5 + h2 * w6\n",
    "\n",
    "def tahmin(i1, i2):\n",
    "  h1 = sigmoid(z1(i1, i2))\n",
    "  h2 = sigmoid(z2(i1, i2))\n",
    "  return sigmoid(z3(h1, h2))\n",
    "\n",
    "t1 = tahmin(i1, i2)\n",
    "t1"
   ]
  },
  {
   "cell_type": "code",
   "execution_count": 3,
   "metadata": {},
   "outputs": [
    {
     "data": {
      "text/plain": [
       "0.1245780210803956"
      ]
     },
     "execution_count": 3,
     "metadata": {},
     "output_type": "execute_result"
    }
   ],
   "source": [
    "def maliyet_hata(tahmin, gercek):\n",
    "  return (tahmin - gercek) ** 2\n",
    "\n",
    "gercek = 1\n",
    "\n",
    "maliyet_hata(t1, gercek)"
   ]
  },
  {
   "cell_type": "code",
   "execution_count": 4,
   "metadata": {},
   "outputs": [
    {
     "data": {
      "text/plain": [
       "-0.7059122355658545"
      ]
     },
     "execution_count": 4,
     "metadata": {},
     "output_type": "execute_result"
    }
   ],
   "source": [
    "def maliyet_hata_turev(tahmin, gercek):\n",
    "  return 2 * (tahmin - gercek)\n",
    "\n",
    "maliyet_hata_turev(t1, gercek)"
   ]
  },
  {
   "cell_type": "code",
   "execution_count": 5,
   "metadata": {},
   "outputs": [
    {
     "data": {
      "text/plain": [
       "0.23668658876106033"
      ]
     },
     "execution_count": 5,
     "metadata": {},
     "output_type": "execute_result"
    }
   ],
   "source": [
    "def sigmoid_turev(x):\n",
    "  # f(x) = 1 / (1 + e^-x)\n",
    "  # f'(x) = f(x) * (1 - f(x))\n",
    "  return sigmoid(x) * (1 - sigmoid(x))\n",
    "\n",
    "sigmoid_turev(z1(i1, i2))"
   ]
  },
  {
   "cell_type": "code",
   "execution_count": 7,
   "metadata": {},
   "outputs": [
    {
     "data": {
      "text/plain": [
       "-0.09920902631596358"
      ]
     },
     "execution_count": 7,
     "metadata": {},
     "output_type": "execute_result"
    }
   ],
   "source": [
    "# z3 = h1 * w5 + h2 * w6\n",
    "# w5_etkisi = (h1 * //w5)\n",
    "# w6_etkisi = (h2 * //w6)\n",
    "\n",
    "def w5_turev(h1, h2, tahmin, gercek):\n",
    "  return maliyet_hata_turev(tahmin, gercek) * sigmoid_turev(z3(h1, h2)) * h1\n",
    "\n",
    "w5_t = w5_turev(sigmoid(z1(i1, i2)), sigmoid(z2(i1, i2)), t1, gercek)\n",
    "w5_t"
   ]
  },
  {
   "cell_type": "code",
   "execution_count": 8,
   "metadata": {},
   "outputs": [
    {
     "data": {
      "text/plain": [
       "-0.09378827557153137"
      ]
     },
     "execution_count": 8,
     "metadata": {},
     "output_type": "execute_result"
    }
   ],
   "source": [
    "def w6_turev(h1, h2, tahmin, gercek):\n",
    "  return maliyet_hata_turev(tahmin, gercek) * sigmoid_turev(z3(h1, h2)) * h2\n",
    "\n",
    "w6_t = w6_turev(sigmoid(z1(i1, i2)), sigmoid(z2(i1, i2)), t1, gercek)\n",
    "w6_t"
   ]
  },
  {
   "cell_type": "code",
   "execution_count": 9,
   "metadata": {},
   "outputs": [
    {
     "data": {
      "text/plain": [
       "-0.010493285834276925"
      ]
     },
     "execution_count": 9,
     "metadata": {},
     "output_type": "execute_result"
    }
   ],
   "source": [
    "def w1_turev(i1, i2, h1, h2, tahmin, gercek):\n",
    "  return maliyet_hata_turev(tahmin, gercek) * sigmoid_turev(z3(h1, h2)) * w5 * sigmoid_turev(z1(i1, i2)) * i1\n",
    "\n",
    "w1_t = w1_turev(i1, i2, sigmoid(z1(i1, i2)), sigmoid(z2(i1, i2)), t1, gercek)\n",
    "w1_t"
   ]
  },
  {
   "cell_type": "code",
   "execution_count": 10,
   "metadata": {},
   "outputs": [
    {
     "data": {
      "text/plain": [
       "-0.009021995368592377"
      ]
     },
     "execution_count": 10,
     "metadata": {},
     "output_type": "execute_result"
    }
   ],
   "source": [
    "def w2_turev(i1, i2, h1, h2, tahmin, gercek):\n",
    "  return maliyet_hata_turev(tahmin, gercek) * sigmoid_turev(z3(h1, h2)) * w6 * sigmoid_turev(z2(i1, i2)) * i1\n",
    "\n",
    "w2_t = w2_turev(i1, i2, sigmoid(z1(i1, i2)), sigmoid(z2(i1, i2)), t1, gercek)\n",
    "w2_t"
   ]
  },
  {
   "cell_type": "code",
   "execution_count": 12,
   "metadata": {},
   "outputs": [
    {
     "data": {
      "text/plain": [
       "-0.0062959715005661545"
      ]
     },
     "execution_count": 12,
     "metadata": {},
     "output_type": "execute_result"
    }
   ],
   "source": [
    "def w3_turev(i1, i2, h1, h2, tahmin, gercek):\n",
    "  return maliyet_hata_turev(tahmin, gercek) * sigmoid_turev(z3(h1, h2)) * w5 * sigmoid_turev(z1(i1, i2)) * i2\n",
    "\n",
    "w3_t = w3_turev(i1, i2, sigmoid(z1(i1, i2)), sigmoid(z2(i1, i2)), t1, gercek)\n",
    "w3_t"
   ]
  },
  {
   "cell_type": "code",
   "execution_count": 13,
   "metadata": {},
   "outputs": [
    {
     "data": {
      "text/plain": [
       "-0.005413197221155426"
      ]
     },
     "execution_count": 13,
     "metadata": {},
     "output_type": "execute_result"
    }
   ],
   "source": [
    "def w4_turev(i1, i2, h1, h2, tahmin, gercek):\n",
    "  return maliyet_hata_turev(tahmin, gercek) * sigmoid_turev(z3(h1, h2)) * w6 * sigmoid_turev(z2(i1, i2)) * i2\n",
    "\n",
    "w4_t = w4_turev(i1, i2, sigmoid(z1(i1, i2)), sigmoid(z2(i1, i2)), t1, gercek)\n",
    "w4_t"
   ]
  },
  {
   "cell_type": "code",
   "execution_count": 16,
   "metadata": {},
   "outputs": [
    {
     "data": {
      "text/plain": [
       "0.6470438822170728"
      ]
     },
     "execution_count": 16,
     "metadata": {},
     "output_type": "execute_result"
    }
   ],
   "source": [
    "t1 = tahmin(i1, i2)\n",
    "t1"
   ]
  },
  {
   "cell_type": "code",
   "execution_count": 17,
   "metadata": {},
   "outputs": [
    {
     "data": {
      "text/plain": [
       "0.6734005810360327"
      ]
     },
     "execution_count": 17,
     "metadata": {},
     "output_type": "execute_result"
    }
   ],
   "source": [
    "learning_rate = 1\n",
    "\n",
    "w1 = w1 - w1_t * learning_rate\n",
    "w2 = w2 - w2_t * learning_rate\n",
    "w3 = w3 - w3_t * learning_rate\n",
    "w4 = w4 - w4_t * learning_rate\n",
    "w5 = w5 - w5_t * learning_rate\n",
    "w6 = w6 - w6_t * learning_rate\n",
    "\n",
    "t1 = tahmin(i1, i2)\n",
    "t1"
   ]
  },
  {
   "cell_type": "code",
   "execution_count": 144,
   "metadata": {},
   "outputs": [
    {
     "data": {
      "text/plain": [
       "(0.7977683053160525, 0.8580215571240115, 0.36113893922435975)"
      ]
     },
     "execution_count": 144,
     "metadata": {},
     "output_type": "execute_result"
    }
   ],
   "source": [
    "def egit(i1, i2, gercek, learning_rate=1):\n",
    "  global w1, w2, w3, w4, w5, w6\n",
    "  t1 = tahmin(i1, i2)\n",
    "  w5_t = w5_turev(sigmoid(z1(i1, i2)), sigmoid(z2(i1, i2)), t1, gercek)\n",
    "  w6_t = w6_turev(sigmoid(z1(i1, i2)), sigmoid(z2(i1, i2)), t1, gercek)\n",
    "  w1_t = w1_turev(i1, i2, sigmoid(z1(i1, i2)), sigmoid(z2(i1, i2)), t1, gercek)\n",
    "  w2_t = w2_turev(i1, i2, sigmoid(z1(i1, i2)), sigmoid(z2(i1, i2)), t1, gercek)\n",
    "  w3_t = w3_turev(i1, i2, sigmoid(z1(i1, i2)), sigmoid(z2(i1, i2)), t1, gercek)\n",
    "  w4_t = w4_turev(i1, i2, sigmoid(z1(i1, i2)), sigmoid(z2(i1, i2)), t1, gercek)\n",
    "  w1 = w1 - w1_t * learning_rate\n",
    "  w2 = w2 - w2_t * learning_rate\n",
    "  w3 = w3 - w3_t * learning_rate\n",
    "  w4 = w4 - w4_t * learning_rate\n",
    "  w5 = w5 - w5_t * learning_rate\n",
    "  w6 = w6 - w6_t * learning_rate\n",
    "  return t1\n",
    "\n",
    "\n",
    "s1 = egit(0.5, 0.3, 1)\n",
    "s2 = egit(0.8, 0.43, 1)\n",
    "s3 = egit(0.2, 0.7, 0)\n",
    "\n",
    "s1, s2, s3"
   ]
  }
 ],
 "metadata": {
  "kernelspec": {
   "display_name": "Python 3",
   "language": "python",
   "name": "python3"
  },
  "language_info": {
   "codemirror_mode": {
    "name": "ipython",
    "version": 3
   },
   "file_extension": ".py",
   "mimetype": "text/x-python",
   "name": "python",
   "nbconvert_exporter": "python",
   "pygments_lexer": "ipython3",
   "version": "3.9.6"
  }
 },
 "nbformat": 4,
 "nbformat_minor": 2
}
