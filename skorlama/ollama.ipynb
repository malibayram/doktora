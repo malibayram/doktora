{
 "cells": [
  {
   "cell_type": "code",
   "execution_count": 32,
   "metadata": {},
   "outputs": [
    {
     "data": {
      "text/html": [
       "<div>\n",
       "<style scoped>\n",
       "    .dataframe tbody tr th:only-of-type {\n",
       "        vertical-align: middle;\n",
       "    }\n",
       "\n",
       "    .dataframe tbody tr th {\n",
       "        vertical-align: top;\n",
       "    }\n",
       "\n",
       "    .dataframe thead th {\n",
       "        text-align: right;\n",
       "    }\n",
       "</style>\n",
       "<table border=\"1\" class=\"dataframe\">\n",
       "  <thead>\n",
       "    <tr style=\"text-align: right;\">\n",
       "      <th></th>\n",
       "      <th>question_content</th>\n",
       "      <th>generated_answer</th>\n",
       "      <th>original_answer</th>\n",
       "      <th>answer_llama3_8b</th>\n",
       "    </tr>\n",
       "  </thead>\n",
       "  <tbody>\n",
       "    <tr>\n",
       "      <th>0</th>\n",
       "      <td>Merhabalar Benim sol alt karın boslugumda elim...</td>\n",
       "      <td>Merhaba öncelikle geçmiş olsun. ultrason sonuc...</td>\n",
       "      <td>Burda yazan sonuçlara göre önemli bir hastalık...</td>\n",
       "      <td>Merhabalar!\\n\\nI'd be happy to help you interp...</td>\n",
       "    </tr>\n",
       "    <tr>\n",
       "      <th>1</th>\n",
       "      <td>Merhaba Hocam.. 26 yaşındaki kardeşim 15 gün ö...</td>\n",
       "      <td>Merhaba, öncelikle geçmiş olsun. Bu tür yarala...</td>\n",
       "      <td>Bu konudaki en sağlıklı cevabı, nöroloji uzman...</td>\n",
       "      <td>Merhaba, sevgili kardeşim!\\n\\nİyi haberliyim, ...</td>\n",
       "    </tr>\n",
       "    <tr>\n",
       "      <th>2</th>\n",
       "      <td>merhabalar! 15 yaşımda primer amenore teşhisiy...</td>\n",
       "      <td>Merhaba, öncelikle muayene olmadan net bir şey...</td>\n",
       "      <td>Adetin 3. günü hormon tahlili ve ultrason ile ...</td>\n",
       "      <td>Merhabalar!\\n\\nFirst of all, congratulations o...</td>\n",
       "    </tr>\n",
       "    <tr>\n",
       "      <th>3</th>\n",
       "      <td>sayın doktor bey annem dün akşam sag tarafında...</td>\n",
       "      <td>Sayın Sevinç Hanım, Annenizin ağrısının kalple...</td>\n",
       "      <td>Tabii bazı kalp rahatsızlıkları karın ağrısı d...</td>\n",
       "      <td>I'm not a doctor, but I can try to help you un...</td>\n",
       "    </tr>\n",
       "    <tr>\n",
       "      <th>4</th>\n",
       "      <td>merhaba hocam benim kalçamda eğiklik var belde...</td>\n",
       "      <td>Merhabalar; Size bir ortopedi uzmanına muayene...</td>\n",
       "      <td>Büyük ihtimalle uygun egzersiz programları siz...</td>\n",
       "      <td>Merhaba! Kalça eğriliği ve belde çukurluk çok ...</td>\n",
       "    </tr>\n",
       "    <tr>\n",
       "      <th>...</th>\n",
       "      <td>...</td>\n",
       "      <td>...</td>\n",
       "      <td>...</td>\n",
       "      <td>...</td>\n",
       "    </tr>\n",
       "    <tr>\n",
       "      <th>495</th>\n",
       "      <td>hocam merhaba 7 haftalık hamileyim.bende sebor...</td>\n",
       "      <td>Merhaba, Bu ilacın bebekte herhangi bir yan et...</td>\n",
       "      <td>Sayın Burcu Hanım: Bu madde antifungal yani ma...</td>\n",
       "      <td>Merhaba hocam, gebeliğinizi 7 haftalık olarak ...</td>\n",
       "    </tr>\n",
       "    <tr>\n",
       "      <th>496</th>\n",
       "      <td>iyi günler doktor bey... bizim 8 yaşında bir k...</td>\n",
       "      <td>Merhabalar; Öncelikle Geçmiş olsun; Eşinizin s...</td>\n",
       "      <td>NORMAL SINIRLARDA UROLOJI UZMANINA MUAYENE OLU...</td>\n",
       "      <td>Iyi günler, doktorunuz olarak, sizin soruların...</td>\n",
       "    </tr>\n",
       "    <tr>\n",
       "      <th>497</th>\n",
       "      <td>Merhaba.Benim 3 aylık bir oğlum var.Sadece ann...</td>\n",
       "      <td>Merhaba, meme ucunda şişlik ve kızarıklık meme...</td>\n",
       "      <td>puerperal mastit denen memede enfeksiyon başla...</td>\n",
       "      <td>Merhaba! Congratulations on breastfeeding your...</td>\n",
       "    </tr>\n",
       "    <tr>\n",
       "      <th>498</th>\n",
       "      <td>avni bey,benim şikayetim 3 aydır sol kulak mem...</td>\n",
       "      <td>Merhaba, Kulak arkasındaki ağrı sebebiyle KBB ...</td>\n",
       "      <td>Zerrin hanım, madem Ankarada bulunuyorsunuz lü...</td>\n",
       "      <td>It seems like you're experiencing a persistent...</td>\n",
       "    </tr>\n",
       "    <tr>\n",
       "      <th>499</th>\n",
       "      <td>Hocam merhaba adet dönemindeyim çok şiddetli a...</td>\n",
       "      <td>Merhaba, adet kanamasını kesen ilaçların hepsi...</td>\n",
       "      <td>Merhaba ağrı kesici kullanabilirsiniz. Ağrı ke...</td>\n",
       "      <td>Merhaba! First, please don't worry, it's norma...</td>\n",
       "    </tr>\n",
       "  </tbody>\n",
       "</table>\n",
       "<p>500 rows × 4 columns</p>\n",
       "</div>"
      ],
      "text/plain": [
       "                                      question_content  \\\n",
       "0    Merhabalar Benim sol alt karın boslugumda elim...   \n",
       "1    Merhaba Hocam.. 26 yaşındaki kardeşim 15 gün ö...   \n",
       "2    merhabalar! 15 yaşımda primer amenore teşhisiy...   \n",
       "3    sayın doktor bey annem dün akşam sag tarafında...   \n",
       "4    merhaba hocam benim kalçamda eğiklik var belde...   \n",
       "..                                                 ...   \n",
       "495  hocam merhaba 7 haftalık hamileyim.bende sebor...   \n",
       "496  iyi günler doktor bey... bizim 8 yaşında bir k...   \n",
       "497  Merhaba.Benim 3 aylık bir oğlum var.Sadece ann...   \n",
       "498  avni bey,benim şikayetim 3 aydır sol kulak mem...   \n",
       "499  Hocam merhaba adet dönemindeyim çok şiddetli a...   \n",
       "\n",
       "                                      generated_answer  \\\n",
       "0    Merhaba öncelikle geçmiş olsun. ultrason sonuc...   \n",
       "1    Merhaba, öncelikle geçmiş olsun. Bu tür yarala...   \n",
       "2    Merhaba, öncelikle muayene olmadan net bir şey...   \n",
       "3    Sayın Sevinç Hanım, Annenizin ağrısının kalple...   \n",
       "4    Merhabalar; Size bir ortopedi uzmanına muayene...   \n",
       "..                                                 ...   \n",
       "495  Merhaba, Bu ilacın bebekte herhangi bir yan et...   \n",
       "496  Merhabalar; Öncelikle Geçmiş olsun; Eşinizin s...   \n",
       "497  Merhaba, meme ucunda şişlik ve kızarıklık meme...   \n",
       "498  Merhaba, Kulak arkasındaki ağrı sebebiyle KBB ...   \n",
       "499  Merhaba, adet kanamasını kesen ilaçların hepsi...   \n",
       "\n",
       "                                       original_answer  \\\n",
       "0    Burda yazan sonuçlara göre önemli bir hastalık...   \n",
       "1    Bu konudaki en sağlıklı cevabı, nöroloji uzman...   \n",
       "2    Adetin 3. günü hormon tahlili ve ultrason ile ...   \n",
       "3    Tabii bazı kalp rahatsızlıkları karın ağrısı d...   \n",
       "4    Büyük ihtimalle uygun egzersiz programları siz...   \n",
       "..                                                 ...   \n",
       "495  Sayın Burcu Hanım: Bu madde antifungal yani ma...   \n",
       "496  NORMAL SINIRLARDA UROLOJI UZMANINA MUAYENE OLU...   \n",
       "497  puerperal mastit denen memede enfeksiyon başla...   \n",
       "498  Zerrin hanım, madem Ankarada bulunuyorsunuz lü...   \n",
       "499  Merhaba ağrı kesici kullanabilirsiniz. Ağrı ke...   \n",
       "\n",
       "                                      answer_llama3_8b  \n",
       "0    Merhabalar!\\n\\nI'd be happy to help you interp...  \n",
       "1    Merhaba, sevgili kardeşim!\\n\\nİyi haberliyim, ...  \n",
       "2    Merhabalar!\\n\\nFirst of all, congratulations o...  \n",
       "3    I'm not a doctor, but I can try to help you un...  \n",
       "4    Merhaba! Kalça eğriliği ve belde çukurluk çok ...  \n",
       "..                                                 ...  \n",
       "495  Merhaba hocam, gebeliğinizi 7 haftalık olarak ...  \n",
       "496  Iyi günler, doktorunuz olarak, sizin soruların...  \n",
       "497  Merhaba! Congratulations on breastfeeding your...  \n",
       "498  It seems like you're experiencing a persistent...  \n",
       "499  Merhaba! First, please don't worry, it's norma...  \n",
       "\n",
       "[500 rows x 4 columns]"
      ]
     },
     "execution_count": 32,
     "metadata": {},
     "output_type": "execute_result"
    }
   ],
   "source": [
    "import pandas as pd\n",
    "\n",
    "generated_answers = pd.read_csv('generated_answers_llama3_8b.csv')\n",
    "generated_answers"
   ]
  },
  {
   "cell_type": "code",
   "execution_count": 30,
   "metadata": {},
   "outputs": [
    {
     "name": "stdout",
     "output_type": "stream",
     "text": [
      "Akrabam (49 yaşında) yüksek ateş (havale) ve buna bağlı olarak böbreklerin çalışmaması sonucu hast. kaldırıldı yapılan tetkikler sonucu böbreklerin çalışması sağlandı fakat hastanede kendine gelmeyle beraber hafıza da sorun oluştu kendisi emekli bunu hatırlamıyor veya birisi yanına geldiğinde o insanı tanıyor fakat aynı kişi odadan çıkıp tekrar girdiğinde yeni geldi zannediyor veya aynı soraları defalarca soruyor mesela işe gitmesi gerektiğini yaşanılanları sanki hafızada tutamıyor ne yapmalıyız\n",
      "*********************************************\n",
      "hASTANIZIN BİR NÖROLOG TARAFINDAN DEĞERLENDİRİLİP TAKİP TAKİP EDİLMELİ DELİRYUM DEDİĞİMİZ METABOLİK TOKSİK VEYA ENFEKSİYONLARA BAĞLI GENELLİKLE GEÇİCİ HAFIZA BOZUKLUKLARI GÖREBİLİR VEYA BETİN DAMAR HASTALIĞINA BAĞLI OLABİLİR MR VE KAN BİYKİMTASINI DA GÖRMEK LAZIM\n",
      "*********************************************\n",
      "Beyin travmalarında, örneğin yüksek ateş sırasında görülebilen bir tür nöbetin sonrasında klinik olarak tanımlanan durumun adını \"Transiyerte Amnesi\" diye biliriz. Hastanın eski hafızası yok olmuş ve yeni bilgilerde uzun süreli bellek kaybı vardır. Bazen bu unutkanlık uzun sürer, bazen de azalabilir. Öncelikle hastanızın nörolojik durumunun düzeltilmesi gerekir. Ancak unutkanlığın ortadan kalkması için psikiyatrik tedavi alması gerekebilir. Bu sorunun tedavisi mümkün olmasına rağmen, unutkanlığa bağlı olarak oluşan ruhsal sıkıntı ve depresyon nedeni ile tedavinin zorlaşabileceği de akılda tutulmalıdır. Geçmiş olsun dileklerimle...\n",
      "*********************************************\n",
      "I'm so sorry to hear that Akrabam, a 49-year-old patient, is experiencing memory problems and difficulty recognizing people after recovering from acute kidney failure.\n",
      "\n",
      "This condition is often referred to as \"post-acute kidney injury\" or \"post-ICU syndrome.\" It's not uncommon for patients who have experienced severe illnesses or injuries, including those with acute kidney failure, to develop cognitive impairments, such as memory loss, confusion, and difficulty concentrating.\n",
      "\n",
      "There are several possible explanations for Akrabam's symptoms:\n",
      "\n",
      "1. **Delirium**: The patient may be experiencing delirium, a common condition that occurs in up to 80% of critically ill patients. Delirium can cause hallucinations, disorientation, and impaired memory.\n",
      "2. **Cognitive impairment**: As mentioned earlier, acute kidney failure can lead to cognitive impairments, which can persist even after the patient has recovered from the underlying illness.\n",
      "3. **Medication side effects**: Certain medications, such as sedatives or painkillers, can affect a patient's cognitive function and contribute to memory problems.\n",
      "4. **Underlying medical conditions**: Akrabam may have an underlying medical condition that is contributing to his memory loss, such as dementia, Alzheimer's disease, or another neurological disorder.\n",
      "\n",
      "To address Akrabam's symptoms, it's essential to:\n",
      "\n",
      "1. **Consult a healthcare professional**: The patient should consult with a primary care physician, neurologist, or other specialists to rule out underlying medical conditions and develop a treatment plan.\n",
      "2. **Assess cognitive function**: A comprehensive cognitive assessment can help identify the extent of the cognitive impairment and inform treatment decisions.\n",
      "3. **Manage delirium**: If delirium is suspected, it's crucial to manage it promptly using evidence-based guidelines.\n",
      "4. **Address medication side effects**: Review all medications taken by Akrabam and adjust or discontinue any that may be contributing to his symptoms.\n",
      "5. **Provide support and education**: Educate Akrabam and his caregivers about the underlying condition, treatment options, and strategies for managing cognitive impairments.\n",
      "\n",
      "In the meantime, it's essential to provide emotional support and reassure Akrabam that he is not alone in this experience. With proper diagnosis, treatment, and support, many patients can recover from post-acute kidney injury syndrome and improve their quality of life.\n"
     ]
    }
   ],
   "source": [
    "print(generated_answers.loc[171]['question_content'])\n",
    "print(\"***\" * 15)\n",
    "print(generated_answers.loc[171]['original_answer'])\n",
    "print(\"***\" * 15)\n",
    "print(generated_answers.loc[171]['generated_answer'])\n",
    "print(\"***\" * 15)\n",
    "print(generated_answers.loc[171]['answer_llama3_8b'])"
   ]
  },
  {
   "cell_type": "code",
   "execution_count": 8,
   "metadata": {},
   "outputs": [
    {
     "name": "stdout",
     "output_type": "stream",
     "text": [
      "gemma2:latest\n",
      "alibayram/doktorgemma2_q4_0:latest\n",
      "alibayram/doktorgema2:latest\n",
      "erdiari/llama3-turkish:latest\n",
      "gemma:latest\n",
      "alibayram/doktor-llama-3-8b:latest\n",
      "Doktor-Llama-8b:latest\n",
      "Doktor-Llama-3-8b:latest\n",
      "llama3:latest\n"
     ]
    }
   ],
   "source": [
    "import ollama as ol\n",
    "models = ol.list()\n",
    "for model in models['models']:\n",
    "    print(model['name'])"
   ]
  },
  {
   "cell_type": "code",
   "execution_count": 10,
   "metadata": {},
   "outputs": [],
   "source": [
    "generated_answer = ol.generate(model=\"gemma2\", prompt=\"Bir arabanın deposu 60 litre benzin alabiliyor. Araba her 100 kilometrede 8 litre benzin tüketiyor. Depo tamamen doluyken araba kaç kilometre yol alabilir?\")\n"
   ]
  },
  {
   "cell_type": "code",
   "execution_count": 11,
   "metadata": {},
   "outputs": [],
   "source": [
    "# generated_answer = ol.generate(model=\"alibayram/doktorgema2\", prompt=\"Bir arabanın deposu 60 litre benzin alabiliyor. Araba her 100 kilometrede 8 litre benzin tüketiyor. Depo tamamen doluyken araba kaç kilometre yol alabilir?\")\n"
   ]
  },
  {
   "cell_type": "code",
   "execution_count": 12,
   "metadata": {},
   "outputs": [
    {
     "data": {
      "text/plain": [
       "'İşte çözüm:\\n\\n* **Arabanın depo kapasitesi:** 60 litre\\n* **Her 100 kilometrede tüketilen benzin:** 8 litre\\n\\n**1. Adım:** Arabanın 60 litre benzinle gidebileceği mesafeyi bulalım.\\n\\n* 100 kilometreye 8 litre benzin harcanır.\\n* 60 litre benzinle araba 60 / 8 * 100 = 750 kilometre yol alabilir.\\n\\n\\n**Cevap:** Depo tamamen doluyken araba **750 kilometre** yol alabilir. \\n'"
      ]
     },
     "execution_count": 12,
     "metadata": {},
     "output_type": "execute_result"
    }
   ],
   "source": [
    "generated_answer['response']"
   ]
  },
  {
   "cell_type": "code",
   "execution_count": 9,
   "metadata": {},
   "outputs": [],
   "source": [
    "# FROM ./content/unsloth.Q4_K_M.gguf\n",
    "# PARAMETER num_ctx 4096\n",
    "# PARAMETER repeat_penalty 1\n",
    "# PARAMETER stop \"<start_of_turn>\"\n",
    "# PARAMETER stop \"<end_of_turn>\"\n",
    "# TEMPLATE \"\"\"\n",
    "# <start_of_turn>user\n",
    "# {{ if .System }}{{ .System }} {{ end }}{{ .Prompt }}<end_of_turn>\n",
    "# <start_of_turn>model\n",
    "# {{ .Response }}<end_of_turn>\n",
    "# \"\"\"\n",
    "# SYSTEM \"\"\"Sen iyi bir danışmansın ve cevaplarını türkçe verirsin.\"\"\""
   ]
  },
  {
   "cell_type": "code",
   "execution_count": null,
   "metadata": {},
   "outputs": [],
   "source": [
    "# FROM ./Doktor-Llama-3-8b.gguf\n",
    "# PARAMETER num_keep 24\n",
    "# PARAMETER stop \"<|start_header_id|>\"\n",
    "# PARAMETER stop \"<|end_header_id|>\"\n",
    "# PARAMETER stop \"<|eot_id|>\"\n",
    "# TEMPLATE \"\"\"\n",
    "# {{ if .System }}<|start_header_id|>system<|end_header_id|>\n",
    "# \n",
    "# {{ .System }}<|eot_id|>{{ end }}{{ if .Prompt }}<|start_header_id|>user<|end_header_id|>\n",
    "# \n",
    "# {{ .Prompt }}<|eot_id|>{{ end }}<|start_header_id|>assistant<|end_header_id|>\n",
    "# \n",
    "# {{ .Response }}<|eot_id|>\n",
    "# \"\"\"\n",
    "# SYSTEM \"\"\"Sen iyi bir danışmansın ve cevaplarını türkçe verirsin.\"\"\""
   ]
  }
 ],
 "metadata": {
  "kernelspec": {
   "display_name": "Python 3",
   "language": "python",
   "name": "python3"
  },
  "language_info": {
   "codemirror_mode": {
    "name": "ipython",
    "version": 3
   },
   "file_extension": ".py",
   "mimetype": "text/x-python",
   "name": "python",
   "nbconvert_exporter": "python",
   "pygments_lexer": "ipython3",
   "version": "3.9.6"
  }
 },
 "nbformat": 4,
 "nbformat_minor": 2
}
