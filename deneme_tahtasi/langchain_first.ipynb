{
 "cells": [
  {
   "cell_type": "code",
   "execution_count": 1,
   "metadata": {},
   "outputs": [
    {
     "name": "stdout",
     "output_type": "stream",
     "text": [
      "Defaulting to user installation because normal site-packages is not writeable\n",
      "Collecting langgraph\n",
      "  Downloading langgraph-0.2.3-py3-none-any.whl.metadata (13 kB)\n",
      "Collecting langchain-core<0.3,>=0.2.27 (from langgraph)\n",
      "  Downloading langchain_core-0.2.29-py3-none-any.whl.metadata (6.2 kB)\n",
      "Collecting langgraph-checkpoint<2.0.0,>=1.0.2 (from langgraph)\n",
      "  Downloading langgraph_checkpoint-1.0.2-py3-none-any.whl.metadata (4.6 kB)\n",
      "Requirement already satisfied: PyYAML>=5.3 in /Users/alibayram/Library/Python/3.9/lib/python/site-packages (from langchain-core<0.3,>=0.2.27->langgraph) (6.0.1)\n",
      "Requirement already satisfied: jsonpatch<2.0,>=1.33 in /Users/alibayram/Library/Python/3.9/lib/python/site-packages (from langchain-core<0.3,>=0.2.27->langgraph) (1.33)\n",
      "Requirement already satisfied: langsmith<0.2.0,>=0.1.75 in /Users/alibayram/Library/Python/3.9/lib/python/site-packages (from langchain-core<0.3,>=0.2.27->langgraph) (0.1.94)\n",
      "Requirement already satisfied: packaging<25,>=23.2 in /Users/alibayram/Library/Python/3.9/lib/python/site-packages (from langchain-core<0.3,>=0.2.27->langgraph) (24.1)\n",
      "Requirement already satisfied: pydantic<3,>=1 in /Users/alibayram/Library/Python/3.9/lib/python/site-packages (from langchain-core<0.3,>=0.2.27->langgraph) (2.8.2)\n",
      "Requirement already satisfied: tenacity!=8.4.0,<9.0.0,>=8.1.0 in /Users/alibayram/Library/Python/3.9/lib/python/site-packages (from langchain-core<0.3,>=0.2.27->langgraph) (8.5.0)\n",
      "Requirement already satisfied: typing-extensions>=4.7 in /Users/alibayram/Library/Python/3.9/lib/python/site-packages (from langchain-core<0.3,>=0.2.27->langgraph) (4.12.2)\n",
      "Requirement already satisfied: jsonpointer>=1.9 in /Users/alibayram/Library/Python/3.9/lib/python/site-packages (from jsonpatch<2.0,>=1.33->langchain-core<0.3,>=0.2.27->langgraph) (3.0.0)\n",
      "Requirement already satisfied: orjson<4.0.0,>=3.9.14 in /Users/alibayram/Library/Python/3.9/lib/python/site-packages (from langsmith<0.2.0,>=0.1.75->langchain-core<0.3,>=0.2.27->langgraph) (3.10.6)\n",
      "Requirement already satisfied: requests<3,>=2 in /Users/alibayram/Library/Python/3.9/lib/python/site-packages (from langsmith<0.2.0,>=0.1.75->langchain-core<0.3,>=0.2.27->langgraph) (2.32.3)\n",
      "Requirement already satisfied: annotated-types>=0.4.0 in /Users/alibayram/Library/Python/3.9/lib/python/site-packages (from pydantic<3,>=1->langchain-core<0.3,>=0.2.27->langgraph) (0.7.0)\n",
      "Requirement already satisfied: pydantic-core==2.20.1 in /Users/alibayram/Library/Python/3.9/lib/python/site-packages (from pydantic<3,>=1->langchain-core<0.3,>=0.2.27->langgraph) (2.20.1)\n",
      "Requirement already satisfied: charset-normalizer<4,>=2 in /Users/alibayram/Library/Python/3.9/lib/python/site-packages (from requests<3,>=2->langsmith<0.2.0,>=0.1.75->langchain-core<0.3,>=0.2.27->langgraph) (3.3.2)\n",
      "Requirement already satisfied: idna<4,>=2.5 in /Users/alibayram/Library/Python/3.9/lib/python/site-packages (from requests<3,>=2->langsmith<0.2.0,>=0.1.75->langchain-core<0.3,>=0.2.27->langgraph) (3.7)\n",
      "Requirement already satisfied: urllib3<3,>=1.21.1 in /Users/alibayram/Library/Python/3.9/lib/python/site-packages (from requests<3,>=2->langsmith<0.2.0,>=0.1.75->langchain-core<0.3,>=0.2.27->langgraph) (2.2.2)\n",
      "Requirement already satisfied: certifi>=2017.4.17 in /Users/alibayram/Library/Python/3.9/lib/python/site-packages (from requests<3,>=2->langsmith<0.2.0,>=0.1.75->langchain-core<0.3,>=0.2.27->langgraph) (2024.7.4)\n",
      "Downloading langgraph-0.2.3-py3-none-any.whl (81 kB)\n",
      "Downloading langchain_core-0.2.29-py3-none-any.whl (383 kB)\n",
      "Downloading langgraph_checkpoint-1.0.2-py3-none-any.whl (14 kB)\n",
      "Installing collected packages: langchain-core, langgraph-checkpoint, langgraph\n",
      "  Attempting uninstall: langchain-core\n",
      "    Found existing installation: langchain-core 0.2.24\n",
      "    Uninstalling langchain-core-0.2.24:\n",
      "      Successfully uninstalled langchain-core-0.2.24\n",
      "Successfully installed langchain-core-0.2.29 langgraph-0.2.3 langgraph-checkpoint-1.0.2\n",
      "Note: you may need to restart the kernel to use updated packages.\n"
     ]
    }
   ],
   "source": [
    "%pip install langgraph"
   ]
  }
 ],
 "metadata": {
  "kernelspec": {
   "display_name": "Python 3",
   "language": "python",
   "name": "python3"
  },
  "language_info": {
   "codemirror_mode": {
    "name": "ipython",
    "version": 3
   },
   "file_extension": ".py",
   "mimetype": "text/x-python",
   "name": "python",
   "nbconvert_exporter": "python",
   "pygments_lexer": "ipython3",
   "version": "3.9.6"
  }
 },
 "nbformat": 4,
 "nbformat_minor": 2
}
