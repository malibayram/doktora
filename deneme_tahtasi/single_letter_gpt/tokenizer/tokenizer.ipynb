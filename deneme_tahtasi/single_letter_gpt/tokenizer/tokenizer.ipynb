{
 "cells": [
  {
   "cell_type": "code",
   "execution_count": 1,
   "metadata": {},
   "outputs": [],
   "source": [
    "import tiktoken\n",
    "enc = tiktoken.get_encoding(\"gpt2\")\n"
   ]
  },
  {
   "cell_type": "code",
   "execution_count": 5,
   "metadata": {},
   "outputs": [
    {
     "data": {
      "text/plain": [
       "[32]"
      ]
     },
     "execution_count": 5,
     "metadata": {},
     "output_type": "execute_result"
    }
   ],
   "source": [
    "enc.encode(\"A\")"
   ]
  },
  {
   "cell_type": "code",
   "execution_count": 12,
   "metadata": {},
   "outputs": [],
   "source": []
  },
  {
   "cell_type": "code",
   "execution_count": null,
   "metadata": {},
   "outputs": [],
   "source": [
    "# ../../video_ve_ozet_havuzu/reproduce_gpt2/tinyshakespeare/tiny_shakespeare.txt"
   ]
  },
  {
   "cell_type": "code",
   "execution_count": 13,
   "metadata": {},
   "outputs": [
    {
     "data": {
      "text/plain": [
       "(1115394,\n",
       " 'First Citizen:\\nBefore we proceed any further, hear me speak.\\n\\nAll:\\nSpeak, speak.\\n\\nFirst Citizen:\\nYou')"
      ]
     },
     "execution_count": 13,
     "metadata": {},
     "output_type": "execute_result"
    }
   ],
   "source": [
    "import os\n",
    "data_filename = os.path.join(\"\", \"tiny_shakespeare.txt\")\n",
    "text = open(data_filename, 'r').read()\n",
    "len(text), text[:100]"
   ]
  },
  {
   "cell_type": "code",
   "execution_count": null,
   "metadata": {},
   "outputs": [],
   "source": []
  },
  {
   "cell_type": "code",
   "execution_count": 2,
   "metadata": {},
   "outputs": [
    {
     "data": {
      "text/plain": [
       "64"
      ]
     },
     "execution_count": 2,
     "metadata": {},
     "output_type": "execute_result"
    }
   ],
   "source": [
    "letter_list = ['a', 'b', 'c', 'd', 'e', 'f', 'g', 'h', 'i', 'j', 'k', 'l', 'm', 'n', 'o', 'p', 'q', 'r', 's', 't', 'u', 'v', 'w', 'x', 'y', 'z',\n",
    "               'ı', 'ğ', 'ü', 'ş', 'ö', 'ç',\n",
    "               '0', '1', '2', '3', '4', '5', '6', '7', '8', '9', \n",
    "               ' ', ',', '.', '!', '?', ';', ':', '-', '(', ')', '\"', \"'\", '+', '*', '/', '=', '@', '<', '>', '\\\\', '_',\n",
    "               '\\n',\n",
    "                ]\n",
    "len(letter_list)"
   ]
  },
  {
   "cell_type": "code",
   "execution_count": 3,
   "metadata": {},
   "outputs": [],
   "source": [
    "def letter_encoder(letter):\n",
    "  letter = letter.lower()\n",
    "  if letter in letter_list:\n",
    "    return letter_list.index(letter)\n",
    "  else:\n",
    "    return 0\n"
   ]
  },
  {
   "cell_type": "code",
   "execution_count": 4,
   "metadata": {},
   "outputs": [],
   "source": [
    "def letter_decoder(index):\n",
    "  return letter_list[index]"
   ]
  },
  {
   "cell_type": "code",
   "execution_count": 81,
   "metadata": {},
   "outputs": [
    {
     "data": {
      "text/plain": [
       "'\\n'"
      ]
     },
     "execution_count": 81,
     "metadata": {},
     "output_type": "execute_result"
    }
   ],
   "source": [
    "letter_decoder(letter_encoder('\\n'))"
   ]
  },
  {
   "cell_type": "code",
   "execution_count": 83,
   "metadata": {},
   "outputs": [],
   "source": [
    "def tokenize(text):\n",
    "  tokens = [letter_encoder(letter) for letter in text]\n",
    "  # %10 of the tokens are for validation and test set\n",
    "  val_test_size = len(tokens) // 10\n",
    "  train_tokens = tokens[:-2*val_test_size]\n",
    "  val_tokens = tokens[-2*val_test_size:-val_test_size]\n",
    "  test_tokens = tokens[-val_test_size:]\n",
    "  # save the tokens as binary files\n",
    "  with open(\"train_tokens.bin\", \"wb\") as f:\n",
    "    f.write(bytes(train_tokens))\n",
    "  with open(\"val_tokens.bin\", \"wb\") as f:\n",
    "    f.write(bytes(val_tokens))\n",
    "  with open(\"test_tokens.bin\", \"wb\") as f:\n",
    "    f.write(bytes(test_tokens))"
   ]
  },
  {
   "cell_type": "code",
   "execution_count": 84,
   "metadata": {},
   "outputs": [],
   "source": [
    "tokenize(text)"
   ]
  },
  {
   "cell_type": "code",
   "execution_count": 7,
   "metadata": {},
   "outputs": [],
   "source": [
    "import numpy as np"
   ]
  },
  {
   "cell_type": "code",
   "execution_count": 10,
   "metadata": {},
   "outputs": [
    {
     "name": "stdout",
     "output_type": "stream",
     "text": [
      "111539\n",
      "ou are,\n",
      "that is, a woman; if you be more, you're none;\n",
      "if you be one, as you are well express'd\n",
      "by a\n",
      "0\n"
     ]
    }
   ],
   "source": [
    "with open(\"val_tokens.bin\", \"rb\") as f:\n",
    "  val_tokens = f.read()\n",
    "  val_tokens = [x for x in val_tokens]\n",
    "  print(len(val_tokens))\n",
    "  val_text = \"\".join([letter_decoder(x) for x in val_tokens])\n",
    "  print(val_text[:100])\n",
    "  tokens = np.frombuffer(f.read(), dtype=np.uint16)\n",
    "  print(len(tokens))\n"
   ]
  }
 ],
 "metadata": {
  "kernelspec": {
   "display_name": "Python 3",
   "language": "python",
   "name": "python3"
  },
  "language_info": {
   "codemirror_mode": {
    "name": "ipython",
    "version": 3
   },
   "file_extension": ".py",
   "mimetype": "text/x-python",
   "name": "python",
   "nbconvert_exporter": "python",
   "pygments_lexer": "ipython3",
   "version": "3.9.6"
  }
 },
 "nbformat": 4,
 "nbformat_minor": 2
}
