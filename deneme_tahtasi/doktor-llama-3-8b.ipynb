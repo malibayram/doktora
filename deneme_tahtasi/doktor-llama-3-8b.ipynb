{
 "cells": [
  {
   "cell_type": "code",
   "execution_count": 1,
   "metadata": {},
   "outputs": [
    {
     "name": "stderr",
     "output_type": "stream",
     "text": [
      "/Users/mab/Library/Python/3.9/lib/python/site-packages/tqdm/auto.py:21: TqdmWarning: IProgress not found. Please update jupyter and ipywidgets. See https://ipywidgets.readthedocs.io/en/stable/user_install.html\n",
      "  from .autonotebook import tqdm as notebook_tqdm\n"
     ]
    }
   ],
   "source": [
    "# Load model directly\n",
    "from transformers import AutoTokenizer, AutoModelForCausalLM\n",
    "from transformers import pipeline"
   ]
  },
  {
   "cell_type": "code",
   "execution_count": 2,
   "metadata": {},
   "outputs": [
    {
     "name": "stderr",
     "output_type": "stream",
     "text": [
      "You set `add_prefix_space`. The tokenizer needs to be converted from the slow tokenizers\n",
      "Downloading shards: 100%|██████████| 6/6 [00:01<00:00,  3.52it/s]\n",
      "Loading checkpoint shards: 100%|██████████| 6/6 [00:14<00:00,  2.48s/it]\n",
      "/Users/mab/Library/Python/3.9/lib/python/site-packages/bitsandbytes/cextension.py:34: UserWarning: The installed version of bitsandbytes was compiled without GPU support. 8-bit optimizers, 8-bit multiplication, and GPU quantization are unavailable.\n",
      "  warn(\"The installed version of bitsandbytes was compiled without GPU support. \"\n"
     ]
    },
    {
     "name": "stdout",
     "output_type": "stream",
     "text": [
      "'NoneType' object has no attribute 'cadam32bit_grad_fp32'\n"
     ]
    }
   ],
   "source": [
    "tokenizer = AutoTokenizer.from_pretrained(\"alibayram/Doktor-Llama-3-8b\")\n",
    "model = AutoModelForCausalLM.from_pretrained(\"alibayram/Doktor-Llama-3-8b\")"
   ]
  },
  {
   "cell_type": "code",
   "execution_count": 5,
   "metadata": {},
   "outputs": [
    {
     "data": {
      "text/plain": [
       "[{'generated_text': \"Merhaba sol femur alt uç kırığı ve kalça kırığı çivisi takılmıştı fazlasıyla rahatsız ediyor aldiricam sonrasında ne zamana kadar normal yasantima dönerim? bu l Siz bir AI Medikal Asistan Chatbot'sunuz ve medikal soruları cevaplamak üzere eğitildiniz. Aşağıda, bir görevi tanımlayan bir talimat ve yanıt bağlamı verilmiştir. Talebe uygun bir yanıt yazın. Talebe uygun bir yanıt yazın. Talebe uygun bir yanıt yazın. Talebe uygun bir yanıt yazın. Talebé şunlardr: SOL DİZ MR İNCELEMESİNDE: Patello-femoral ve femur diyafiz eklemlerine bakan subkutan yağlı dokularda minimal artisiyel hiperdens ödem izlendi. Medial menisküs arka boynuzda milimetrik grade II dejenerasyon izlendi. Lateral menisküs ön ve arka boynuzda grade I dejenerasyon izlendi. ACL de parsiyel rüptür izlendi. Lateral menisküs ön ve arka boynuzda grade II dejenerasyon izlendi. Quadriceps ve patellar tendonlar ile patellar kıkırdaklar normal görünümdedir. Medial ve lateral kollateral ligamanların konfigürasyonları ve sinyal intensiteleri normaldir. Medial ve lateral kollateral ligamanların devamlılıkları normaldir. Suprapatellar yağ planı normal sınırlardadır. Medial ve lateral patellar retinik kolleksiyonda intrasubstans sinyal intensitesi normaldir. Patella normal yerleşimlidir. Patella tip II görünümdedir. Patellofemoral eklem ilişkisi normaldir. Patellofemoral eklem aralığı normal genişliktedir. Patellofemoral eklem sıvısı homojen görünümde olup, kondrosit kümesi homojen görünümde olup, kondrosit kümesi homojen görünümde olup, kondrosit kümesi homojen görünümde olup, kondrosit kümesi homojen görünümde olup, kondrosit kümesi homojen görünümde olup, kondrosit kümesi homojen görünümde olup, kondrosit kümesi homojen görünümde olup, kondrosit kümüs homojen görünümde olup, kondrosit kümüs homojen görünümde olup, kondrosit kümüs homojen görünümde olup, kondrosit kümüs homojen görünümde olup, kondrosit kümüs homojen görünümde olup, kondrosit kümüs homojen görünümde olup, kondrosit kümüs homojen görünümde olup, kondrosit kümüs homojen görünümde olup, kondrosit kümüs homojen görünümde olup, kondrosit kümüs homojen görünümde olup, kondrosit kümüs homojen görünümde olup, kondrosit kümüs homojen görünümde olup, kondrosit kümüs homojen görünümde olup, kondrosit kümüs homojen görünümde olup, kondrosit kümüs homojen görünümde olup, kondrosit kümüs homojen görünümde olup, kondrosit kümüs homojen görünümde olup, kondrosit kümüs homojen görünümde olup, kondrosit kümüs homojen görünümde olup, kondrosit kümüs homojen görünümde olup, kondrosit kümüs homojen görünümde olup, kondrosit kümüs homojen görünümde olup, kondrosit kümüs homojen görünümde olup, kondrosit kümüs homojen görünümde olup, kondrosit kümüs homojen görünümde olup, kondrosit kümüs homojen görünümde olup, kondrosit kümüs homojen görünümde olup, kondrosit kümüs homojen görünümde olup, kondrosit kümüs homojen görünümde olup, kondrosit kümüs homojen görünümde olup, kondrosit kümüs homojen görünümde olup, kondrosit kümüs homojen görünümde olup, kondrosit kümüs homojen görünümde olup, kondrosit kümüs homojen görünümde olup, kondrosit kümüs homojen görünümde olup, kondrosit kümüs homojen görünümde olup, kondrosit kümüs homojen görünümde olup, kondrosit kümüs homojen görünümde olup, kondrosit kümüs homojen görünümde olup, kondrosit kümüs homojen görünümde olup, kondrosit kümüs homojen görünümde olup, kondrosit kümüs homojen görünümde olup, kondrosit kümüs homojen görünümde olup, kondrosit kümüs homojen görünümde olup, kondrosit kümüs homojen görünümde olup, kondrosit kümüs homojen görünümde olup, kondrosit kümüs homojen tümöründe tümörün tümörün tümörün tümörün tümörün tümörün tümörün tümörün tümörün tümörün tümörün tümörün tümörün tümörün tümörün tümörün tümörün tümörün tümörün tümörün tümörün tümörde tümörün tümörde tümörün tümörde tümörün tümörde tümörün tümörde tümörün tümörde tümörün tümörün tümörün tümörde tümörde tümörde tümörde tümörün tümörde tümörde tümörde tümörde tümörün tümörde tümörde tümörün tümörde tümörde tümörde tümörde alınan tümörün tümörün tümörün tümörde tüyde tümörün tüyde tümörde tümörde küçücük tümörde tümörde küçücük tümörde tümörde kalın ve açık beyaza kadar tümörde kalın ve açık beyaza kadar tümörde tümörün tümörde tümörde tümörün tümörde tümörde tümörde tümörde küçük tümörde küçük tüyde tümörde tümörde kalın ve açık beyaza kadar tümörde tümörde tümörde tümörde tümörün tümörde tümörde tümörün tümörde tümörde tümörde tümörde tümörün tümörde tümörde tümörde kalın ve açık beyaza kadar tümörde tümörün tümörde tüyde kalın ve açık beyaza kadar tümörde tümörde aralığında tümörde tümörde tümörde tümörün kalın ve açık beyaza kadar tümörde aralığında tümörün kalın ve açık beyaza kadar sütüda tümörün tüyde görünümde görünümde aralığında tümörün tümörün tümörün küçük tümörde tümörün küçük tümörün kalın ve açık beyaza kadar tümörün küçük tümörün kalın ve açık beyaza kadar tümörün kalın ve açık beyaza kadar tümörde tümörde alınan tümörün kalın ve açık beyaza kadar tümörün kalın ve açık beyaza kadar tümörde alınan tümörün kalın ve açık beyaza kadar tümörde alınan tümörün kalın ve açık beyaza kadar tümörün kalın ve açık beyaza kadar tümörün kalın ve açık beyaza kadar tüyde tüyde alınan kalın ve açık beyaza kadar tüyde tüyde tümörde kalın ve açık beyaza kadar tüyde tüyde alınan tüyde kalın ve açık beyaza kadar tümörün kalın ve açık beyaza kadar tümörde kalın ve açık beyaza kadar tüyde tüyde kalın ve açık beyaza kadar tümörde kalın ve açık beyaza kadar karın bölgesinde kalın ve açık beyaza kadar karın bölgesinde kalın ve açık beyaza kadar karın bölgesinde kalın ve açık beyaza kadar karın bölgesinde kalın ve açık beyaza kadar karın bölgesinde kalın ve açık beyaza kadar karın bölgesinde kalın ve açık beyaza kadar karın bölgesinde kalın ve açık beyaza kadar karın bölgesinde kalın ve açık beyaza kadar karın bölgesinde kalın ve açık beyaza kadar tümörde kalın ve açık beyaza kadar karın bölgesinde kalın ve açık beyaza kadar karın bölgesinde kalın ve açık beyaza kadar kalın ve açık beyaza kadar karın bölgesinde kalın ve açık beyaza kadar kalın ve açık beyaza kadar karın bölgesinde kalın ve açık beyaza kadar kalın ve açık beyaza kadar kalın ve açık beyaza kadar karın bölgesinde kalın ve açık beyaza kadar kalın ve açık beyaza kadar karın bölgesinde kalın ve açık beyaza kadar karın bölgesinde kalın ve açık beyaza kadar karın bölgesinde kalın ve açık beyaza kadar tümörün kalın ve açık beyaza kadar alınan tümörün kalın ve açık beyaza kadar tüyde tümörde tümörün kalın ve açık beyaza kadar tüyde alınan tümörün kalın ve açık beyaza kadar tümörün kalın ve açık beyaza kadar tümörün kalın ve açık beyaza kadar tümörün kalın ve açık beyaza kadar tümörün kalın ve açık beyaza kadar tümörün kalın ve açık beyaza kadar tümörün kalın ve açık beyaza kadar tümörün kalın ve açık beyaza kadar tümörün kalın ve açık beyaza kadar tümörün yoğun ve açık beyaza kadar tümörün yoğun ve açık beyaza kadar tümörün yoğun ve açık beyaza kadar tümörün yoğun ve açık beyaza kadar tümörün yoğun ve açık beyaza kadar tümörün yoğun ve açık beyaza kadar tümörün yoğun ve açık beyaza kadar tümörün yoğun ve açık beyaza kadar tümörün yoğun ve açık beyaza kadar tümörün yoğun ve açık beyaza kadar tümörde tümörde tümörün yoğun ve açık beyaza kadar tümörün yoğun ve açık beyaza kadar tümörün yoğun ve açık beyaza kadar tümörün yoğun ve açık beyaza kadar tümörün yoğun ve açık beyaza kadar tümörün yoğun ve açık beyaza kadar tümörün yoğun ve açık beyaza kadar tümörde tümörde kalın ve açık beyaza kadar tümörün yoğun ve açık beyaza kadar tümörün yoğun ve açık beyaza kadar tümörün yoğun ve açık beyaza kadar tümörün yoğun ve açık beyaza kadar tümörün yoğun ve açık beyaza kadar tümörün yoğun ve açık beyaza kadar tümörün yoğun ve açık beyaza kadar tümörün yoğun ve açık beyaza kadar tümörün yoğun ve açık beyaza kadar tümörde kalın ve açık beyaza kadar tümörün yoğun ve açık beyaza kadar tümörün yoğun ve açık beyaza kadar tümörün yoğun ve açık beyaza kadar tümörün yoğun ve açık beyaza kadar tümörün yoğun ve açık beyaza kadar tümörün yoğun ve açık beyaza kadar tümörün yoğun ve açık beyaza kadar tümörün yoğun ve açık beyaza kadar tümörün yoğun ve açık beyaza kadar tümörün yoğun ve açık beyaza kadar tümörün yoğun ve açık beyaza kadar tümörün yoğun ve açık beyaza kadar tümörün yoğun ve açık beyaza kadar tümörün yoğun ve açık beyaza kadar tümörün yoğun ve açık beyaza kadar tümörün yoğun ve açık beyaza kadar tümörün yoğun ve açık beyaza kadar tümörün yoğun ve açık beyaza kadar tümörün yoğun ve açık beyaza kadar tümörde tümörde tümörün yoğun ve açık beyaza kadar tümörün yoğun ve açık beyaza kadar tümörün yoğun ve açık beyaza kadar tümörün yoğun ve açık beyaza kadar tümörün yoğun ve açık beyaza kadar tümörde tümörde kalın ve açık beyaza kadar tümörün yoğun ve açık beyaza kadar tümörün yoğun ve açık beyaza kadar tümörde tümörün yoğun ve açık beyaza kadar tümörün yoğun ve açık beyaza kadar tümörde kalın ve açık beyaza kadar tümörün yoğun ve açık beyaza kadar tümörün yoğun ve açık beyaza kadar tümörün yoğun ve açık beyaza kadar tümörün yoğun ve açık beyaza kadar tümörün yoğun ve açık beyaza kadar tümörün yoğun ve açık beyaza kadar tümörün yoğun ve açık beyaza kadar tümörün yoğun ve açık beyaza kadar tümörün yoğun ve açık beyaza kadar tümörün yoğun ve açık beyaza kadar tümörün yoğun ve açık beyaza kadar tümörün yoğun ve açık beyaza kadar tümörün yoğun ve açık beyaza kadar tümörün yoğun ve açık beyaza kadar tümörün yoğun ve açık beyaza kadar tümörün yoğun ve açık beyaza kadar tümörün yoğun ve açık beyaza kadar tümörün yoğun ve açık beyaza kadar tümörde tümörde tümörün yoğun ve açık beyaza kadar tümörün yoğun ve açık beyaza kadar tümörün yoğun ve açık beyaza kadar tümörün yoğun ve açık beyaza kadar tümörün yoğun ve açık beyaza kadar tümörün yoğun ve açık beyaza kadar tümörün yoğun ve açık beyaza kadar tümörün yoğun ve açık beyaza kadar tümörde tümörün yoğun ve açık beyaza kadar tümörde tümörde tümörde tümörde kalın ve açık beyaza kadar tümörde kalın ve açık beyaza kadar tümörün yoğun ve açık beyaza kadar tümörün yoğun ve açık beyaza kadar tümörün yoğun ve açık beyaza kadar tümörde kalın ve açık beyaza kadar tümörün yoğun ve açık beyaza kadar tümörün yoğun ve açık beyaza kadar tümörde kalın ve açık beyaza kadar tümörde kalın ve açık beyaza kadar tümörün yoğun ve açık beyaza kadar tümörün yoğun ve açık beyaza kadar tümörün yoğun ve açık beyaza kadar tümörün yoğun ve açık beyaza kadar tümörün yoğun ve açık beyaza kadar tümörde tümörde kalın ve açık beyaza kadar tümörün yoğun ve açık beyaza kadar tümörde kalın ve açık beyaza kadar tümörün yoğun ve açık beyaza kadar tümörün yoğun ve açık beyaza kadar tümörün yoğun ve açık beyaza kadar tümörde kalın ve açık beyaza kadar tümörün yoğun ve açık beyaza kadar tümörün yoğun ve açık beyaza kadar tümörün yoğun ve açık beyaza kadar tümörün yoğun ve açık beyaza kadar tümörün yoğun ve açık beyaza kadar tümörde kalın ve açık beyaza kadar tümörün yoğun ve açık beyaza kadar tümörde kalın ve açık beyaza kadar tümörde kalın ve açık beyaza kadar tümörün yoğun ve açık beyaza kadar tümörde kalın ve açık beyaza kadar tümörde kalın ve açık beyaza kadar tümörde kalın ve açık beyaza kadar tümörde kalın ve açık beyaza kadar tümörde kalın ve açık beyaza kadar tümörde kalın ve açık beyaza kadar tümörde kalın ve açık beyaza kadar tümörün yoğun ve açık beyaza kadar görünümde tümörde kalın ve açık beyaza kadar tümörün yoğun ve açık beyaza kadar tümörde kalın ve açık beyaza kadar tümörde kalın ve açık beyaza kadar görünümde tümörün yoğun ve açık beyaza kadar tümörde kalın ve açık beyaza kadar tümörün yoğun ve açık beyaza kadar tümörün yoğun ve açık beyaza kadar tümörün yoğun ve açık beyaza kadar tümörün yoğun ve açık beyaza kadar tümörün yoğun ve açık beyaza kadar tümörün yoğun ve açık beyaza kadar tümörün yoğun ve açık beyaza kadar tümörün yoğun ve açık beyaza kadar tümörün yoğun ve açık beyaza kadar tümörde tümörün yoğun ve açık beyaza kadar tümörde kalın ve açık beyaza kadar tümörün yoğun ve açık beyaza kadar tümörde kalın ve açık beyaza kadar tümörün yoğun ve açık beyaza kadar tümörün yoğun ve açık beyaza kadar tümörde kalın ve açık beyaza kadar tümörün yoğun ve açık beyaza kadar tümörün yoğun ve açık beyaza kadar tümörün yoğun ve açık beyaza kadar tümörün yoğun ve açık beyaza kadar tümörün yoğun ve açık beyaza kadar tümörün yoğun ve açık beyaza kadar tümörün yoğun ve açık beyaza kadar tümörün yoğun ve açık beyaza kadar tümörde tümörün yoğun ve açık beyaza kadar kalın ve açık beyaza kadar tümörde kalın ve açık beyaza kadar tümörün yoğun ve açık beyaza kadar kalın ve açık beyaza kadar tümörün yoğun ve açık beyaza kadar tümörün yoğun ve açık beyaza kadar tümörün yoğun ve açık beyaza kadar tümörün yoğun ve açık beyaza kadar tümörün yoğun ve açık beyaza kadar tümörün yoğun ve açık beyaza kadar tümörün yoğun ve açık beyaza kadar tümörün yoğun ve açık beyaza kadar tüpörün yoğun ve açık beyaza kadar tüpörün yoğun ve açık beyaza kadar tüyler ve tümörün yoğun ve açık beyaza kadar tümörde tüyler ve tümörün yoğun ve açık beyaza kadar tümörde tüyler ve tümörün yoğun ve açık beyaza kadar tüyler ve tümörün yoğun ve açık beyaza kadar tüyler ve tüylerin ve tümörün yoğun ve açık beyaza kadar tüyler ve tümörde kalın ve açık beyaza kadar tüylerin ve tüpörün yoğun ve açık beyaza kadar tüylerin ve tümörde kalın ve açık beyaza kadar tüylerin ve tümörde kalın ve açık beyaza kadar tüylerin ve tümörde kalın ve açık beyaza kadar tüylerin ve tümörde kalın ve açık beyaza kadar tümörün yoğun ve açık beyaza kadar tümörde kalın ve açık beyaza kadar tümörde kalın ve açık beyaza kadar tümörün yoğun ve açık beyaza kadar tümörde kalın ve açık beyaza kadar tümörün yoğun ve açık beyaza kadar tümörün yoğun ve açık beyaza kadar tümörde kalın ve açık beyaza kadar tümörde kalın ve açık beyaza kadar görünümde tümörün yoğun ve açık beyaza kadar tümörde kalın ve açık beyaza kadar tümörün yoğun ve açık beyaza kadar tümörde kalın ve açık beyaza kadar tümörün yoğun ve açık beyaza kadar tümörün yoğun ve açık beyaza kadar tümörün yoğun ve açık beyaza kadar tümörün yoğun ve açık beyaza kadar tümörde kalın ve açık beyaza kadar tümörün yoğun ve açık beyaza kadar tümörün yoğun ve açık beyaza kadar tüpörün yoğun ve açık beyaza kadar tüpörün yoğun ve açık beyaza kadar tümörün yoğun ve açık beyaza kadar tümörde tümörün yoğun ve açık beyaza kadar tüpörün yoğun ve açık beyaza kadar tümörde tümörde tümörde tümörde alınan tümörün yoğun ve açık beyaza kadar tümörde kalın ve açık beyaza kadar tümörde kalın ve açık beyaza kadar görünümde tümörde kalın ve açık beyaza kadar tümörün yoğun ve açık beyaza kadar tümörün yoğun ve açık beyaza kadar tümörde kalın ve açık beyaza kadar tümörün yoğun ve açık beyaza kadar tümörde kalın ve açık beyaza kadar tümörde kalın ve açık beyaza kadar tümörde kalın ve açık beyaza kadar tümörün yoğun ve açık beyaza kadar görünümde kalın ve açık beyaza kadar tümörün yoğun ve açık beyaza kadar hanıma kadar tümörün yoğun ve açık beyaza kadar tümörün yoğun ve açık beyaza kadar tümörün yoğun ve açık beyaza kadar tümörün yoğun ve açık beyaza kadar tümöre göre tümörün yoğun ve açık beyaza kadar tümörün yoğun ve açık beyaza kadar tümörün yoğun ve açık beyaza kadar tümörün yoğun ve açık beyaza kadar tümörün yoğun ve açık beyaza kadar tümörün yoğun ve açık beyaza kadar tümörün yoğun ve açık beyaza kadar tümörün yoğun ve açık beyaza kadar tümörün yoğun ve açık beyaz\"}]"
      ]
     },
     "execution_count": 5,
     "metadata": {},
     "output_type": "execute_result"
    }
   ],
   "source": [
    "messages = [\n",
    "  {'role': 'user', 'content': \"Merhaba sol femur alt uç kırığı ve kalça kırığı çivisi takılmıştı fazlasıyla rahatsız ediyor aldiricam sonrasında ne zamana kadar normal yasantima dönerim?\"},\n",
    "]\n",
    "pipe = pipeline(\"text-generation\", model=model, tokenizer=tokenizer)\n",
    "pipe(\"Merhaba sol femur alt uç kırığı ve kalça kırığı çivisi takılmıştı fazlasıyla rahatsız ediyor aldiricam sonrasında ne zamana kadar normal yasantima dönerim?\")"
   ]
  }
 ],
 "metadata": {
  "kernelspec": {
   "display_name": "Python 3",
   "language": "python",
   "name": "python3"
  },
  "language_info": {
   "codemirror_mode": {
    "name": "ipython",
    "version": 3
   },
   "file_extension": ".py",
   "mimetype": "text/x-python",
   "name": "python",
   "nbconvert_exporter": "python",
   "pygments_lexer": "ipython3",
   "version": "3.9.6"
  }
 },
 "nbformat": 4,
 "nbformat_minor": 2
}
