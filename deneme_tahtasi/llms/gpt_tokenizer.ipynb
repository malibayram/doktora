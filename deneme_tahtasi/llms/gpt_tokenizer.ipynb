{
 "cells": [
  {
   "cell_type": "code",
   "execution_count": 5,
   "metadata": {},
   "outputs": [],
   "source": [
    "tr_medikal_prompt = \"\"\"Siz bir AI Medikal Asistan Chatbot'sunuz ve medikal soruları cevaplamak üzere eğitildiniz. Aşağıda, bir görevi tanımlayan bir talimat ve yanıt bağlamı verilmiştir. Talebe uygun bir yanıt yazın.\n",
    "\n",
    "### Kullanıcı:\n",
    "{}\n",
    "\n",
    "\n",
    "### Asistan:\n",
    "{}\"\"\""
   ]
  },
  {
   "cell_type": "code",
   "execution_count": 2,
   "metadata": {},
   "outputs": [
    {
     "name": "stderr",
     "output_type": "stream",
     "text": [
      "/Users/mab/Library/Python/3.9/lib/python/site-packages/tqdm/auto.py:21: TqdmWarning: IProgress not found. Please update jupyter and ipywidgets. See https://ipywidgets.readthedocs.io/en/stable/user_install.html\n",
      "  from .autonotebook import tqdm as notebook_tqdm\n"
     ]
    }
   ],
   "source": [
    "# Load model directly\n",
    "from transformers import AutoTokenizer\n",
    "\n",
    "tokenizer = AutoTokenizer.from_pretrained(\"ytu-ce-cosmos/turkish-gpt2\")"
   ]
  },
  {
   "cell_type": "code",
   "execution_count": 14,
   "metadata": {},
   "outputs": [
    {
     "data": {
      "text/html": [
       "<div>\n",
       "<style scoped>\n",
       "    .dataframe tbody tr th:only-of-type {\n",
       "        vertical-align: middle;\n",
       "    }\n",
       "\n",
       "    .dataframe tbody tr th {\n",
       "        vertical-align: top;\n",
       "    }\n",
       "\n",
       "    .dataframe thead th {\n",
       "        text-align: right;\n",
       "    }\n",
       "</style>\n",
       "<table border=\"1\" class=\"dataframe\">\n",
       "  <thead>\n",
       "    <tr style=\"text-align: right;\">\n",
       "      <th></th>\n",
       "      <th>doctor_title</th>\n",
       "      <th>doctor_speciality</th>\n",
       "      <th>question_content</th>\n",
       "      <th>question_answer</th>\n",
       "    </tr>\n",
       "  </thead>\n",
       "  <tbody>\n",
       "    <tr>\n",
       "      <th>0</th>\n",
       "      <td>Dt.</td>\n",
       "      <td>dis-hekimi</td>\n",
       "      <td>60 yaşında babamın dişlerini yaptırmak istiyor...</td>\n",
       "      <td>tabı ben patnostayım buyrun yardımcı olmak ıst...</td>\n",
       "    </tr>\n",
       "    <tr>\n",
       "      <th>1</th>\n",
       "      <td>Dt.</td>\n",
       "      <td>dis-hekimi</td>\n",
       "      <td>bir aydır ağzımda geçmeyen ufak bir yara var a...</td>\n",
       "      <td>protez travmasına baglı epulıs gelısebılır yad...</td>\n",
       "    </tr>\n",
       "    <tr>\n",
       "      <th>2</th>\n",
       "      <td>Dr. Dt.</td>\n",
       "      <td>dis-hekimi</td>\n",
       "      <td>Merhaba dun dis cekimi yapildiktan sonra bu sa...</td>\n",
       "      <td>Hayır.. rahat olun.normal şeyler yazmıssiniz.....</td>\n",
       "    </tr>\n",
       "    <tr>\n",
       "      <th>3</th>\n",
       "      <td>Dr. Dt.</td>\n",
       "      <td>dis-hekimi</td>\n",
       "      <td>Merhaba.1,5 ay önce köprü dişlerim yapistirild...</td>\n",
       "      <td>Öncelikle geçmiş olsun. Köprü yapımından sonra...</td>\n",
       "    </tr>\n",
       "    <tr>\n",
       "      <th>4</th>\n",
       "      <td>Dr. Dt.</td>\n",
       "      <td>dis-hekimi</td>\n",
       "      <td>Merhaba doktor bey bnm çocuğumun üst dişlerind...</td>\n",
       "      <td>bazen lekeler çürük izlenimi verebiliyor.muaye...</td>\n",
       "    </tr>\n",
       "    <tr>\n",
       "      <th>...</th>\n",
       "      <td>...</td>\n",
       "      <td>...</td>\n",
       "      <td>...</td>\n",
       "      <td>...</td>\n",
       "    </tr>\n",
       "    <tr>\n",
       "      <th>167727</th>\n",
       "      <td>Doç. Dr.</td>\n",
       "      <td>psikiyatri</td>\n",
       "      <td>İyi günler ben yaklasık 1 senedir cipralex 15 ...</td>\n",
       "      <td>Merhaba, Cipralex (etken maddesi essitalopram)...</td>\n",
       "    </tr>\n",
       "    <tr>\n",
       "      <th>167728</th>\n",
       "      <td>Doç. Dr.</td>\n",
       "      <td>psikiyatri</td>\n",
       "      <td>Mrb ben 6.sınıf tıp öğrencisiyim yaklaşık 1.5 ...</td>\n",
       "      <td>Merhaba Emin, Öncelikle geçmiş olsun. Anlattık...</td>\n",
       "    </tr>\n",
       "    <tr>\n",
       "      <th>167729</th>\n",
       "      <td>Doç. Dr.</td>\n",
       "      <td>psikiyatri</td>\n",
       "      <td>Merhaba, Bu yazacagim benim icin cok onemli ve...</td>\n",
       "      <td>Değerli danışan, Hastaları muayene etmeden ila...</td>\n",
       "    </tr>\n",
       "    <tr>\n",
       "      <th>167730</th>\n",
       "      <td>Doç. Dr.</td>\n",
       "      <td>psikiyatri</td>\n",
       "      <td>slm hocam benim ablama yenileyen depresif bozu...</td>\n",
       "      <td>Bahsettiğiniz hastalığın yalnızca depresif boz...</td>\n",
       "    </tr>\n",
       "    <tr>\n",
       "      <th>167731</th>\n",
       "      <td>Doç. Dr.</td>\n",
       "      <td>psikiyatri</td>\n",
       "      <td>hocam geçmişi sürekli kafaya takma yada herhan...</td>\n",
       "      <td>Yazdığınız sorunun birçok sebebi olabilir.Bu y...</td>\n",
       "    </tr>\n",
       "  </tbody>\n",
       "</table>\n",
       "<p>167441 rows × 4 columns</p>\n",
       "</div>"
      ],
      "text/plain": [
       "       doctor_title doctor_speciality  \\\n",
       "0               Dt.        dis-hekimi   \n",
       "1               Dt.        dis-hekimi   \n",
       "2           Dr. Dt.        dis-hekimi   \n",
       "3           Dr. Dt.        dis-hekimi   \n",
       "4           Dr. Dt.        dis-hekimi   \n",
       "...             ...               ...   \n",
       "167727     Doç. Dr.        psikiyatri   \n",
       "167728     Doç. Dr.        psikiyatri   \n",
       "167729     Doç. Dr.        psikiyatri   \n",
       "167730     Doç. Dr.        psikiyatri   \n",
       "167731     Doç. Dr.        psikiyatri   \n",
       "\n",
       "                                         question_content  \\\n",
       "0       60 yaşında babamın dişlerini yaptırmak istiyor...   \n",
       "1       bir aydır ağzımda geçmeyen ufak bir yara var a...   \n",
       "2       Merhaba dun dis cekimi yapildiktan sonra bu sa...   \n",
       "3       Merhaba.1,5 ay önce köprü dişlerim yapistirild...   \n",
       "4       Merhaba doktor bey bnm çocuğumun üst dişlerind...   \n",
       "...                                                   ...   \n",
       "167727  İyi günler ben yaklasık 1 senedir cipralex 15 ...   \n",
       "167728  Mrb ben 6.sınıf tıp öğrencisiyim yaklaşık 1.5 ...   \n",
       "167729  Merhaba, Bu yazacagim benim icin cok onemli ve...   \n",
       "167730  slm hocam benim ablama yenileyen depresif bozu...   \n",
       "167731  hocam geçmişi sürekli kafaya takma yada herhan...   \n",
       "\n",
       "                                          question_answer  \n",
       "0       tabı ben patnostayım buyrun yardımcı olmak ıst...  \n",
       "1       protez travmasına baglı epulıs gelısebılır yad...  \n",
       "2       Hayır.. rahat olun.normal şeyler yazmıssiniz.....  \n",
       "3       Öncelikle geçmiş olsun. Köprü yapımından sonra...  \n",
       "4       bazen lekeler çürük izlenimi verebiliyor.muaye...  \n",
       "...                                                   ...  \n",
       "167727  Merhaba, Cipralex (etken maddesi essitalopram)...  \n",
       "167728  Merhaba Emin, Öncelikle geçmiş olsun. Anlattık...  \n",
       "167729  Değerli danışan, Hastaları muayene etmeden ila...  \n",
       "167730  Bahsettiğiniz hastalığın yalnızca depresif boz...  \n",
       "167731  Yazdığınız sorunun birçok sebebi olabilir.Bu y...  \n",
       "\n",
       "[167441 rows x 4 columns]"
      ]
     },
     "execution_count": 14,
     "metadata": {},
     "output_type": "execute_result"
    }
   ],
   "source": [
    "import pandas as pd\n",
    "\n",
    "data = pd.read_parquet(\"../veri/doktorsitesi/sohbetler167732.parquet\")\n",
    "data = data.dropna()\n",
    "data = data.drop_duplicates()\n",
    "data"
   ]
  },
  {
   "cell_type": "code",
   "execution_count": 19,
   "metadata": {},
   "outputs": [
    {
     "data": {
      "text/plain": [
       "\"Siz bir AI Medikal Asistan Chatbot'sunuz ve medikal soruları cevaplamak üzere eğitildiniz. Aşağıda, bir görevi tanımlayan bir talimat ve yanıt bağlamı verilmiştir. Talebe uygun bir yanıt yazın.\\n\\n### Kullanıcı:\\n60 yaşında babamın dişlerini yaptırmak istiyoruz. yardımcı olabilir misiniz?\\n\\n\\n### Asistan:\\ntabı ben patnostayım buyrun yardımcı olmak ısterımSiz bir AI Medikal Asistan Chatbot'sunuz ve medikal soruları cevaplamak üzere eğitildiniz. Aşağıda, bir görevi tanımlayan bir talimat ve yanıt bağlamı verilmiştir. Talebe uygun bir yanıt yazın.\\n\\n### Kullanıcı:\\nbir aydır ağzımda geçmeyen ufak bir yara var alt çenemde protezdenmi acaba ne yapmalıyım kötü bir hastalık olur diye korkmaya başladım lütfen beni aydınlatırmısınız meliha özkan\\n\\n\\n### Asistan:\\nprotez travmasına baglı epulıs gelısebılır yada patolojık bi durum olabılır bulunudugunuz yerde fakulte varsa cene hastalıkları yada cerrahısıne gorunmenız onerılırSiz bir AI Medikal Asistan Chatbot'sunuz ve medikal soruları cevaplamak üzere eği\""
      ]
     },
     "execution_count": 19,
     "metadata": {},
     "output_type": "execute_result"
    }
   ],
   "source": [
    "text = \"\"\n",
    "for i, row in data.iterrows():\n",
    "    text += tr_medikal_prompt.format(row[\"question_content\"], row[\"question_answer\"])\n",
    "\n",
    "text[:1000]"
   ]
  },
  {
   "cell_type": "code",
   "execution_count": 20,
   "metadata": {},
   "outputs": [
    {
     "data": {
      "text/plain": [
       "[6050,\n",
       " 307,\n",
       " 37370,\n",
       " 38022,\n",
       " 45538,\n",
       " 12840,\n",
       " 31548,\n",
       " 2602,\n",
       " 1230,\n",
       " 299,\n",
       " 28595,\n",
       " 8968,\n",
       " 2394,\n",
       " 1384,\n",
       " 1332,\n",
       " 3569,\n",
       " 268,\n",
       " 5973,\n",
       " 14,\n",
       " 17849]"
      ]
     },
     "execution_count": 20,
     "metadata": {},
     "output_type": "execute_result"
    }
   ],
   "source": [
    "tokens = tokenizer.encode(text)\n",
    "tokens[:20]"
   ]
  },
  {
   "cell_type": "code",
   "execution_count": null,
   "metadata": {},
   "outputs": [],
   "source": []
  },
  {
   "cell_type": "code",
   "execution_count": 21,
   "metadata": {},
   "outputs": [],
   "source": [
    "import numpy as np\n",
    "\n",
    "def write_datafile(filename, toks):\n",
    "    \"\"\"\n",
    "    Saves token data as a .bin file, for reading in C.\n",
    "    - First comes a header with 256 int32s\n",
    "    - The tokens follow, each as a uint16\n",
    "    \"\"\"\n",
    "    assert len(toks) < 2**31, \"token count too large\" # ~2.1B tokens\n",
    "    # construct the header\n",
    "    header = np.zeros(256, dtype=np.int32)\n",
    "    header[0] = 20240520 # magic\n",
    "    header[1] = 1 # version\n",
    "    header[2] = len(toks) # number of tokens after the 256*4 bytes of header (each 2 bytes as uint16)\n",
    "    # construct the tokens numpy array, if not already\n",
    "    if not isinstance(toks, np.ndarray) or not toks.dtype == np.uint16:\n",
    "        # validate that no token exceeds a uint16\n",
    "        maxtok = 2**16\n",
    "        assert all(0 <= t < maxtok for t in toks), \"token dictionary too large for uint16\"\n",
    "        toks_np = np.array(toks, dtype=np.uint16)\n",
    "    else:\n",
    "        toks_np = toks\n",
    "    # write to file\n",
    "    print(f\"writing {len(toks):,} tokens to {filename}\")\n",
    "    with open(filename, \"wb\") as f:\n",
    "        f.write(header.tobytes())\n",
    "        f.write(toks_np.tobytes())"
   ]
  },
  {
   "cell_type": "code",
   "execution_count": 22,
   "metadata": {},
   "outputs": [
    {
     "name": "stdout",
     "output_type": "stream",
     "text": [
      "writing 3,247,308 tokens to gpt_val_tokens.bin\n",
      "writing 29,225,773 tokens to gpt_train_tokens.bin\n"
     ]
    }
   ],
   "source": [
    "import os\n",
    "\n",
    "# split into train and validation sets % 10% validation set\n",
    "\n",
    "val_tokens = tokens[:len(tokens)//10]\n",
    "train_tokens = tokens[len(tokens)//10:]\n",
    "\n",
    "# save to file\n",
    "val_filename = os.path.join(\"\", \"gpt_val_tokens.bin\")\n",
    "train_filename = os.path.join(\"\", \"gpt_train_tokens.bin\")\n",
    "write_datafile(val_filename, val_tokens)\n",
    "write_datafile(train_filename, train_tokens)"
   ]
  }
 ],
 "metadata": {
  "kernelspec": {
   "display_name": "Python 3",
   "language": "python",
   "name": "python3"
  },
  "language_info": {
   "codemirror_mode": {
    "name": "ipython",
    "version": 3
   },
   "file_extension": ".py",
   "mimetype": "text/x-python",
   "name": "python",
   "nbconvert_exporter": "python",
   "pygments_lexer": "ipython3",
   "version": "3.9.6"
  }
 },
 "nbformat": 4,
 "nbformat_minor": 2
}
