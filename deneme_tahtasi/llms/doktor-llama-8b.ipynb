{
 "cells": [
  {
   "cell_type": "code",
   "execution_count": 1,
   "metadata": {},
   "outputs": [
    {
     "name": "stderr",
     "output_type": "stream",
     "text": [
      "/Users/mab/Library/Python/3.9/lib/python/site-packages/tqdm/auto.py:21: TqdmWarning: IProgress not found. Please update jupyter and ipywidgets. See https://ipywidgets.readthedocs.io/en/stable/user_install.html\n",
      "  from .autonotebook import tqdm as notebook_tqdm\n"
     ]
    }
   ],
   "source": [
    "# Load model directly\n",
    "from transformers import AutoTokenizer, AutoModelForCausalLM\n",
    "from transformers import pipeline"
   ]
  },
  {
   "cell_type": "code",
   "execution_count": 2,
   "metadata": {},
   "outputs": [
    {
     "name": "stderr",
     "output_type": "stream",
     "text": [
      "You set `add_prefix_space`. The tokenizer needs to be converted from the slow tokenizers\n",
      "Downloading shards: 100%|██████████| 6/6 [00:01<00:00,  5.46it/s]\n",
      "Loading checkpoint shards: 100%|██████████| 6/6 [00:15<00:00,  2.58s/it]\n",
      "/Users/mab/Library/Python/3.9/lib/python/site-packages/bitsandbytes/cextension.py:34: UserWarning: The installed version of bitsandbytes was compiled without GPU support. 8-bit optimizers, 8-bit multiplication, and GPU quantization are unavailable.\n",
      "  warn(\"The installed version of bitsandbytes was compiled without GPU support. \"\n"
     ]
    },
    {
     "name": "stdout",
     "output_type": "stream",
     "text": [
      "'NoneType' object has no attribute 'cadam32bit_grad_fp32'\n"
     ]
    }
   ],
   "source": [
    "tokenizer = AutoTokenizer.from_pretrained(\"alibayram/Doktor-Llama-8b\")\n",
    "model = AutoModelForCausalLM.from_pretrained(\"alibayram/Doktor-Llama-8b\")"
   ]
  },
  {
   "cell_type": "code",
   "execution_count": 7,
   "metadata": {},
   "outputs": [
    {
     "data": {
      "text/plain": [
       "[{'generated_text': [{'role': 'user',\n",
       "    'content': 'Merhaba sol femur alt uç kırığı ve kalça kırığı çivisi takılmıştı fazlasıyla rahatsız ediyor aldiricam sonrasında ne zamana kadar normal yasantima dönerim?'},\n",
       "   {'role': 'assistant',\n",
       "    'content': ' Merhabalar,geçmiş olsun.Alçı çıkarıldıktan sonra normal hayatınıza dönmeniz mümkün.Tabi ki bunun için biraz zamana ihtiyaç var.Ancak bu süre içerisinde dikkat etmeniz gereken bazı konular var.Öncelikle bir fizik tedavi uzmanına başvurup tedavi sürecinize başlanmalı.Daha sonra kendinize dikkat etmeniz gereken bazı noktalar var.Bunlar ; banyo,tuvalet gibi durumlar için ekstra bir güç uygulamaya gerek yok.Ancak banyo sonrası oluşan morlukları engellemek için soğuk uygulamalarda dikkatli olmalısınız.Dizinizi yukarıya kaldırıp büktüğünüzde ağrı hissediyorsanız bu konuda da dikkatli olmalısınız.Ancak bu saydıklarım genel bilgiler.Ancak size özel bir tedavi planlaması için bir fizik tedavi uzmanı ile görüşmelisiniz.Uygun olduğunuzda merkezimize başvurabilirsiniz.Sağlıklı günler dilerim. Saygılarımla,</s>'}]}]"
      ]
     },
     "execution_count": 7,
     "metadata": {},
     "output_type": "execute_result"
    }
   ],
   "source": [
    "messages = [\n",
    "  {'role': 'user', 'content': \"Merhaba sol femur alt uç kırığı ve kalça kırığı çivisi takılmıştı fazlasıyla rahatsız ediyor aldiricam sonrasında ne zamana kadar normal yasantima dönerim?\"},\n",
    "]\n",
    "pipe = pipeline(\"text-generation\", model=model, tokenizer=tokenizer)\n",
    "pipe(messages)"
   ]
  }
 ],
 "metadata": {
  "kernelspec": {
   "display_name": "Python 3",
   "language": "python",
   "name": "python3"
  },
  "language_info": {
   "codemirror_mode": {
    "name": "ipython",
    "version": 3
   },
   "file_extension": ".py",
   "mimetype": "text/x-python",
   "name": "python",
   "nbconvert_exporter": "python",
   "pygments_lexer": "ipython3",
   "version": "3.9.6"
  }
 },
 "nbformat": 4,
 "nbformat_minor": 2
}
