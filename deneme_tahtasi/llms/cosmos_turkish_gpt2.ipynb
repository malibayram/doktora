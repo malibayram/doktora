{
 "cells": [
  {
   "cell_type": "code",
   "execution_count": 1,
   "metadata": {},
   "outputs": [
    {
     "name": "stderr",
     "output_type": "stream",
     "text": [
      "/Users/mab/Library/Python/3.9/lib/python/site-packages/tqdm/auto.py:21: TqdmWarning: IProgress not found. Please update jupyter and ipywidgets. See https://ipywidgets.readthedocs.io/en/stable/user_install.html\n",
      "  from .autonotebook import tqdm as notebook_tqdm\n"
     ]
    }
   ],
   "source": [
    "# Load model directly\n",
    "from transformers import AutoTokenizer, AutoModelForCausalLM\n",
    "\n",
    "tokenizer = AutoTokenizer.from_pretrained(\"ytu-ce-cosmos/turkish-gpt2\")\n",
    "model = AutoModelForCausalLM.from_pretrained(\"ytu-ce-cosmos/turkish-gpt2\")"
   ]
  },
  {
   "cell_type": "code",
   "execution_count": 3,
   "metadata": {},
   "outputs": [],
   "source": [
    "from transformers import pipeline\n",
    "\n",
    "text_generator = pipeline('text-generation', model=model, tokenizer=tokenizer)"
   ]
  },
  {
   "cell_type": "code",
   "execution_count": 4,
   "metadata": {},
   "outputs": [
    {
     "name": "stderr",
     "output_type": "stream",
     "text": [
      "Truncation was not explicitly activated but `max_length` is provided a specific value, please use `truncation=True` to explicitly truncate examples to max length. Defaulting to 'longest_first' truncation strategy. If you encode pairs of sequences (GLUE-style) with the tokenizer you can select this strategy more precisely by providing a specific strategy to `truncation`.\n"
     ]
    }
   ],
   "source": [
    "r = text_generator(\"Teknolojinin gelişimi hayatımızı önemli ölçüde etkiledi. \", max_length=100)\n",
    "# [{'generated_text': 'Teknolojinin gelişimi hayatımızı önemli ölçüde etkiledi. \"Dijitalleşme\" ile birlikte hayatımızın belirli bir parçası daha rahata ermeye başladı.'}]"
   ]
  },
  {
   "cell_type": "code",
   "execution_count": 5,
   "metadata": {},
   "outputs": [
    {
     "data": {
      "text/plain": [
       "[{'generated_text': 'Teknolojinin gelişimi hayatımızı önemli ölçüde etkiledi. \"İnternet\" ise \"İnternet\" kavramını içine alan bir terim oldu. İnternet kullanımı arttıkça hem insanlar günlük hayatlarının birçok anını internette yaşıyor olacak.\\nTeknoloji de hayatımızın önemli bir parçası olduğu kadar, sosyal medyanın da hayatımıza olan katkılarını arttırdı. Eskiden insanlar sosyal medyada zaman geçirirken, şimdilerde internetin yerini online uygulamalar aldı. İnsanlar artık bu uygulamalara internet üzerinden giriyor.\\nMobil cihazlar ile internete hızlı bir giriş yapmak mümkün ve bu erişim kolaylığı sayesinde insanların iş yaşantısında da internet'}]"
      ]
     },
     "execution_count": 5,
     "metadata": {},
     "output_type": "execute_result"
    }
   ],
   "source": [
    "r"
   ]
  },
  {
   "cell_type": "code",
   "execution_count": 9,
   "metadata": {},
   "outputs": [
    {
     "data": {
      "text/plain": [
       "['Tekn',\n",
       " 'olojinin',\n",
       " 'ĠgeliÅŁimi',\n",
       " 'ĠhayatÄ±mÄ±zÄ±',\n",
       " 'ĠÃ¶nemli',\n",
       " 'ĠÃ¶lÃ§Ã¼de',\n",
       " 'Ġetkiledi',\n",
       " '.',\n",
       " 'Ġ']"
      ]
     },
     "execution_count": 9,
     "metadata": {},
     "output_type": "execute_result"
    }
   ],
   "source": [
    "tokenizer.tokenize(\"Teknolojinin gelişimi hayatımızı önemli ölçüde etkiledi. \")"
   ]
  },
  {
   "cell_type": "code",
   "execution_count": 10,
   "metadata": {},
   "outputs": [
    {
     "data": {
      "text/plain": [
       "[9961, 18345, 10501, 31373, 931, 5423, 20502, 14, 221]"
      ]
     },
     "execution_count": 10,
     "metadata": {},
     "output_type": "execute_result"
    }
   ],
   "source": [
    "tokenizer.encode(\"Teknolojinin gelişimi hayatımızı önemli ölçüde etkiledi. \")"
   ]
  }
 ],
 "metadata": {
  "kernelspec": {
   "display_name": "Python 3",
   "language": "python",
   "name": "python3"
  },
  "language_info": {
   "codemirror_mode": {
    "name": "ipython",
    "version": 3
   },
   "file_extension": ".py",
   "mimetype": "text/x-python",
   "name": "python",
   "nbconvert_exporter": "python",
   "pygments_lexer": "ipython3",
   "version": "3.9.6"
  }
 },
 "nbformat": 4,
 "nbformat_minor": 2
}
