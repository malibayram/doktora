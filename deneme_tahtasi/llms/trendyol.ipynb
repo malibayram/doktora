{
 "cells": [
  {
   "cell_type": "code",
   "execution_count": 1,
   "metadata": {},
   "outputs": [
    {
     "name": "stderr",
     "output_type": "stream",
     "text": [
      "/Users/mab/Library/Python/3.9/lib/python/site-packages/tqdm/auto.py:21: TqdmWarning: IProgress not found. Please update jupyter and ipywidgets. See https://ipywidgets.readthedocs.io/en/stable/user_install.html\n",
      "  from .autonotebook import tqdm as notebook_tqdm\n",
      "Loading checkpoint shards: 100%|██████████| 6/6 [00:16<00:00,  2.71s/it]\n"
     ]
    }
   ],
   "source": [
    "# Load model directly\n",
    "from transformers import AutoTokenizer, AutoModelForCausalLM\n",
    "\n",
    "tokenizer = AutoTokenizer.from_pretrained(\"Trendyol/Trendyol-LLM-7b-chat-v0.1\")\n",
    "model = AutoModelForCausalLM.from_pretrained(\"Trendyol/Trendyol-LLM-7b-chat-v0.1\")"
   ]
  },
  {
   "cell_type": "code",
   "execution_count": 2,
   "metadata": {},
   "outputs": [],
   "source": [
    "# Use a pipeline as a high-level helper\n",
    "from transformers import pipeline"
   ]
  },
  {
   "cell_type": "code",
   "execution_count": 3,
   "metadata": {},
   "outputs": [
    {
     "data": {
      "text/plain": [
       "[{'generated_text': [{'role': 'user',\n",
       "    'content': 'Merhaba sol femur alt uç kırığı ve kalça kırığı çivisi takılmıştı fazlasıyla rahatsız ediyor aldiricam sonrasında ne zamana kadar normal yasantima dönerim?'},\n",
       "   {'role': 'assistant',\n",
       "    'content': '  Çivi çıkarıldıktan sonra normal yaşamınıza dönebilirsiniz.'}]}]"
      ]
     },
     "execution_count": 3,
     "metadata": {},
     "output_type": "execute_result"
    }
   ],
   "source": [
    "messages = [\n",
    "  {'role': 'user', 'content': '''Merhaba sol femur alt uç kırığı ve kalça kırığı çivisi takılmıştı fazlasıyla rahatsız ediyor aldiricam sonrasında ne zamana kadar normal yasantima dönerim?'''},\n",
    "]\n",
    "pipe = pipeline(\"text-generation\", model=model, tokenizer=tokenizer)\n",
    "pipe(messages)"
   ]
  },
  {
   "cell_type": "code",
   "execution_count": 2,
   "metadata": {},
   "outputs": [
    {
     "data": {
      "text/plain": [
       "[{'generated_text': [{'role': 'user',\n",
       "    'content': 'Bu caddenin taşlarının üzerinden yüzyıllar boyunca\\ngeçen insanların ayak seslerini takip edenler, bir kalenin\\noya gibi işlenmiş kapısı önünde bulurlar izlerini.\\n Bu cümledeki ögelerin dizilişi aşağıdakilerin\\nhangisinde sırasıyla verilmiştir?\\nÖzne - yüklem - belirtili nesne Zarf tümleci - özne - belirtili nesne - yüklem Özne - yer tamlayıcısı - yüklem - belirtili nesne Zarf tümleci - belirtili nesne - yüklem - özne Belirtili nesne - yer tamlayıcısı - yüklem - özne'},\n",
       "   {'role': 'assistant', 'content': '  A'}]}]"
      ]
     },
     "execution_count": 2,
     "metadata": {},
     "output_type": "execute_result"
    }
   ],
   "source": [
    "\n",
    "\n",
    "messages = [\n",
    "  {'role': 'user', 'content': '''Bu caddenin taşlarının üzerinden yüzyıllar boyunca\n",
    "geçen insanların ayak seslerini takip edenler, bir kalenin\n",
    "oya gibi işlenmiş kapısı önünde bulurlar izlerini.\n",
    " Bu cümledeki ögelerin dizilişi aşağıdakilerin\n",
    "hangisinde sırasıyla verilmiştir?\n",
    "Özne - yüklem - belirtili nesne Zarf tümleci - özne - belirtili nesne - yüklem Özne - yer tamlayıcısı - yüklem - belirtili nesne Zarf tümleci - belirtili nesne - yüklem - özne Belirtili nesne - yer tamlayıcısı - yüklem - özne'''},\n",
    "]\n",
    "pipe = pipeline(\"text-generation\", model=model, tokenizer=tokenizer)\n",
    "pipe(messages)"
   ]
  },
  {
   "cell_type": "code",
   "execution_count": 3,
   "metadata": {},
   "outputs": [
    {
     "data": {
      "text/plain": [
       "[{'generated_text': [{'role': 'user',\n",
       "    'content': '“Yazdıkların kime hitap ediyor?” sorusuna verilmiş net\\nbir cevabım yok. Bir iyelik ekiyle “okurlarım” demeyi de\\ndoğrusu beni hiç okumamış olanlara bir saygısızlık\\nolarak değerlendiriyorum. Ancak yine de <altı çizili söz>boşluğa\\nyazdığımı söyleyemiyorum.</altı çizili söz>\\n Bu parçanın yazarı, altı çizili sözle hangi özelliğine\\nvurgu yapmaktadır?\\nEserlerini zihninde tasarladığı bir kitleye yönelik olarak\\nürettiğine\\nEserleriyle her düzeyde okur kitlesine seslenmeyi\\nöncelediğine\\nSeçtiği temalarla mevcut ve potansiyel okurlarını\\nayrıştırdığına\\nSahiplendiği okurların duyarlılığını eserleriyle\\ngeliştirmeye çalıştığına\\nYazılarıyla bütün okurların beğenisini kazanmayı\\namaçladığına'},\n",
       "   {'role': 'assistant',\n",
       "    'content': '  Bu parçanın yazarı, eserleriyle her düzeyde okur kitlesine seslenmeyi önlediğine, seçtiği temalarla mevcut ve potansiyel okurlarlarını ayırdığına, sahiplendiği okurlarnın duyarlılığını eserleriyle geliştirdiğine, yazdıklarıyla bütün okurlarların beğenisini kazanmayı amaçladığına vurgu yapmıştır.'}]}]"
      ]
     },
     "execution_count": 3,
     "metadata": {},
     "output_type": "execute_result"
    }
   ],
   "source": [
    "messages = [\n",
    "  {'role': 'user', 'content': '''“Yazdıkların kime hitap ediyor?” sorusuna verilmiş net\n",
    "bir cevabım yok. Bir iyelik ekiyle “okurlarım” demeyi de\n",
    "doğrusu beni hiç okumamış olanlara bir saygısızlık\n",
    "olarak değerlendiriyorum. Ancak yine de <altı çizili söz>boşluğa\n",
    "yazdığımı söyleyemiyorum.</altı çizili söz>\n",
    " Bu parçanın yazarı, altı çizili sözle hangi özelliğine\n",
    "vurgu yapmaktadır?\n",
    "Eserlerini zihninde tasarladığı bir kitleye yönelik olarak\n",
    "ürettiğine\n",
    "Eserleriyle her düzeyde okur kitlesine seslenmeyi\n",
    "öncelediğine\n",
    "Seçtiği temalarla mevcut ve potansiyel okurlarını\n",
    "ayrıştırdığına\n",
    "Sahiplendiği okurların duyarlılığını eserleriyle\n",
    "geliştirmeye çalıştığına\n",
    "Yazılarıyla bütün okurların beğenisini kazanmayı\n",
    "amaçladığına'''},\n",
    "]\n",
    "pipe(messages)"
   ]
  },
  {
   "cell_type": "code",
   "execution_count": 4,
   "metadata": {},
   "outputs": [
    {
     "data": {
      "text/plain": [
       "[{'generated_text': 'Nasılsın?\\n- İyiyim, teşekkür ederim.\\n- İyiyim, teşekkür ederim.\\n- Merhaba, nasılsın?\\n- İyiyim, teşekkür ederim.\\n- Merhaba, nasılsın?\\n- İyiyim, teşekkür ederim.\\n- Merhaba, nasılsın?\\n- İyiyim, teşekkür ederim.'}]"
      ]
     },
     "execution_count": 4,
     "metadata": {},
     "output_type": "execute_result"
    }
   ],
   "source": [
    "pipe(\"Nasılsın?\")"
   ]
  }
 ],
 "metadata": {
  "kernelspec": {
   "display_name": "Python 3",
   "language": "python",
   "name": "python3"
  },
  "language_info": {
   "codemirror_mode": {
    "name": "ipython",
    "version": 3
   },
   "file_extension": ".py",
   "mimetype": "text/x-python",
   "name": "python",
   "nbconvert_exporter": "python",
   "pygments_lexer": "ipython3",
   "version": "3.9.6"
  }
 },
 "nbformat": 4,
 "nbformat_minor": 2
}
