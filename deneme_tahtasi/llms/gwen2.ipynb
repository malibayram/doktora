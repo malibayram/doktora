{
 "cells": [
  {
   "cell_type": "code",
   "execution_count": 1,
   "metadata": {},
   "outputs": [
    {
     "name": "stdout",
     "output_type": "stream",
     "text": [
      "Defaulting to user installation because normal site-packages is not writeable\n",
      "Requirement already satisfied: mlx-lm in /Users/mab/Library/Python/3.9/lib/python/site-packages (0.14.0)\n",
      "Requirement already satisfied: mlx>=0.14 in /Users/mab/Library/Python/3.9/lib/python/site-packages (from mlx-lm) (0.14.0)\n",
      "Requirement already satisfied: numpy in /Users/mab/Library/Python/3.9/lib/python/site-packages (from mlx-lm) (1.26.4)\n",
      "Requirement already satisfied: transformers>=4.39.3 in /Users/mab/Library/Python/3.9/lib/python/site-packages (from mlx-lm) (4.40.0)\n",
      "Requirement already satisfied: protobuf in /Users/mab/Library/Python/3.9/lib/python/site-packages (from mlx-lm) (4.25.3)\n",
      "Requirement already satisfied: pyyaml in /Users/mab/Library/Python/3.9/lib/python/site-packages (from mlx-lm) (6.0.1)\n",
      "Requirement already satisfied: jinja2 in /Users/mab/Library/Python/3.9/lib/python/site-packages (from mlx-lm) (3.1.3)\n",
      "Requirement already satisfied: filelock in /Users/mab/Library/Python/3.9/lib/python/site-packages (from transformers>=4.39.3->mlx-lm) (3.13.1)\n",
      "Requirement already satisfied: huggingface-hub<1.0,>=0.19.3 in /Users/mab/Library/Python/3.9/lib/python/site-packages (from transformers>=4.39.3->mlx-lm) (0.22.2)\n",
      "Requirement already satisfied: packaging>=20.0 in /Users/mab/Library/Python/3.9/lib/python/site-packages (from transformers>=4.39.3->mlx-lm) (23.2)\n",
      "Requirement already satisfied: regex!=2019.12.17 in /Users/mab/Library/Python/3.9/lib/python/site-packages (from transformers>=4.39.3->mlx-lm) (2024.5.15)\n",
      "Requirement already satisfied: requests in /Users/mab/Library/Python/3.9/lib/python/site-packages (from transformers>=4.39.3->mlx-lm) (2.31.0)\n",
      "Requirement already satisfied: tokenizers<0.20,>=0.19 in /Users/mab/Library/Python/3.9/lib/python/site-packages (from transformers>=4.39.3->mlx-lm) (0.19.1)\n",
      "Requirement already satisfied: safetensors>=0.4.1 in /Users/mab/Library/Python/3.9/lib/python/site-packages (from transformers>=4.39.3->mlx-lm) (0.4.3)\n",
      "Requirement already satisfied: tqdm>=4.27 in /Users/mab/Library/Python/3.9/lib/python/site-packages (from transformers>=4.39.3->mlx-lm) (4.66.2)\n",
      "Requirement already satisfied: MarkupSafe>=2.0 in /Users/mab/Library/Python/3.9/lib/python/site-packages (from jinja2->mlx-lm) (2.1.5)\n",
      "Requirement already satisfied: fsspec>=2023.5.0 in /Users/mab/Library/Python/3.9/lib/python/site-packages (from huggingface-hub<1.0,>=0.19.3->transformers>=4.39.3->mlx-lm) (2024.2.0)\n",
      "Requirement already satisfied: typing-extensions>=3.7.4.3 in /Users/mab/Library/Python/3.9/lib/python/site-packages (from huggingface-hub<1.0,>=0.19.3->transformers>=4.39.3->mlx-lm) (4.10.0)\n",
      "Requirement already satisfied: charset-normalizer<4,>=2 in /Users/mab/Library/Python/3.9/lib/python/site-packages (from requests->transformers>=4.39.3->mlx-lm) (3.3.2)\n",
      "Requirement already satisfied: idna<4,>=2.5 in /Users/mab/Library/Python/3.9/lib/python/site-packages (from requests->transformers>=4.39.3->mlx-lm) (3.7)\n",
      "Requirement already satisfied: urllib3<3,>=1.21.1 in /Users/mab/Library/Python/3.9/lib/python/site-packages (from requests->transformers>=4.39.3->mlx-lm) (1.26.18)\n",
      "Requirement already satisfied: certifi>=2017.4.17 in /Users/mab/Library/Python/3.9/lib/python/site-packages (from requests->transformers>=4.39.3->mlx-lm) (2023.11.17)\n",
      "Note: you may need to restart the kernel to use updated packages.\n"
     ]
    }
   ],
   "source": [
    "%pip install mlx-lm"
   ]
  },
  {
   "cell_type": "code",
   "execution_count": 1,
   "metadata": {},
   "outputs": [
    {
     "name": "stderr",
     "output_type": "stream",
     "text": [
      "/Users/mab/Library/Python/3.9/lib/python/site-packages/tqdm/auto.py:21: TqdmWarning: IProgress not found. Please update jupyter and ipywidgets. See https://ipywidgets.readthedocs.io/en/stable/user_install.html\n",
      "  from .autonotebook import tqdm as notebook_tqdm\n",
      "Fetching 9 files: 100%|██████████| 9/9 [00:00<00:00, 131988.59it/s]\n",
      "Special tokens have been added in the vocabulary, make sure the associated word embeddings are fine-tuned or trained.\n"
     ]
    },
    {
     "name": "stdout",
     "output_type": "stream",
     "text": [
      "==========\n",
      "Prompt: hello\n",
      "，大家好！我是来自《我的世界》的设计师，我是小明！\n",
      "今天给大家带来的是《我的世界》中一个非常有趣的玩法，那就是“小木屋”！\n",
      "小木屋，顾名思义，就是建造在地面上的木屋，它有着非常独特的外观，而且建造起来也非常简单，只需要一些简单的材料，就可以建造出一个非常漂亮的木屋。\n",
      "小木屋的建造方法非常简单，只需要一些简单的材料，就可以建造\n",
      "==========\n",
      "Prompt: 4.476 tokens-per-sec\n",
      "Generation: 134.022 tokens-per-sec\n"
     ]
    }
   ],
   "source": [
    "from mlx_lm import load, generate\n",
    "\n",
    "model, tokenizer = load(\"mlx-community/Qwen2-0.5B-Instruct\")\n",
    "response = generate(model, tokenizer, prompt=\"hello\", verbose=True)"
   ]
  },
  {
   "cell_type": "code",
   "execution_count": 5,
   "metadata": {},
   "outputs": [
    {
     "name": "stdout",
     "output_type": "stream",
     "text": [
      "==========\n",
      "Prompt: Türkçe biliyor musun?\n",
      " - Türkçe Biliyor Musun?\n",
      "Üzgünüm, Türkçe biliyor musun? Bana daha fazla bilgi vermek için daha fazla bilgi vermek zordur. Ancak, Türkçe biliyor musun? ve Türkçe biliyor olabileceğim, Türkçe biliyor olabileceğim? ve Türkçe biliyor olabileceğim? gibi bir bilgi vermek isterseniz, bu soruyla birlikte\n",
      "==========\n",
      "Prompt: 126.493 tokens-per-sec\n",
      "Generation: 142.613 tokens-per-sec\n"
     ]
    }
   ],
   "source": [
    "response = generate(model, tokenizer, prompt=\"Türkçe biliyor musun?\", verbose=True)"
   ]
  }
 ],
 "metadata": {
  "kernelspec": {
   "display_name": "Python 3",
   "language": "python",
   "name": "python3"
  },
  "language_info": {
   "codemirror_mode": {
    "name": "ipython",
    "version": 3
   },
   "file_extension": ".py",
   "mimetype": "text/x-python",
   "name": "python",
   "nbconvert_exporter": "python",
   "pygments_lexer": "ipython3",
   "version": "3.9.6"
  }
 },
 "nbformat": 4,
 "nbformat_minor": 2
}
