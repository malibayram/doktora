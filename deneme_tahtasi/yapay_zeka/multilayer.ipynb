{
 "cells": [
  {
   "cell_type": "code",
   "execution_count": 1,
   "metadata": {},
   "outputs": [],
   "source": [
    "x1 = 1\n",
    "x2 = 0"
   ]
  },
  {
   "cell_type": "code",
   "execution_count": 24,
   "metadata": {},
   "outputs": [],
   "source": [
    "w1 = 1\n",
    "w2 = 0.5\n",
    "w3 = 1\n",
    "w4 = 0.5\n",
    "w5 = 1\n",
    "w6 = 1\n",
    "\n",
    "b1 = 0.5\n",
    "b2 = 0\n",
    "b3 = 0.5"
   ]
  },
  {
   "cell_type": "code",
   "execution_count": 22,
   "metadata": {},
   "outputs": [],
   "source": [
    "def predict(x1, x2):\n",
    "    h1 = x1*w1 + x2*w3 + b1\n",
    "    h2 = x1*w2 + x2*w4 + b2\n",
    "    h3 = h1*w5 + h2*w6 + b3\n",
    "    return h3, h1, h2\n",
    "\n",
    "def mse(y, y_hat):\n",
    "    return (y - y_hat)**2"
   ]
  },
  {
   "cell_type": "code",
   "execution_count": 29,
   "metadata": {},
   "outputs": [
    {
     "name": "stdout",
     "output_type": "stream",
     "text": [
      "2.5 0.25\n"
     ]
    }
   ],
   "source": [
    "y = 2\n",
    "\n",
    "print(predict(x1, x2)[0], mse(y, predict(x1, x2)[0]))"
   ]
  },
  {
   "cell_type": "code",
   "execution_count": 28,
   "metadata": {},
   "outputs": [
    {
     "data": {
      "text/plain": [
       "(1.5, 0.5, 1.0)"
      ]
     },
     "execution_count": 28,
     "metadata": {},
     "output_type": "execute_result"
    }
   ],
   "source": [
    "# h1 = i1 * w1 + i2 * w3 + b1\n",
    "# h2 = i1 * w2 + i2 * w4 + b2\n",
    "# h3 = h1 * w5 + h2 * w6 + b3\n",
    "# h3 = (i1 * w1 + i2 * w3 + b1) * w5 + (i1 * w2 + i2 * w4 + b2) * w6 + b3\n",
    "# L = (h3 - y) ^ 2\n",
    "\n",
    "# dL/dh3 = 2(h3 - y)\n",
    "# dh3/dw5 = h1\n",
    "# h1*w5 + h2*w6 + b3\n",
    "# dL/dw5 = 2(h3 - y) * h1\n",
    "p = predict(1, 0) # h3, h1, h2\n",
    "delta_w5 = 2*(p[0] - y) * p[1] # Biz burada w5'in oluşan hatadaki payını bulduk\n",
    "delta_w6 = 2*(p[0] - y) * p[2] # Biz burada w6'nın oluşan hatadaki payını bulduk\n",
    "delta_b3 = 2*(p[0] - y) # Biz burada b3'ün oluşan hatadaki payını bulduk\n",
    "delta_w5, delta_w6, delta_b3"
   ]
  },
  {
   "cell_type": "code",
   "execution_count": 30,
   "metadata": {},
   "outputs": [
    {
     "data": {
      "text/plain": [
       "(1.0, 1.0, 1.0, 1.0, 0.0, 0.0)"
      ]
     },
     "execution_count": 30,
     "metadata": {},
     "output_type": "execute_result"
    }
   ],
   "source": [
    "delta_b1 = 2*(p[0] - y) * w5\n",
    "delta_b2 = 2*(p[0] - y) * w6\n",
    "delta_w1 = 2*(p[0] - y) * w5 * x1\n",
    "delta_w2 = 2*(p[0] - y) * w6 * x1\n",
    "delta_w3 = 2*(p[0] - y) * w5 * x2\n",
    "delta_w4 = 2*(p[0] - y) * w6 * x2\n",
    "\n",
    "delta_b1, delta_b2, delta_w1, delta_w2, delta_w3, delta_w4"
   ]
  }
 ],
 "metadata": {
  "kernelspec": {
   "display_name": "Python 3",
   "language": "python",
   "name": "python3"
  },
  "language_info": {
   "codemirror_mode": {
    "name": "ipython",
    "version": 3
   },
   "file_extension": ".py",
   "mimetype": "text/x-python",
   "name": "python",
   "nbconvert_exporter": "python",
   "pygments_lexer": "ipython3",
   "version": "3.9.6"
  }
 },
 "nbformat": 4,
 "nbformat_minor": 2
}
