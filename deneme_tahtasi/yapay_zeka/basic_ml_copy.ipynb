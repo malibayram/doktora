{
 "cells": [
  {
   "cell_type": "markdown",
   "metadata": {},
   "source": [
    "# Makine Öğrenmesi 101\n",
    "\n",
    "## Basit Tanımlar\n",
    "\n",
    "### Örnek Senaryo: Dart ile Hedefe Atış\n",
    "\n",
    "2 metre yüksekliğinde ve 2 metre genişliğinde bir duvarın tam ortasına bir dart tahtası asılmıştır. Dart tahtasının yarı çapı 30 cm'dir. Atışın başarılı sayılabilmesi için dartın tahtanın içine isabet etmesi yeterlidir. Duvarı kooridnat düzleminde x ve y eksenleri ile ifade edersek, dart tahtasının konumu (0, 0) noktasındadır.\n",
    "\n",
    "### Algoritma nedir?\n",
    "\n",
    "Algoritma, belirli bir problemi çözmek için tasarlanmış bir adımlar kümesidir. Yukarıdaki örnek senaryoya göre bir uygulama yazılmak istenirse, 2 farklı algoritma takip edilebilir:\n",
    "\n",
    "1. Dart atışı için bir algoritma yazılabilir. Bu algoritma, dartın hedefe isabet etmesi durumunda başarılı, etmemesi durumunda başarısız olarak sonuç döndürebilir. Bu algoritmayı yazmak için yuvarlak dart tahtasının konumu ve yarı çapının bilinmesi yeterlidir. Bunun için daha önce hiç atış yapılıp yapılmaması önemli değildir. Burada temel parametre dart tahtasının çapıdır. Yapılan atışın isabet ettiği konum bilinirse, bu algoritma başarılı/başarısız sonuç döndürür.\n",
    "2. Makinenin kendi kendine bu parametreyi yani yarı çapı öğrenmesi sağlanabilir. Bunun için daha önce çok sayıda atış yapılmış olmalı ve bu atışların sonuçları bilinmelidir. Bu durumda, makine öğrenmesi algoritmaları kullanılarak dart tahtasının yarı çapı öğrenilebilir ve bu model kullanılarak başarılı/başarısız sonuçlar tahmin edilebilir.\n",
    "\n",
    "### Makine Öğrenmesi nedir?\n",
    "\n",
    "Makine öğrenmesi, bir algoritmanın belirli bir problemi çözmek için tasarlanmış bir adımlar kümesi yerine, veriye dayalı olarak öğrenmesidir. Makine öğrenmesi algoritmaları, veri setlerini kullanarak öğrenir ve bu verilere göre tahminler yapar. Yukarıdaki örnek senaryoya göre, makine öğrenmesi algoritmaları kullanılarak dart tahtasının yarı çapı öğrenilebilir ve bu model kullanılarak başarılı/başarısız sonuçlar tahmin edilebilir.\n",
    "\n"
   ]
  },
  {
   "cell_type": "code",
   "execution_count": 1,
   "metadata": {},
   "outputs": [
    {
     "data": {
      "image/png": "[encoded data removed]",
      "text/plain": [
       "<Figure size 640x480 with 1 Axes>"
      ]
     },
     "metadata": {},
     "output_type": "display_data"
    }
   ],
   "source": [
    "# draw a circle with a radius of 30 pixels and a center at (0, 0) in the window of size 200x200 pixels using matplotlib\n",
    "import matplotlib.pyplot as plt\n",
    "\n",
    "fig, ax = plt.subplots()\n",
    "circle = plt.Circle((0, 0), 30, color='b', fill=False)\n",
    "ax.add_artist(circle)\n",
    "ax.set_xlim(-100, 100)\n",
    "ax.set_ylim(-100, 100)\n",
    "plt.gca().set_aspect('equal', adjustable='box')\n",
    "plt.show()\n"
   ]
  },
  {
   "cell_type": "code",
   "execution_count": 96,
   "metadata": {},
   "outputs": [],
   "source": [
    "DART_TAHTASININ_YARI_CAPI = 30"
   ]
  },
  {
   "cell_type": "markdown",
   "metadata": {},
   "source": [
    "Bu parametreleri belirlemenin tek yolu yönetmelikten okumak değildir. Eğer elimizde yeterince veri varsa, bu parametreleri veriye bakarak da istatisliksel olarak öğrenebiliriz. İşte **Makine Öğrenmesi** denen şey tam olarak budur. Yazılacak programın şekli bu parametlerin nasıl belirleneceği netleştikten sonra tamamen aynı olacaktır."
   ]
  },
  {
   "cell_type": "code",
   "execution_count": 97,
   "metadata": {},
   "outputs": [],
   "source": [
    "import math as m\n",
    "def isabet_hesapla(x, y):\n",
    "    mesafe = m.sqrt(x**2 + y**2)\n",
    "    return mesafe <= DART_TAHTASININ_YARI_CAPI"
   ]
  },
  {
   "cell_type": "markdown",
   "metadata": {},
   "source": [
    "Öncelikle 1000 tane rastgele dart atışı yapalım ve bu atışların sonuçlarını yukarıdaki fonksiyon ile kontrol edelim. Bu atışları ve sonuçlarını bir veri seti olarak kaydedelim."
   ]
  },
  {
   "cell_type": "code",
   "execution_count": 156,
   "metadata": {},
   "outputs": [
    {
     "data": {
      "text/html": [
       "<div>\n",
       "<style scoped>\n",
       "    .dataframe tbody tr th:only-of-type {\n",
       "        vertical-align: middle;\n",
       "    }\n",
       "\n",
       "    .dataframe tbody tr th {\n",
       "        vertical-align: top;\n",
       "    }\n",
       "\n",
       "    .dataframe thead th {\n",
       "        text-align: right;\n",
       "    }\n",
       "</style>\n",
       "<table border=\"1\" class=\"dataframe\">\n",
       "  <thead>\n",
       "    <tr style=\"text-align: right;\">\n",
       "      <th></th>\n",
       "      <th>x</th>\n",
       "      <th>y</th>\n",
       "      <th>isabet</th>\n",
       "    </tr>\n",
       "  </thead>\n",
       "  <tbody>\n",
       "    <tr>\n",
       "      <th>0</th>\n",
       "      <td>10</td>\n",
       "      <td>-7</td>\n",
       "      <td>True</td>\n",
       "    </tr>\n",
       "    <tr>\n",
       "      <th>1</th>\n",
       "      <td>-7</td>\n",
       "      <td>63</td>\n",
       "      <td>False</td>\n",
       "    </tr>\n",
       "    <tr>\n",
       "      <th>2</th>\n",
       "      <td>-96</td>\n",
       "      <td>-41</td>\n",
       "      <td>False</td>\n",
       "    </tr>\n",
       "    <tr>\n",
       "      <th>3</th>\n",
       "      <td>-79</td>\n",
       "      <td>53</td>\n",
       "      <td>False</td>\n",
       "    </tr>\n",
       "    <tr>\n",
       "      <th>4</th>\n",
       "      <td>-51</td>\n",
       "      <td>-56</td>\n",
       "      <td>False</td>\n",
       "    </tr>\n",
       "  </tbody>\n",
       "</table>\n",
       "</div>"
      ],
      "text/plain": [
       "    x   y  isabet\n",
       "0  10  -7    True\n",
       "1  -7  63   False\n",
       "2 -96 -41   False\n",
       "3 -79  53   False\n",
       "4 -51 -56   False"
      ]
     },
     "execution_count": 156,
     "metadata": {},
     "output_type": "execute_result"
    }
   ],
   "source": [
    "import pandas as pd\n",
    "import numpy as np\n",
    "\n",
    "atislar = []\n",
    "\n",
    "for i in range(1000):\n",
    "    x = np.random.randint(-100, 100)\n",
    "    y = np.random.randint(-100, 100)\n",
    "    isabet = isabet_hesapla(x, y)\n",
    "    atislar.append({ 'x': x, 'y': y, 'isabet': isabet })\n",
    "\n",
    "atislar_df = pd.DataFrame(atislar)\n",
    "atislar_df.head()"
   ]
  },
  {
   "cell_type": "code",
   "execution_count": 157,
   "metadata": {},
   "outputs": [
    {
     "name": "stdout",
     "output_type": "stream",
     "text": [
      "İsabetli atış sayısı: 78 ve isabet oranı: 7.8%\n"
     ]
    }
   ],
   "source": [
    "isabetli_atislar = atislar_df[atislar_df['isabet'] == True]\n",
    "print(f\"İsabetli atış sayısı: {len(isabetli_atislar)} ve isabet oranı: {round((len(isabetli_atislar) / len(atislar)) * 100, 2)}%\")"
   ]
  },
  {
   "cell_type": "code",
   "execution_count": 158,
   "metadata": {},
   "outputs": [
    {
     "data": {
      "text/html": [
       "<div>\n",
       "<style scoped>\n",
       "    .dataframe tbody tr th:only-of-type {\n",
       "        vertical-align: middle;\n",
       "    }\n",
       "\n",
       "    .dataframe tbody tr th {\n",
       "        vertical-align: top;\n",
       "    }\n",
       "\n",
       "    .dataframe thead th {\n",
       "        text-align: right;\n",
       "    }\n",
       "</style>\n",
       "<table border=\"1\" class=\"dataframe\">\n",
       "  <thead>\n",
       "    <tr style=\"text-align: right;\">\n",
       "      <th></th>\n",
       "      <th>x</th>\n",
       "      <th>y</th>\n",
       "      <th>isabet</th>\n",
       "    </tr>\n",
       "  </thead>\n",
       "  <tbody>\n",
       "    <tr>\n",
       "      <th>0</th>\n",
       "      <td>10</td>\n",
       "      <td>-7</td>\n",
       "      <td>True</td>\n",
       "    </tr>\n",
       "    <tr>\n",
       "      <th>1</th>\n",
       "      <td>-7</td>\n",
       "      <td>63</td>\n",
       "      <td>False</td>\n",
       "    </tr>\n",
       "    <tr>\n",
       "      <th>2</th>\n",
       "      <td>-96</td>\n",
       "      <td>-41</td>\n",
       "      <td>False</td>\n",
       "    </tr>\n",
       "    <tr>\n",
       "      <th>3</th>\n",
       "      <td>-79</td>\n",
       "      <td>53</td>\n",
       "      <td>False</td>\n",
       "    </tr>\n",
       "    <tr>\n",
       "      <th>4</th>\n",
       "      <td>-51</td>\n",
       "      <td>-56</td>\n",
       "      <td>False</td>\n",
       "    </tr>\n",
       "    <tr>\n",
       "      <th>...</th>\n",
       "      <td>...</td>\n",
       "      <td>...</td>\n",
       "      <td>...</td>\n",
       "    </tr>\n",
       "    <tr>\n",
       "      <th>95</th>\n",
       "      <td>-11</td>\n",
       "      <td>-47</td>\n",
       "      <td>False</td>\n",
       "    </tr>\n",
       "    <tr>\n",
       "      <th>96</th>\n",
       "      <td>70</td>\n",
       "      <td>-58</td>\n",
       "      <td>False</td>\n",
       "    </tr>\n",
       "    <tr>\n",
       "      <th>97</th>\n",
       "      <td>24</td>\n",
       "      <td>39</td>\n",
       "      <td>False</td>\n",
       "    </tr>\n",
       "    <tr>\n",
       "      <th>98</th>\n",
       "      <td>21</td>\n",
       "      <td>-34</td>\n",
       "      <td>False</td>\n",
       "    </tr>\n",
       "    <tr>\n",
       "      <th>99</th>\n",
       "      <td>-89</td>\n",
       "      <td>75</td>\n",
       "      <td>False</td>\n",
       "    </tr>\n",
       "  </tbody>\n",
       "</table>\n",
       "<p>100 rows × 3 columns</p>\n",
       "</div>"
      ],
      "text/plain": [
       "     x   y  isabet\n",
       "0   10  -7    True\n",
       "1   -7  63   False\n",
       "2  -96 -41   False\n",
       "3  -79  53   False\n",
       "4  -51 -56   False\n",
       "..  ..  ..     ...\n",
       "95 -11 -47   False\n",
       "96  70 -58   False\n",
       "97  24  39   False\n",
       "98  21 -34   False\n",
       "99 -89  75   False\n",
       "\n",
       "[100 rows x 3 columns]"
      ]
     },
     "execution_count": 158,
     "metadata": {},
     "output_type": "execute_result"
    }
   ],
   "source": [
    "atislar_df.head(100)"
   ]
  },
  {
   "cell_type": "markdown",
   "metadata": {},
   "source": [
    "### Veriyi Görseleştirme\n",
    "\n",
    "Şimdi bu veriyi görselleştirelim. Veri setindeki her bir nokta bir dart atışını temsil eder. Başarılı atışlar yeşil, başarısız atışlar kırmızı renkte gösterilmiştir."
   ]
  },
  {
   "cell_type": "code",
   "execution_count": 159,
   "metadata": {},
   "outputs": [
    {
     "data": {
      "image/png": "[encoded data removed]",
      "text/plain": [
       "<Figure size 640x480 with 1 Axes>"
      ]
     },
     "metadata": {},
     "output_type": "display_data"
    }
   ],
   "source": [
    "import matplotlib.pyplot as plt\n",
    "\n",
    "\n",
    "basarili = atislar_df[atislar_df[\"isabet\"] == True]\n",
    "plt.scatter(basarili[\"x\"], basarili[\"y\"], color=\"green\", label=\"Başarılı\")\n",
    "\n",
    "basarisiz = atislar_df[atislar_df[\"isabet\"] == False]\n",
    "plt.scatter(basarisiz[\"x\"], basarisiz[\"y\"], color=\"red\", label=\"Başarısız\")\n",
    "\n",
    "plt.xlabel(\"x\")\n",
    "plt.ylabel(\"y\")\n",
    "plt.legend(title=\"Başarı Durumu\", loc=\"upper left\", bbox_to_anchor=(1, 1), shadow=True, ncol=1)\n",
    "plt.show()"
   ]
  },
  {
   "cell_type": "markdown",
   "metadata": {},
   "source": [
    "### Makine Öğrenmesi\n",
    "\n",
    "Şimdi yapılan atışların isabetli olup olmadığını tespit etmemizi sağlayan dart yarı çapı parametresini bilmediğimizi varsayalım ve bunu elimizdeki verilerden öğrenmeye çalışalım. Bunun için çok temelden başlayarak bir makine öğrenmesi modeli oluşturalım."
   ]
  },
  {
   "cell_type": "code",
   "execution_count": 196,
   "metadata": {},
   "outputs": [],
   "source": [
    "# Model için sınıf tanımlama bu sınıf içinde eğitime ve test işlemlerini yapacağız. Model ilklendirilirken öğrenme oranı ve iterasyon sayısı belirtilir.\n",
    "\n",
    "class DartTahmin:\n",
    "    def __init__(self, ogrenme_orani=0.01, tekrar_sayisi=1000):\n",
    "        self.ogrenme_orani = ogrenme_orani\n",
    "        self.tekrar_sayisi = tekrar_sayisi\n",
    "        self.dairenin_yari_capi = round(np.random.rand() * 100) # Modelimizin tek parametresi olan dairenin yarı çapı rastgele bir değerle başlatılır.\n",
    "                                                                # Rastgele bir değer yerine ön bilgimiz varsa yakın bir değer de belirtilebilir. Ya da 0 olarak başlatılabilir.\n",
    "                                                                # Bu değer modelin öğrenme sürecinde güncellenecek ve gerçekte olan değerine yaklaşmaya çalışacaktır\n",
    "        print(f\"Modelin başlangıç yarı çapı: {self.dairenin_yari_capi}\\nModelin öğrenme oranı: {self.ogrenme_orani}\\nModelin öğrenme için tekrar sayısı: {self.tekrar_sayisi}\")\n",
    "        self.dogruluk = 0\n",
    "\n",
    "    def ogren(self, atislar):\n",
    "        # Dairenin yarı çapı başlangıçta rastgele bir değer alır. \n",
    "        # Ön bilgiler modelin daha hızlı öğrenmesini sağlar. Örneğin yarı çapın bir tam sayı olacağını biliyorsak ara değerler atlanmış olur.\n",
    "        for iterasyon in range(self.tekrar_sayisi):\n",
    "            true_positive = 0\n",
    "            true_negative = 0\n",
    "            false_positive = 0\n",
    "            false_negative = 0\n",
    "            for i in range(len(atislar)):\n",
    "                tahmin = self.tahmin_et(atislar['x'][i], atislar['y'][i])\n",
    "                gercek = atislar['isabet'][i]\n",
    "                if tahmin != gercek:\n",
    "                    if tahmin:\n",
    "                        self.dairenin_yari_capi -= self.ogrenme_orani\n",
    "                        false_positive += 1\n",
    "                    else:\n",
    "                        self.dairenin_yari_capi += self.ogrenme_orani\n",
    "                        false_negative += 1\n",
    "                else:\n",
    "                    if tahmin:\n",
    "                        true_positive += 1\n",
    "                    else:\n",
    "                        true_negative += 1\n",
    "\n",
    "            self.dogruluk = round((true_positive + true_negative) / len(atislar), 2)\n",
    "            self.dairenin_yari_capi = round(self.dairenin_yari_capi, 2)\n",
    "            print(f\"{iterasyon}. tur öğrenme adımı sonunda yarı çap: {self.dairenin_yari_capi} doğruluk: {self.dogruluk}\")\n",
    "\n",
    "        print(f\"Son yarı çap: {self.dairenin_yari_capi} doğruluk: {self.dogruluk}\")\n",
    "\n",
    "    def tahmin_et(self, x, y):\n",
    "        mesafe = m.sqrt(x**2 + y**2)\n",
    "        return mesafe <= self.dairenin_yari_capi\n",
    "\n",
    "    def test_et(self, atislar):\n",
    "        dogru_tahminler = 0\n",
    "        for i in range(len(atislar)):\n",
    "            tahmin = self.tahmin_et(atislar['x'][i], atislar['y'][i])\n",
    "            if tahmin == atislar['isabet'][i]:\n",
    "                dogru_tahminler += 1\n",
    "\n",
    "        dogruluk = round(dogru_tahminler / len(atislar), 2)\n",
    "        print(f\"Test doğruluğu: {round(dogruluk * 100)}%\")"
   ]
  },
  {
   "cell_type": "code",
   "execution_count": 197,
   "metadata": {},
   "outputs": [
    {
     "name": "stdout",
     "output_type": "stream",
     "text": [
      "Modelin başlangıç yarı çapı: 71\n",
      "Modelin öğrenme oranı: 0.001\n",
      "Modelin öğrenme için tekrar sayısı: 100\n"
     ]
    }
   ],
   "source": [
    "model = DartTahmin(\n",
    "    ogrenme_orani=0.001,\n",
    "    tekrar_sayisi=100\n",
    ")\n"
   ]
  },
  {
   "cell_type": "code",
   "execution_count": 198,
   "metadata": {},
   "outputs": [
    {
     "name": "stdout",
     "output_type": "stream",
     "text": [
      "0. tur öğrenme adımı sonunda yarı çap: 70.69 doğruluk: 0.69\n",
      "1. tur öğrenme adımı sonunda yarı çap: 70.39 doğruluk: 0.7\n",
      "2. tur öğrenme adımı sonunda yarı çap: 70.09 doğruluk: 0.7\n",
      "3. tur öğrenme adımı sonunda yarı çap: 69.79 doğruluk: 0.7\n",
      "4. tur öğrenme adımı sonunda yarı çap: 69.5 doğruluk: 0.71\n",
      "5. tur öğrenme adımı sonunda yarı çap: 69.21 doğruluk: 0.71\n",
      "6. tur öğrenme adımı sonunda yarı çap: 68.92 doğruluk: 0.71\n",
      "7. tur öğrenme adımı sonunda yarı çap: 68.64 doğruluk: 0.72\n",
      "8. tur öğrenme adımı sonunda yarı çap: 68.36 doğruluk: 0.72\n",
      "9. tur öğrenme adımı sonunda yarı çap: 68.08 doğruluk: 0.72\n",
      "10. tur öğrenme adımı sonunda yarı çap: 67.8 doğruluk: 0.72\n",
      "11. tur öğrenme adımı sonunda yarı çap: 67.52 doğruluk: 0.72\n",
      "12. tur öğrenme adımı sonunda yarı çap: 67.24 doğruluk: 0.72\n",
      "13. tur öğrenme adımı sonunda yarı çap: 66.97 doğruluk: 0.73\n",
      "14. tur öğrenme adımı sonunda yarı çap: 66.7 doğruluk: 0.73\n",
      "15. tur öğrenme adımı sonunda yarı çap: 66.43 doğruluk: 0.73\n",
      "16. tur öğrenme adımı sonunda yarı çap: 66.16 doğruluk: 0.73\n",
      "17. tur öğrenme adımı sonunda yarı çap: 65.89 doğruluk: 0.73\n",
      "18. tur öğrenme adımı sonunda yarı çap: 65.63 doğruluk: 0.74\n",
      "19. tur öğrenme adımı sonunda yarı çap: 65.37 doğruluk: 0.74\n",
      "20. tur öğrenme adımı sonunda yarı çap: 65.11 doğruluk: 0.74\n",
      "21. tur öğrenme adımı sonunda yarı çap: 64.86 doğruluk: 0.75\n",
      "22. tur öğrenme adımı sonunda yarı çap: 64.61 doğruluk: 0.75\n",
      "23. tur öğrenme adımı sonunda yarı çap: 64.36 doğruluk: 0.75\n",
      "24. tur öğrenme adımı sonunda yarı çap: 64.11 doğruluk: 0.75\n",
      "25. tur öğrenme adımı sonunda yarı çap: 63.86 doğruluk: 0.75\n",
      "26. tur öğrenme adımı sonunda yarı çap: 63.61 doğruluk: 0.75\n",
      "27. tur öğrenme adımı sonunda yarı çap: 63.36 doğruluk: 0.75\n",
      "28. tur öğrenme adımı sonunda yarı çap: 63.12 doğruluk: 0.76\n",
      "29. tur öğrenme adımı sonunda yarı çap: 62.88 doğruluk: 0.76\n",
      "30. tur öğrenme adımı sonunda yarı çap: 62.64 doğruluk: 0.76\n",
      "31. tur öğrenme adımı sonunda yarı çap: 62.4 doğruluk: 0.76\n",
      "32. tur öğrenme adımı sonunda yarı çap: 62.16 doğruluk: 0.76\n",
      "33. tur öğrenme adımı sonunda yarı çap: 61.93 doğruluk: 0.77\n",
      "34. tur öğrenme adımı sonunda yarı çap: 61.7 doğruluk: 0.77\n",
      "35. tur öğrenme adımı sonunda yarı çap: 61.47 doğruluk: 0.77\n",
      "36. tur öğrenme adımı sonunda yarı çap: 61.24 doğruluk: 0.77\n",
      "37. tur öğrenme adımı sonunda yarı çap: 61.01 doğruluk: 0.77\n",
      "38. tur öğrenme adımı sonunda yarı çap: 60.79 doğruluk: 0.78\n",
      "39. tur öğrenme adımı sonunda yarı çap: 60.57 doğruluk: 0.78\n",
      "40. tur öğrenme adımı sonunda yarı çap: 60.35 doğruluk: 0.78\n",
      "41. tur öğrenme adımı sonunda yarı çap: 60.13 doğruluk: 0.78\n",
      "42. tur öğrenme adımı sonunda yarı çap: 59.91 doğruluk: 0.78\n",
      "43. tur öğrenme adımı sonunda yarı çap: 59.7 doğruluk: 0.79\n",
      "44. tur öğrenme adımı sonunda yarı çap: 59.49 doğruluk: 0.79\n",
      "45. tur öğrenme adımı sonunda yarı çap: 59.28 doğruluk: 0.79\n",
      "46. tur öğrenme adımı sonunda yarı çap: 59.07 doğruluk: 0.79\n",
      "47. tur öğrenme adımı sonunda yarı çap: 58.86 doğruluk: 0.79\n",
      "48. tur öğrenme adımı sonunda yarı çap: 58.66 doğruluk: 0.8\n",
      "49. tur öğrenme adımı sonunda yarı çap: 58.46 doğruluk: 0.8\n",
      "50. tur öğrenme adımı sonunda yarı çap: 58.26 doğruluk: 0.8\n",
      "51. tur öğrenme adımı sonunda yarı çap: 58.06 doğruluk: 0.8\n",
      "52. tur öğrenme adımı sonunda yarı çap: 57.86 doğruluk: 0.8\n",
      "53. tur öğrenme adımı sonunda yarı çap: 57.67 doğruluk: 0.81\n",
      "54. tur öğrenme adımı sonunda yarı çap: 57.48 doğruluk: 0.81\n",
      "55. tur öğrenme adımı sonunda yarı çap: 57.29 doğruluk: 0.81\n",
      "56. tur öğrenme adımı sonunda yarı çap: 57.1 doğruluk: 0.81\n",
      "57. tur öğrenme adımı sonunda yarı çap: 56.91 doğruluk: 0.81\n",
      "58. tur öğrenme adımı sonunda yarı çap: 56.72 doğruluk: 0.81\n",
      "59. tur öğrenme adımı sonunda yarı çap: 56.53 doğruluk: 0.81\n",
      "60. tur öğrenme adımı sonunda yarı çap: 56.34 doğruluk: 0.81\n",
      "61. tur öğrenme adımı sonunda yarı çap: 56.16 doğruluk: 0.82\n",
      "62. tur öğrenme adımı sonunda yarı çap: 55.98 doğruluk: 0.82\n",
      "63. tur öğrenme adımı sonunda yarı çap: 55.8 doğruluk: 0.82\n",
      "64. tur öğrenme adımı sonunda yarı çap: 55.62 doğruluk: 0.82\n",
      "65. tur öğrenme adımı sonunda yarı çap: 55.44 doğruluk: 0.82\n",
      "66. tur öğrenme adımı sonunda yarı çap: 55.26 doğruluk: 0.82\n",
      "67. tur öğrenme adımı sonunda yarı çap: 55.09 doğruluk: 0.82\n",
      "68. tur öğrenme adımı sonunda yarı çap: 54.92 doğruluk: 0.83\n",
      "69. tur öğrenme adımı sonunda yarı çap: 54.75 doğruluk: 0.83\n",
      "70. tur öğrenme adımı sonunda yarı çap: 54.58 doğruluk: 0.83\n",
      "71. tur öğrenme adımı sonunda yarı çap: 54.41 doğruluk: 0.83\n",
      "72. tur öğrenme adımı sonunda yarı çap: 54.24 doğruluk: 0.83\n",
      "73. tur öğrenme adımı sonunda yarı çap: 54.07 doğruluk: 0.83\n",
      "74. tur öğrenme adımı sonunda yarı çap: 53.9 doğruluk: 0.83\n",
      "75. tur öğrenme adımı sonunda yarı çap: 53.73 doğruluk: 0.83\n",
      "76. tur öğrenme adımı sonunda yarı çap: 53.57 doğruluk: 0.84\n",
      "77. tur öğrenme adımı sonunda yarı çap: 53.41 doğruluk: 0.84\n",
      "78. tur öğrenme adımı sonunda yarı çap: 53.25 doğruluk: 0.84\n",
      "79. tur öğrenme adımı sonunda yarı çap: 53.09 doğruluk: 0.84\n",
      "80. tur öğrenme adımı sonunda yarı çap: 52.93 doğruluk: 0.84\n",
      "81. tur öğrenme adımı sonunda yarı çap: 52.78 doğruluk: 0.84\n",
      "82. tur öğrenme adımı sonunda yarı çap: 52.63 doğruluk: 0.85\n",
      "83. tur öğrenme adımı sonunda yarı çap: 52.48 doğruluk: 0.85\n",
      "84. tur öğrenme adımı sonunda yarı çap: 52.33 doğruluk: 0.85\n",
      "85. tur öğrenme adımı sonunda yarı çap: 52.18 doğruluk: 0.85\n",
      "86. tur öğrenme adımı sonunda yarı çap: 52.03 doğruluk: 0.85\n",
      "87. tur öğrenme adımı sonunda yarı çap: 51.89 doğruluk: 0.85\n",
      "88. tur öğrenme adımı sonunda yarı çap: 51.75 doğruluk: 0.86\n",
      "89. tur öğrenme adımı sonunda yarı çap: 51.61 doğruluk: 0.86\n",
      "90. tur öğrenme adımı sonunda yarı çap: 51.47 doğruluk: 0.86\n",
      "91. tur öğrenme adımı sonunda yarı çap: 51.33 doğruluk: 0.86\n",
      "92. tur öğrenme adımı sonunda yarı çap: 51.19 doğruluk: 0.86\n",
      "93. tur öğrenme adımı sonunda yarı çap: 51.05 doğruluk: 0.86\n",
      "94. tur öğrenme adımı sonunda yarı çap: 50.92 doğruluk: 0.87\n",
      "95. tur öğrenme adımı sonunda yarı çap: 50.79 doğruluk: 0.87\n",
      "96. tur öğrenme adımı sonunda yarı çap: 50.66 doğruluk: 0.87\n",
      "97. tur öğrenme adımı sonunda yarı çap: 50.53 doğruluk: 0.87\n",
      "98. tur öğrenme adımı sonunda yarı çap: 50.4 doğruluk: 0.87\n",
      "99. tur öğrenme adımı sonunda yarı çap: 50.27 doğruluk: 0.87\n",
      "Son yarı çap: 50.27 doğruluk: 0.87\n"
     ]
    }
   ],
   "source": [
    "model.ogren(atislar_df)"
   ]
  },
  {
   "cell_type": "code",
   "execution_count": 186,
   "metadata": {},
   "outputs": [
    {
     "name": "stdout",
     "output_type": "stream",
     "text": [
      "Test doğruluğu: 94%\n"
     ]
    }
   ],
   "source": [
    "model.test_et(atislar_df)"
   ]
  },
  {
   "cell_type": "code",
   "execution_count": 184,
   "metadata": {},
   "outputs": [
    {
     "data": {
      "text/plain": [
       "False"
      ]
     },
     "execution_count": 184,
     "metadata": {},
     "output_type": "execute_result"
    }
   ],
   "source": [
    "model.tahmin_et(50, 0)"
   ]
  },
  {
   "cell_type": "code",
   "execution_count": null,
   "metadata": {},
   "outputs": [],
   "source": [
    "df = pd.read_csv(\"emails.csv\")\n",
    "\n",
    "# search for each row and columns\n",
    "for i in range(len(df)):\n",
    "    for j in range(len(df.columns)):\n",
    "        # check if the value is string\n",
    "        if type(df.iloc[i, j]) == str:\n",
    "            # print the value\n",
    "        print(df.iloc[i, j])"
   ]
  }
 ],
 "metadata": {
  "kernelspec": {
   "display_name": "Python 3",
   "language": "python",
   "name": "python3"
  },
  "language_info": {
   "codemirror_mode": {
    "name": "ipython",
    "version": 3
   },
   "file_extension": ".py",
   "mimetype": "text/x-python",
   "name": "python",
   "nbconvert_exporter": "python",
   "pygments_lexer": "ipython3",
   "version": "3.9.6"
  }
 },
 "nbformat": 4,
 "nbformat_minor": 2
}
