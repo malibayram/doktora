{
 "cells": [
  {
   "cell_type": "markdown",
   "metadata": {},
   "source": [
    "## [Visualize dummy netrwork](https://alexlenail.me/NN-SVG/index.html)"
   ]
  },
  {
   "cell_type": "code",
   "execution_count": 3,
   "metadata": {},
   "outputs": [],
   "source": [
    "import tensorflow as tf\n",
    "import tensorflow_datasets.public_api as tfds\n",
    "\n",
    "import numpy as np # linear cebir\n",
    "import pandas as pd\n",
    "import matplotlib.pyplot as plt\n",
    "%matplotlib inline"
   ]
  },
  {
   "cell_type": "code",
   "execution_count": 4,
   "metadata": {},
   "outputs": [
    {
     "data": {
      "text/plain": [
       "<_PrefetchDataset element_spec={'image': TensorSpec(shape=(28, 28, 1), dtype=tf.uint8, name=None), 'label': TensorSpec(shape=(), dtype=tf.int64, name=None)}>"
      ]
     },
     "execution_count": 4,
     "metadata": {},
     "output_type": "execute_result"
    }
   ],
   "source": [
    "ham_veri = tfds.load(name=\"mnist\", split=tfds.Split.TRAIN)\n",
    "ham_veri"
   ]
  },
  {
   "cell_type": "code",
   "execution_count": 5,
   "metadata": {},
   "outputs": [
    {
     "data": {
      "text/plain": [
       "60000"
      ]
     },
     "execution_count": 5,
     "metadata": {},
     "output_type": "execute_result"
    }
   ],
   "source": [
    "len(ham_veri)"
   ]
  },
  {
   "cell_type": "code",
   "execution_count": 6,
   "metadata": {},
   "outputs": [],
   "source": [
    "resim_boyutu = 7"
   ]
  },
  {
   "cell_type": "code",
   "execution_count": 7,
   "metadata": {},
   "outputs": [],
   "source": [
    "def resmi_boyutlandir(ornek):\n",
    "    resim = ornek['image']\n",
    "    resim = tf.image.resize(resim, (resim_boyutu, resim_boyutu))\n",
    "    return {'image': resim, 'label': ornek['label']}"
   ]
  },
  {
   "cell_type": "code",
   "execution_count": 8,
   "metadata": {},
   "outputs": [],
   "source": [
    "veriseti = ham_veri.map(resmi_boyutlandir)"
   ]
  },
  {
   "cell_type": "code",
   "execution_count": 9,
   "metadata": {},
   "outputs": [],
   "source": [
    "# ReLU fonksiyonu gelen değer 0'dan küçükse 0'a eşitler, diğer durumlarda değeri olduğu gibi bırakır.\n",
    "def ReLU(degerler):\n",
    "    degerler[degerler < 0] = 0\n",
    "    return degerler"
   ]
  },
  {
   "cell_type": "code",
   "execution_count": 10,
   "metadata": {},
   "outputs": [],
   "source": [
    "def tahmin_et(ornek, agirliklar, biaslar):\n",
    "    birinci_katman = np.matmul(ornek, agirliklar[0])\n",
    "    birinci_katman = birinci_katman + biaslar[0]\n",
    "    birinci_katman = ReLU(birinci_katman)\n",
    "    \n",
    "    ikinci_katman = np.matmul(birinci_katman, agirliklar[1])\n",
    "    \n",
    "    # Üçüncü katmanın çıktısını hesaplamak için softmax fonksiyonunu kullanıyoruz.\n",
    "    # Softmax fonksiyonu, çıktıları olasılık değerlerine dönüştürür. Şu şekilde çalışır:\n",
    "    # 1. İkinci katmandan gelen değerlerin exp() fonksiyonunu alır.\n",
    "    # 2. Bu değerleri toplar.\n",
    "    # 3. Her bir değeri toplam değere böler.\n",
    "    # Bu işlem sonucunda, her bir çıktı değeri 0 ile 1 arasında bir değer alır ve toplam değer 1 olur.\n",
    "    softmax_pay = np.exp(ikinci_katman)\n",
    "    softmax_payda = np.sum(softmax_pay, axis=1).reshape(-1,1)\n",
    "    softmax = softmax_pay / softmax_payda\n",
    "    return softmax"
   ]
  },
  {
   "cell_type": "code",
   "execution_count": 11,
   "metadata": {},
   "outputs": [],
   "source": [
    "def kayip_hesapla(y_tahmin, y_gercek):\n",
    "    '''\n",
    "    Kayıp fonksiyonu, modelin tahminlerinin ne kadar yanlış olduğunu ölçer.\n",
    "    Bu örnekte, çok sınıflı çapraz entropi kaybını kullanıyoruz.\n",
    "    Şu şekilde çalışır:\n",
    "    1. Her bir örneğin gerçek etiketinin one-hot encoding'ini alır.\n",
    "    2. Modelin tahminlerini logaritma alır.\n",
    "    3. Her bir örneğin kaybını hesaplar.\n",
    "    4. Tüm örneklerin kaybının ortalamasını alır.    \n",
    "    '''\n",
    "    global sinif_sayisi\n",
    "    sinif_sayisi = 10\n",
    "    ornek_sayisi = len(y_gercek)\n",
    "\n",
    "    # One-hot encoding\n",
    "    y_gercek_one_hot = (y_gercek[:, np.newaxis] == np.arange(sinif_sayisi))\n",
    "    # Şu şekilde bir matris oluşturur:\n",
    "    # [[0, 1, 0, 0, 0, 0, 0, 0, 0, 0],\n",
    "    #  [0, 0, 0, 1, 0, 0, 0, 0, 0, 0],\n",
    "    #  [0, 0, 0, 0, 0, 0, 0, 0, 0, 1],\n",
    "    #  ...\n",
    "    #  [0, 0, 0, 0, 0, 0, 0, 0, 1, 0]]\n",
    "\n",
    "    # Her bir örneğin kaybını hesaplar\n",
    "    kayip_ornek = (np.log(y_tahmin) * y_gercek_one_hot).sum(axis=1)\n",
    "    # Tüm örneklerin kaybının ortalamasını alır\n",
    "    return -np.mean(kayip_ornek)"
   ]
  },
  {
   "cell_type": "code",
   "execution_count": 35,
   "metadata": {},
   "outputs": [],
   "source": [
    "def geri_yayilim(agirliklar, biaslar, girdi_verisi, etiketler, duzenleme_katsayisi = 1e-4):\n",
    "    '''\n",
    "    Adım 1: İleri geçiş (forward pass) yaparak modelin çıktısını hesaplama\n",
    "    Adım 2: Geri yayılım (backpropagation) ile ağırlık ve biasların türevlerini hesaplama\n",
    "    '''\n",
    "    numune_sayisi = girdi_verisi.shape[0]\n",
    "    \n",
    "    ### Adım 1: İleri Geçiş\n",
    "    # Katman 1: Giriş Katmanı -> Katman 2: Gizli Katman\n",
    "    gizli_katman_giris = np.matmul(girdi_verisi, agirliklar[0]) + biaslar[0]\n",
    "    # Gizli katman aktivasyonu (ReLU fonksiyonu)\n",
    "    gizli_katman_aktivasyonu = ReLU(gizli_katman_giris)\n",
    "    \n",
    "    # Katman 2: Gizli Katman -> Katman 3: Çıkış Katmanı\n",
    "    cikis_katman_giris = np.matmul(gizli_katman_aktivasyonu, agirliklar[1])\n",
    "    ekspotansiyel = np.exp(cikis_katman_giris)\n",
    "    toplam_ekspotansiyel = np.sum(ekspotansiyel, axis=1).reshape(-1, 1)\n",
    "    cikis_aktivasyonu = ekspotansiyel / toplam_ekspotansiyel\n",
    "    \n",
    "    ### Adım 2: Geri Yayılım\n",
    "    \n",
    "    # Katman 3: Çıkış Katmanı -> Katman 2: Gizli Katman için ağırlıkların türevini hesaplama\n",
    "    # delta2, kayıp fonksiyonunun cikis_katman_giris'e göre türevini temsil eder\n",
    "    etiketler_bir_sicak_vektor = (etiketler[:, np.newaxis] == np.arange(sinif_sayisi))\n",
    "    delta2 = (cikis_aktivasyonu - etiketler_bir_sicak_vektor)\n",
    "    gizli_katman_agirlik_turevi = np.matmul(gizli_katman_aktivasyonu.T, delta2)\n",
    "    \n",
    "    # Katman 2: Gizli Katman -> Katman 1: Giriş Katmanı için ağırlıkların türevini hesaplama\n",
    "    # delta1, gizli_katman_giris'in aktivasyon fonksiyonuna göre türevini temsil eder\n",
    "    delta1 = np.matmul(delta2, agirliklar[1].T) * (gizli_katman_giris > 0)\n",
    "    giris_katman_agirlik_turevi = np.matmul(girdi_verisi.T, delta1)\n",
    "    \n",
    "    # Ekstra katman türevi öğrenci projesi olabilir\n",
    "    \n",
    "    # Katman 1: Giriş Katmanı için türev yok (Giriş katmanı, sadece veriyi iletir)\n",
    "    \n",
    "    # Düzenleme katsayısı ile ağırlıkların türevini düzenleme\n",
    "    agirlik_turevleri = [giris_katman_agirlik_turevi / numune_sayisi + duzenleme_katsayisi * agirliklar[0], \n",
    "                         gizli_katman_agirlik_turevi / numune_sayisi + duzenleme_katsayisi * agirliklar[1]]\n",
    "    bias_turevleri = [np.mean(delta1, axis=0)]\n",
    "    \n",
    "    # agirlik_turevleri[0], agirliklar[0]'ın türevini ve agirlik_turevleri[1], agirliklar[1]'in türevini temsil eder; bias_turevleri için de benzer\n",
    "    return agirlik_turevleri, bias_turevleri"
   ]
  },
  {
   "cell_type": "code",
   "execution_count": 21,
   "metadata": {},
   "outputs": [],
   "source": [
    "def backprop(W, b, X, y, alpha = 1e-4):\n",
    "    '''\n",
    "    Step 1: explicit forward pass h(X;W,b)\n",
    "    Step 2: backpropagation for dW and db\n",
    "    '''\n",
    "    N = X.shape[0]\n",
    "    \n",
    "    ### Step 1:\n",
    "    # layer 1 = input layer\n",
    "    # layer 1 (input layer) -> layer 2 (hidden layer)\n",
    "    z1 = np.matmul(X, W[0]) + b[0]\n",
    "    # layer 2 activation\n",
    "    a2 = ReLU(z1)\n",
    "    \n",
    "    # one more layer\n",
    "    \n",
    "    # layer 2 (hidden layer) -> layer 3 (output layer)\n",
    "    z2 = np.matmul(a2, W[1])\n",
    "    s = np.exp(z2)\n",
    "    total = np.sum(s, axis=1).reshape(-1,1)\n",
    "    sigma = s / total\n",
    "    \n",
    "    ### Step 2:\n",
    "    \n",
    "    # layer 2->layer 3 weights' derivative\n",
    "    # delta2 is \\partial L/partial z2, of shape (N,K)\n",
    "    y_one_hot_vec = (y[:,np.newaxis] == np.arange(sinif_sayisi))\n",
    "    delta2 = (sigma - y_one_hot_vec)\n",
    "    grad_W1 = np.matmul(a2.T, delta2)\n",
    "    \n",
    "    # layer 1->layer 2 weights' derivative\n",
    "    # delta1 is \\partial a2/partial z1\n",
    "    # layer 2 activation's (weak) derivative is 1*(z1>0)\n",
    "    delta1 = np.matmul(delta2, W[1].T)*(z1>0)\n",
    "    grad_W0 = np.matmul(X.T, delta1)\n",
    "    \n",
    "    # Possible student project: extra layer of derivative\n",
    "    \n",
    "    # no derivative for layer 1\n",
    "    \n",
    "    # the alpha part is the derivative for the regularization\n",
    "    # regularization = 0.5*alpha*(np.sum(W[1]**2) + np.sum(W[0]**2))\n",
    "    \n",
    "    \n",
    "    dW = [grad_W0 / N + alpha * W[0], grad_W1 / N + alpha * W[1]]\n",
    "    db = [np.mean(delta1, axis=0)]\n",
    "    # dW[0] is W[0]'s derivative, and dW[1] is W[1]'s derivative; similar for db\n",
    "    return dW, db"
   ]
  },
  {
   "cell_type": "code",
   "execution_count": 14,
   "metadata": {},
   "outputs": [
    {
     "name": "stderr",
     "output_type": "stream",
     "text": [
      "2024-06-23 14:52:44.385191: W tensorflow/core/framework/local_rendezvous.cc:404] Local rendezvous is aborting with status: OUT_OF_RANGE: End of sequence\n",
      "2024-06-23 14:52:54.658026: W tensorflow/core/framework/local_rendezvous.cc:404] Local rendezvous is aborting with status: OUT_OF_RANGE: End of sequence\n"
     ]
    }
   ],
   "source": [
    "y_veri = np.array([ornek[\"label\"] for ornek in tfds.as_numpy(veriseti)])\n",
    "X_veri = np.array([ornek[\"image\"].reshape(-1) for ornek in tfds.as_numpy(veriseti)]) / 255"
   ]
  },
  {
   "cell_type": "code",
   "execution_count": 15,
   "metadata": {},
   "outputs": [
    {
     "name": "stdout",
     "output_type": "stream",
     "text": [
      "(59000, 49) (59000,)\n",
      "(1000, 49) (1000,)\n"
     ]
    }
   ],
   "source": [
    "X_test = X_veri[:1000]\n",
    "y_test = y_veri[:1000]\n",
    "\n",
    "X_egitim = X_veri[1000:]\n",
    "y_egitim = y_veri[1000:]\n",
    "\n",
    "print(X_egitim.shape, y_egitim.shape)\n",
    "print(X_test.shape, y_test.shape)"
   ]
  },
  {
   "cell_type": "code",
   "execution_count": 43,
   "metadata": {},
   "outputs": [],
   "source": [
    "# Parametrelerin tanımlanması\n",
    "ogrenme_orani_eta = 5e-1  # Öğrenme oranı\n",
    "duzenleme_katsayisi_alpha = 1e-6  # Düzenleme katsayısı\n",
    "rmsprop_gamma = 0.99  # RMSprop için gamma değeri\n",
    "rmsprop_eps = 1e-3  # RMSprop için epsilon değeri\n",
    "toplam_iterasyon_sayisi = 100  # Gradyan iniş algoritmasının iterasyon sayısı\n",
    "gizli_katman_noron_sayisi = 16  # Gizli katmandaki nöron sayısı\n",
    "girdi_ozellik_sayisi = X_egitim.shape[1]  # Bir resimdeki piksel sayısı\n",
    "sinif_sayisi = 10  # Sınıf sayısı"
   ]
  },
  {
   "cell_type": "code",
   "execution_count": 16,
   "metadata": {},
   "outputs": [],
   "source": [
    "eta = 5e-1\n",
    "alpha = 1e-6 # regularization\n",
    "gamma = 0.99 # RMSprop\n",
    "eps = 1e-3 # RMSprop\n",
    "num_iter = 100 # number of iterations of gradient descent\n",
    "n_H = 16 # number of neurons in the hidden layer\n",
    "n = X_egitim.shape[1] # number of pixels in an image\n",
    "sinif_sayisi = 10"
   ]
  },
  {
   "cell_type": "code",
   "execution_count": 17,
   "metadata": {},
   "outputs": [
    {
     "data": {
      "image/png": "[encoded data removed]",
      "text/plain": [
       "<Figure size 640x480 with 1 Axes>"
      ]
     },
     "metadata": {},
     "output_type": "display_data"
    }
   ],
   "source": [
    "resim_sirasi = 1\n",
    "def resmi_goster(X):\n",
    "    plt.imshow(X.reshape(resim_boyutu, resim_boyutu), cmap='gray')\n",
    "    # set title to be the label of the image\n",
    "    plt.title(f\"Label: {y_test[resim_sirasi]}\")\n",
    "    plt.show()\n",
    "\n",
    "resmi_goster(X_test[resim_sirasi])\n"
   ]
  },
  {
   "cell_type": "code",
   "execution_count": 18,
   "metadata": {},
   "outputs": [
    {
     "data": {
      "image/png": "[encoded data removed]",
      "text/plain": [
       "<Figure size 1200x500 with 10 Axes>"
      ]
     },
     "metadata": {},
     "output_type": "display_data"
    }
   ],
   "source": [
    "fig, axes = plt.subplots(2,5, figsize=(12,5))\n",
    "axes = axes.flatten()\n",
    "idx = np.random.randint(0,42000,size=10)\n",
    "for i in range(10):\n",
    "    axes[i].imshow(X_egitim[idx[i],:].reshape(resim_boyutu, resim_boyutu), cmap='gray')\n",
    "    axes[i].axis('off') # hide the axes ticks\n",
    "    axes[i].set_title(str(int(y_egitim[idx[i]])), color= 'black', fontsize=25)\n",
    "plt.show()"
   ]
  },
  {
   "cell_type": "code",
   "execution_count": 46,
   "metadata": {},
   "outputs": [],
   "source": [
    "# Başlangıç değerleri\n",
    "np.random.seed(42)\n",
    "# Ağırlık ve biasların başlangıç değerleri\n",
    "agirliklar = [np.random.randn(girdi_ozellik_sayisi, gizli_katman_noron_sayisi), \n",
    "              np.random.randn(gizli_katman_noron_sayisi, sinif_sayisi)]\n",
    "biaslar = [np.random.randn(gizli_katman_noron_sayisi)]"
   ]
  },
  {
   "cell_type": "code",
   "execution_count": 44,
   "metadata": {},
   "outputs": [],
   "source": [
    "# initialization\n",
    "np.random.seed(42)\n",
    "# W = [1e-1 * np.random.randn(n, n_H), 1e-1 * np.random.randn(n_H, K)]\n",
    "# init weight and bias in data type float16\n",
    "W = [1e-1 * np.random.randn(n, n_H).astype(np.float16), 1e-1 * np.random.randn(n_H, sinif_sayisi).astype(np.float16)]\n",
    "b = [np.random.randn(n_H).astype(np.float16)]"
   ]
  },
  {
   "cell_type": "code",
   "execution_count": 23,
   "metadata": {},
   "outputs": [],
   "source": [
    "W_0_df = pd.DataFrame(W[0])\n",
    "W_0_df.index += 1\n",
    "W_0_df.columns += 1\n",
    "W_0_df.to_csv(\"W_0.csv\", sep='\\t')"
   ]
  },
  {
   "cell_type": "code",
   "execution_count": 24,
   "metadata": {},
   "outputs": [],
   "source": [
    "W_1_df = pd.DataFrame(W[1])\n",
    "W_1_df.index += 1\n",
    "W_1_df.columns += 1\n",
    "W_1_df.to_csv(\"W_1.csv\", sep='\\t')"
   ]
  },
  {
   "cell_type": "code",
   "execution_count": 25,
   "metadata": {},
   "outputs": [],
   "source": [
    "b_df = pd.DataFrame(b)\n",
    "b_df.index += 1\n",
    "b_df.columns += 1\n",
    "b_df.to_csv(\"b.csv\", sep='\\t')"
   ]
  },
  {
   "cell_type": "code",
   "execution_count": 26,
   "metadata": {},
   "outputs": [
    {
     "data": {
      "text/plain": [
       "((49, 16), (16, 10), (16,))"
      ]
     },
     "execution_count": 26,
     "metadata": {},
     "output_type": "execute_result"
    }
   ],
   "source": [
    "W[0].shape, W[1].shape, b[0].shape"
   ]
  },
  {
   "cell_type": "code",
   "execution_count": 47,
   "metadata": {},
   "outputs": [
    {
     "name": "stdout",
     "output_type": "stream",
     "text": [
      "Cross-entropy kaybı 1 iterasyondan sonra 5.5798352\n",
      "Eğitim doğruluğu 1 iterasyondan sonra 15.8322%\n",
      "gizli_katman_agirliklari_gW0=1.0455 cikis_katman_agirliklari_gW1=1.0783 gizli_katman_biaslari_gb0=1.0080\n",
      "ogrenme_orani_etaW0=0.4888 ogrenme_orani_etaW1=0.4813 ogrenme_orani_etab0=0.4978\n",
      "|agirlik_turevleri[0]|=2.35652 |agirlik_turevleri[1]|=2.97184 |bias_turevleri[0]|=1.34051 \n",
      "\n",
      "Son cross-entropy kaybı 0.93053463\n",
      "Son eğitim doğruluğu 68.5373%\n",
      "CPU times: user 51.7 s, sys: 3.7 s, total: 55.4 s\n",
      "Wall time: 5.22 s\n"
     ]
    }
   ],
   "source": [
    "%%time\n",
    "\n",
    "# Başlangıç değerleri\n",
    "gizli_katman_agirliklari_gW0 = cikis_katman_agirliklari_gW1 = gizli_katman_biaslari_gb0 = 1\n",
    "\n",
    "# Eğitim döngüsü\n",
    "for iterasyon in range(toplam_iterasyon_sayisi):\n",
    "    # Ağırlık ve biasların türevlerini geri yayılım fonksiyonuyla hesapla\n",
    "    agirlik_turevleri, bias_turevleri = geri_yayilim(agirliklar, biaslar, X_egitim, y_egitim, duzenleme_katsayisi_alpha)\n",
    "    \n",
    "    # Gizli katman ağırlıkları için RMSprop güncellemesi\n",
    "    gizli_katman_agirliklari_gW0 = rmsprop_gamma * gizli_katman_agirliklari_gW0 + (1 - rmsprop_gamma) * np.sum(agirlik_turevleri[0]**2)\n",
    "    ogrenme_orani_etaW0 = ogrenme_orani_eta / np.sqrt(gizli_katman_agirliklari_gW0 + rmsprop_eps)\n",
    "    agirliklar[0] -= ogrenme_orani_etaW0 * agirlik_turevleri[0]\n",
    "    \n",
    "    # Çıkış katman ağırlıkları için RMSprop güncellemesi\n",
    "    cikis_katman_agirliklari_gW1 = rmsprop_gamma * cikis_katman_agirliklari_gW1 + (1 - rmsprop_gamma) * np.sum(agirlik_turevleri[1]**2)\n",
    "    ogrenme_orani_etaW1 = ogrenme_orani_eta / np.sqrt(cikis_katman_agirliklari_gW1 + rmsprop_eps)\n",
    "    agirliklar[1] -= ogrenme_orani_etaW1 * agirlik_turevleri[1]\n",
    "    \n",
    "    # Gizli katman biasları için RMSprop güncellemesi\n",
    "    gizli_katman_biaslari_gb0 = rmsprop_gamma * gizli_katman_biaslari_gb0 + (1 - rmsprop_gamma) * np.sum(bias_turevleri[0]**2)\n",
    "    ogrenme_orani_etab0 = ogrenme_orani_eta / np.sqrt(gizli_katman_biaslari_gb0 + rmsprop_eps)\n",
    "    biaslar[0] -= ogrenme_orani_etab0 * bias_turevleri[0]\n",
    "    \n",
    "    if iterasyon % 500 == 0:\n",
    "        # Durum kontrolü 1: Kayıp ve doğruluk hesaplama\n",
    "        tahminler = tahmin_et(X_egitim, agirliklar, biaslar)\n",
    "        print(\"Cross-entropy kaybı\", iterasyon + 1, \"iterasyondan sonra {:.8}\".format(\n",
    "              kayip_hesapla(tahminler, y_egitim)))\n",
    "        print(\"Eğitim doğruluğu\", iterasyon + 1, \"iterasyondan sonra {:.4%}\".format( \n",
    "              np.mean(np.argmax(tahminler, axis=1) == y_egitim)))\n",
    "        \n",
    "        # Durum kontrolü 2: RMSprop değerlerinin çıktısını yazdırma\n",
    "        print(\"gizli_katman_agirliklari_gW0={:.4f} cikis_katman_agirliklari_gW1={:.4f} gizli_katman_biaslari_gb0={:.4f}\\n\"\n",
    "              \"ogrenme_orani_etaW0={:.4f} ogrenme_orani_etaW1={:.4f} ogrenme_orani_etab0={:.4f}\"\n",
    "              .format(gizli_katman_agirliklari_gW0, cikis_katman_agirliklari_gW1, gizli_katman_biaslari_gb0, \n",
    "                      ogrenme_orani_etaW0, ogrenme_orani_etaW1, ogrenme_orani_etab0))\n",
    "        \n",
    "        # Durum kontrolü 3: Ağırlık ve bias türevlerinin normlarını yazdırma\n",
    "        print(\"|agirlik_turevleri[0]|={:.5f} |agirlik_turevleri[1]|={:.5f} |bias_turevleri[0]|={:.5f}\"\n",
    "             .format(np.linalg.norm(agirlik_turevleri[0]), np.linalg.norm(agirlik_turevleri[1]), np.linalg.norm(bias_turevleri[0])), \"\\n\")\n",
    "        \n",
    "        # RMSprop değerlerini sıfırlama\n",
    "        gizli_katman_agirliklari_gW0 = cikis_katman_agirliklari_gW1 = gizli_katman_biaslari_gb0 = 1\n",
    "\n",
    "# Son tahminler ve sonuçların yazdırılması\n",
    "son_tahminler = tahmin_et(X_egitim, agirliklar, biaslar)\n",
    "print(\"Son cross-entropy kaybı {:.8}\".format(kayip_hesapla(son_tahminler, y_egitim)))\n",
    "print(\"Son eğitim doğruluğu {:.4%}\".format(np.mean(np.argmax(son_tahminler, axis=1) == y_egitim)))\n"
   ]
  },
  {
   "cell_type": "code",
   "execution_count": 40,
   "metadata": {},
   "outputs": [
    {
     "name": "stdout",
     "output_type": "stream",
     "text": [
      "Cross-entropy loss after 1 iterations is 0.81765032\n",
      "Training accuracy after 1 iterations is 73.7915%\n",
      "gW0=0.9900 gW1=0.9900 gb0=0.9900\n",
      "etaW0=0.5023 etaW1=0.5023 etab0=0.5023\n",
      "|dW0|=0.04784 |dW1|=0.04419 |db0|=0.00771 \n",
      "\n",
      "Final cross-entropy loss is 0.70133841\n",
      "Final training accuracy is 77.4525%\n",
      "CPU times: user 25.8 s, sys: 1.35 s, total: 27.2 s\n",
      "Wall time: 2.49 s\n"
     ]
    }
   ],
   "source": [
    "%%time\n",
    "gW0 = gW1 = gb0 = 1\n",
    "\n",
    "for i in range(num_iter):\n",
    "    dW, db = geri_yayilim(W, b, X_egitim, y_egitim, alpha)\n",
    "    \n",
    "    gW0 = gamma*gW0 + (1 - gamma) * np.sum(dW[0]**2)\n",
    "    etaW0 = eta / np.sqrt(gW0 + eps)\n",
    "    W[0] -= etaW0 * dW[0]\n",
    "    \n",
    "    gW1 = gamma*gW1 + (1 - gamma) * np.sum(dW[1]**2)\n",
    "    etaW1 = eta / np.sqrt(gW1 + eps)\n",
    "    W[1] -= etaW1 * dW[1]\n",
    "    \n",
    "    gb0 = gamma*gb0 + (1 - gamma) * np.sum(db[0]**2)\n",
    "    etab0 = eta / np.sqrt(gb0 + eps)\n",
    "    b[0] -= etab0 * db[0]\n",
    "    \n",
    "    if i % 500 == 0:\n",
    "        # sanity check 1\n",
    "        y_pred = tahmin_et(X_egitim, W, b)\n",
    "        print(\"Cross-entropy loss after\", i+1, \"iterations is {:.8}\".format(\n",
    "              kayip_hesapla(y_pred, y_egitim)))\n",
    "        print(\"Training accuracy after\", i+1, \"iterations is {:.4%}\".format( \n",
    "              np.mean(np.argmax(y_pred, axis=1) == y_egitim)))\n",
    "        \n",
    "        # sanity check 2\n",
    "        print(\"gW0={:.4f} gW1={:.4f} gb0={:.4f}\\netaW0={:.4f} etaW1={:.4f} etab0={:.4f}\"\n",
    "              .format(gW0, gW1, gb0, etaW0, etaW1, etab0))\n",
    "        \n",
    "        # sanity check 3\n",
    "        print(\"|dW0|={:.5f} |dW1|={:.5f} |db0|={:.5f}\"\n",
    "             .format(np.linalg.norm(dW[0]), np.linalg.norm(dW[1]), np.linalg.norm(db[0])), \"\\n\")\n",
    "        \n",
    "        # reset RMSprop\n",
    "        gW0 = gW1 = gb0 = 1\n",
    "\n",
    "y_pred_final = tahmin_et(X_egitim, W, b)\n",
    "print(\"Final cross-entropy loss is {:.8}\".format(kayip_hesapla(y_pred_final, y_egitim)))\n",
    "print(\"Final training accuracy is {:.4%}\".format(np.mean(np.argmax(y_pred_final, axis=1) == y_egitim)))"
   ]
  },
  {
   "cell_type": "code",
   "execution_count": 41,
   "metadata": {},
   "outputs": [
    {
     "name": "stdout",
     "output_type": "stream",
     "text": [
      "Test accuracy is 76.2000%\n"
     ]
    }
   ],
   "source": [
    "# predictions\n",
    "y_pred_test = np.argmax(tahmin_et(X_test, W, b), axis=1)\n",
    "print(\"Test accuracy is {:.4%}\".format(np.mean(y_pred_test == y_test)))"
   ]
  },
  {
   "cell_type": "code",
   "execution_count": 32,
   "metadata": {},
   "outputs": [
    {
     "data": {
      "text/plain": [
       "(array([[0.00164891, 0.0011357 , 0.00200304, 0.00158355, 0.32465097,\n",
       "         0.10664846, 0.01786644, 0.00636412, 0.21743213, 0.32066667]],\n",
       "       dtype=float32),\n",
       " 4)"
      ]
     },
     "execution_count": 32,
     "metadata": {},
     "output_type": "execute_result"
    }
   ],
   "source": [
    "tahmin_et([X_test[0]], W, b), y_test[0]#, np.argmax(h([X_test[0]], W, b))"
   ]
  },
  {
   "cell_type": "code",
   "execution_count": 50,
   "metadata": {},
   "outputs": [
    {
     "data": {
      "image/png": "[encoded data removed]",
      "text/plain": [
       "<Figure size 640x480 with 1 Axes>"
      ]
     },
     "metadata": {},
     "output_type": "display_data"
    }
   ],
   "source": [
    "resmi_goster(X_test[12])"
   ]
  },
  {
   "cell_type": "code",
   "execution_count": 49,
   "metadata": {},
   "outputs": [
    {
     "data": {
      "text/html": [
       "<div>\n",
       "<style scoped>\n",
       "    .dataframe tbody tr th:only-of-type {\n",
       "        vertical-align: middle;\n",
       "    }\n",
       "\n",
       "    .dataframe tbody tr th {\n",
       "        vertical-align: top;\n",
       "    }\n",
       "\n",
       "    .dataframe thead th {\n",
       "        text-align: right;\n",
       "    }\n",
       "</style>\n",
       "<table border=\"1\" class=\"dataframe\">\n",
       "  <thead>\n",
       "    <tr style=\"text-align: right;\">\n",
       "      <th></th>\n",
       "      <th>0</th>\n",
       "    </tr>\n",
       "  </thead>\n",
       "  <tbody>\n",
       "    <tr>\n",
       "      <th>0</th>\n",
       "      <td>0.000000</td>\n",
       "    </tr>\n",
       "    <tr>\n",
       "      <th>1</th>\n",
       "      <td>0.000000</td>\n",
       "    </tr>\n",
       "    <tr>\n",
       "      <th>2</th>\n",
       "      <td>0.000000</td>\n",
       "    </tr>\n",
       "    <tr>\n",
       "      <th>3</th>\n",
       "      <td>0.000000</td>\n",
       "    </tr>\n",
       "    <tr>\n",
       "      <th>4</th>\n",
       "      <td>0.000000</td>\n",
       "    </tr>\n",
       "    <tr>\n",
       "      <th>5</th>\n",
       "      <td>0.000000</td>\n",
       "    </tr>\n",
       "    <tr>\n",
       "      <th>6</th>\n",
       "      <td>0.000000</td>\n",
       "    </tr>\n",
       "    <tr>\n",
       "      <th>7</th>\n",
       "      <td>0.000000</td>\n",
       "    </tr>\n",
       "    <tr>\n",
       "      <th>8</th>\n",
       "      <td>0.000000</td>\n",
       "    </tr>\n",
       "    <tr>\n",
       "      <th>9</th>\n",
       "      <td>0.000000</td>\n",
       "    </tr>\n",
       "    <tr>\n",
       "      <th>10</th>\n",
       "      <td>0.282353</td>\n",
       "    </tr>\n",
       "    <tr>\n",
       "      <th>11</th>\n",
       "      <td>0.412745</td>\n",
       "    </tr>\n",
       "    <tr>\n",
       "      <th>12</th>\n",
       "      <td>0.000000</td>\n",
       "    </tr>\n",
       "    <tr>\n",
       "      <th>13</th>\n",
       "      <td>0.000000</td>\n",
       "    </tr>\n",
       "    <tr>\n",
       "      <th>14</th>\n",
       "      <td>0.000000</td>\n",
       "    </tr>\n",
       "    <tr>\n",
       "      <th>15</th>\n",
       "      <td>0.293137</td>\n",
       "    </tr>\n",
       "    <tr>\n",
       "      <th>16</th>\n",
       "      <td>0.724510</td>\n",
       "    </tr>\n",
       "    <tr>\n",
       "      <th>17</th>\n",
       "      <td>0.014706</td>\n",
       "    </tr>\n",
       "    <tr>\n",
       "      <th>18</th>\n",
       "      <td>0.992157</td>\n",
       "    </tr>\n",
       "    <tr>\n",
       "      <th>19</th>\n",
       "      <td>0.000000</td>\n",
       "    </tr>\n",
       "    <tr>\n",
       "      <th>20</th>\n",
       "      <td>0.000000</td>\n",
       "    </tr>\n",
       "    <tr>\n",
       "      <th>21</th>\n",
       "      <td>0.000000</td>\n",
       "    </tr>\n",
       "    <tr>\n",
       "      <th>22</th>\n",
       "      <td>0.000000</td>\n",
       "    </tr>\n",
       "    <tr>\n",
       "      <th>23</th>\n",
       "      <td>0.000000</td>\n",
       "    </tr>\n",
       "    <tr>\n",
       "      <th>24</th>\n",
       "      <td>0.000000</td>\n",
       "    </tr>\n",
       "    <tr>\n",
       "      <th>25</th>\n",
       "      <td>0.928431</td>\n",
       "    </tr>\n",
       "    <tr>\n",
       "      <th>26</th>\n",
       "      <td>0.000000</td>\n",
       "    </tr>\n",
       "    <tr>\n",
       "      <th>27</th>\n",
       "      <td>0.000000</td>\n",
       "    </tr>\n",
       "    <tr>\n",
       "      <th>28</th>\n",
       "      <td>0.000000</td>\n",
       "    </tr>\n",
       "    <tr>\n",
       "      <th>29</th>\n",
       "      <td>0.000000</td>\n",
       "    </tr>\n",
       "    <tr>\n",
       "      <th>30</th>\n",
       "      <td>0.000000</td>\n",
       "    </tr>\n",
       "    <tr>\n",
       "      <th>31</th>\n",
       "      <td>0.172549</td>\n",
       "    </tr>\n",
       "    <tr>\n",
       "      <th>32</th>\n",
       "      <td>0.421569</td>\n",
       "    </tr>\n",
       "    <tr>\n",
       "      <th>33</th>\n",
       "      <td>0.000000</td>\n",
       "    </tr>\n",
       "    <tr>\n",
       "      <th>34</th>\n",
       "      <td>0.000000</td>\n",
       "    </tr>\n",
       "    <tr>\n",
       "      <th>35</th>\n",
       "      <td>0.000000</td>\n",
       "    </tr>\n",
       "    <tr>\n",
       "      <th>36</th>\n",
       "      <td>0.000000</td>\n",
       "    </tr>\n",
       "    <tr>\n",
       "      <th>37</th>\n",
       "      <td>0.000000</td>\n",
       "    </tr>\n",
       "    <tr>\n",
       "      <th>38</th>\n",
       "      <td>0.994118</td>\n",
       "    </tr>\n",
       "    <tr>\n",
       "      <th>39</th>\n",
       "      <td>0.000000</td>\n",
       "    </tr>\n",
       "    <tr>\n",
       "      <th>40</th>\n",
       "      <td>0.000000</td>\n",
       "    </tr>\n",
       "    <tr>\n",
       "      <th>41</th>\n",
       "      <td>0.000000</td>\n",
       "    </tr>\n",
       "    <tr>\n",
       "      <th>42</th>\n",
       "      <td>0.000000</td>\n",
       "    </tr>\n",
       "    <tr>\n",
       "      <th>43</th>\n",
       "      <td>0.000000</td>\n",
       "    </tr>\n",
       "    <tr>\n",
       "      <th>44</th>\n",
       "      <td>0.000000</td>\n",
       "    </tr>\n",
       "    <tr>\n",
       "      <th>45</th>\n",
       "      <td>0.346078</td>\n",
       "    </tr>\n",
       "    <tr>\n",
       "      <th>46</th>\n",
       "      <td>0.000000</td>\n",
       "    </tr>\n",
       "    <tr>\n",
       "      <th>47</th>\n",
       "      <td>0.000000</td>\n",
       "    </tr>\n",
       "    <tr>\n",
       "      <th>48</th>\n",
       "      <td>0.000000</td>\n",
       "    </tr>\n",
       "  </tbody>\n",
       "</table>\n",
       "</div>"
      ],
      "text/plain": [
       "           0\n",
       "0   0.000000\n",
       "1   0.000000\n",
       "2   0.000000\n",
       "3   0.000000\n",
       "4   0.000000\n",
       "5   0.000000\n",
       "6   0.000000\n",
       "7   0.000000\n",
       "8   0.000000\n",
       "9   0.000000\n",
       "10  0.282353\n",
       "11  0.412745\n",
       "12  0.000000\n",
       "13  0.000000\n",
       "14  0.000000\n",
       "15  0.293137\n",
       "16  0.724510\n",
       "17  0.014706\n",
       "18  0.992157\n",
       "19  0.000000\n",
       "20  0.000000\n",
       "21  0.000000\n",
       "22  0.000000\n",
       "23  0.000000\n",
       "24  0.000000\n",
       "25  0.928431\n",
       "26  0.000000\n",
       "27  0.000000\n",
       "28  0.000000\n",
       "29  0.000000\n",
       "30  0.000000\n",
       "31  0.172549\n",
       "32  0.421569\n",
       "33  0.000000\n",
       "34  0.000000\n",
       "35  0.000000\n",
       "36  0.000000\n",
       "37  0.000000\n",
       "38  0.994118\n",
       "39  0.000000\n",
       "40  0.000000\n",
       "41  0.000000\n",
       "42  0.000000\n",
       "43  0.000000\n",
       "44  0.000000\n",
       "45  0.346078\n",
       "46  0.000000\n",
       "47  0.000000\n",
       "48  0.000000"
      ]
     },
     "execution_count": 49,
     "metadata": {},
     "output_type": "execute_result"
    }
   ],
   "source": [
    "pd.DataFrame(X_test[12])"
   ]
  },
  {
   "cell_type": "code",
   "execution_count": 34,
   "metadata": {},
   "outputs": [
    {
     "data": {
      "text/plain": [
       "(array([4, 1, 0, 7, 3, 1, 2, 7, 1, 6]), array([4, 1, 0, 7, 8, 1, 2, 7, 1, 6]))"
      ]
     },
     "execution_count": 34,
     "metadata": {},
     "output_type": "execute_result"
    }
   ],
   "source": [
    "y_pred_test[:10], y_test[:10]"
   ]
  }
 ],
 "metadata": {
  "kernelspec": {
   "display_name": "Python 3",
   "language": "python",
   "name": "python3"
  },
  "language_info": {
   "codemirror_mode": {
    "name": "ipython",
    "version": 3
   },
   "file_extension": ".py",
   "mimetype": "text/x-python",
   "name": "python",
   "nbconvert_exporter": "python",
   "pygments_lexer": "ipython3",
   "version": "3.9.6"
  }
 },
 "nbformat": 4,
 "nbformat_minor": 2
}
