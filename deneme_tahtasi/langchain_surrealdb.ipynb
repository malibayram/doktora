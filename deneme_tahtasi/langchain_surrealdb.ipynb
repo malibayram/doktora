{
 "cells": [
  {
   "cell_type": "code",
   "execution_count": 50,
   "metadata": {},
   "outputs": [
    {
     "name": "stderr",
     "output_type": "stream",
     "text": [
      "huggingface/tokenizers: The current process just got forked, after parallelism has already been used. Disabling parallelism to avoid deadlocks...\n",
      "To disable this warning, you can either:\n",
      "\t- Avoid using `tokenizers` before the fork if possible\n",
      "\t- Explicitly set the environment variable TOKENIZERS_PARALLELISM=(true | false)\n"
     ]
    },
    {
     "name": "stdout",
     "output_type": "stream",
     "text": [
      "Note: you may need to restart the kernel to use updated packages.\n"
     ]
    }
   ],
   "source": [
    "%pip install --upgrade --quiet  surrealdb langchain langchain-community"
   ]
  },
  {
   "cell_type": "code",
   "execution_count": 51,
   "metadata": {},
   "outputs": [
    {
     "name": "stderr",
     "output_type": "stream",
     "text": [
      "huggingface/tokenizers: The current process just got forked, after parallelism has already been used. Disabling parallelism to avoid deadlocks...\n",
      "To disable this warning, you can either:\n",
      "\t- Avoid using `tokenizers` before the fork if possible\n",
      "\t- Explicitly set the environment variable TOKENIZERS_PARALLELISM=(true | false)\n"
     ]
    },
    {
     "name": "stdout",
     "output_type": "stream",
     "text": [
      "Note: you may need to restart the kernel to use updated packages.\n"
     ]
    }
   ],
   "source": [
    "%pip install langchain-huggingface --upgrade --quiet"
   ]
  },
  {
   "cell_type": "code",
   "execution_count": 52,
   "metadata": {},
   "outputs": [],
   "source": [
    "# add this import for running in jupyter notebook\n",
    "import nest_asyncio\n",
    "\n",
    "nest_asyncio.apply()"
   ]
  },
  {
   "cell_type": "code",
   "execution_count": 53,
   "metadata": {},
   "outputs": [],
   "source": [
    "from langchain_community.document_loaders import TextLoader\n",
    "from langchain_community.vectorstores import SurrealDBStore\n",
    "from langchain_huggingface import HuggingFaceEmbeddings\n",
    "from langchain_text_splitters import CharacterTextSplitter"
   ]
  },
  {
   "cell_type": "code",
   "execution_count": 54,
   "metadata": {},
   "outputs": [
    {
     "name": "stderr",
     "output_type": "stream",
     "text": [
      "Created a chunk of size 1003, which is longer than the specified 1000\n",
      "Created a chunk of size 1266, which is longer than the specified 1000\n",
      "/Users/alibayram/Library/Python/3.9/lib/python/site-packages/transformers/tokenization_utils_base.py:1617: FutureWarning: `clean_up_tokenization_spaces` was not set. It will be set to `True` by default. This behavior will be deprecated in transformers v4.45, and will be then set to `False` by default. For more details check this issue: https://github.com/huggingface/transformers/issues/31884\n",
      "  warnings.warn(\n"
     ]
    }
   ],
   "source": [
    "documents = TextLoader(\"alice.txt\").load()\n",
    "text_splitter = CharacterTextSplitter(chunk_size=1000, chunk_overlap=0)\n",
    "docs = text_splitter.split_documents(documents)\n",
    "\n",
    "model_name = \"sentence-transformers/all-mpnet-base-v2\"\n",
    "embeddings = HuggingFaceEmbeddings(model_name=model_name)"
   ]
  },
  {
   "cell_type": "code",
   "execution_count": 55,
   "metadata": {},
   "outputs": [
    {
     "data": {
      "text/plain": [
       "[Document(metadata={'source': 'alice.txt'}, page_content='ALICE HARİKALAR DİYARINDA\\nYazan: Lewis Carroll\\nÇeviren: Ahmet Aksoy\\n\\nBÖLÜM I. TAVŞAN DELİĞİNDEN AŞAĞI\\n\\nAblasının yanında bir sırada oturan ve yapacak bir şey bulamayan Alice\\'in canı iyice sıkılmaya başlamıştı. Ablasının okuduğu kitaba bir iki kez göz attı, ama orada ne resim ne de konuşmalar vardı. Alice kendi kendine, \"İçinde resim veya konuşma olmayan bir kitap ne işe yarar ki?\" diye düşündü.\\n\\nBunun üzerine düşünmeye başladı (aslında sıcak hava onun  iyice uykusunu getirmiş ve sersem gibi olmuştu). Acaba papatyalardan bir taç yapmanın zevki, papatya toplamanın verdiği yorgunluğa değer mi diye aklından geçirdi. Tam o sırada pembe gözlü bir Beyaz Tavşan koşarak yanından geçti.'),\n",
       " Document(metadata={'source': 'alice.txt'}, page_content='Bunda PEK fazla şaşılacak bir şey yoktu. Alice Tavşan\\'ın \"Eyvah! Eyvah! Geç kalacağım!\" diye söylendiğini duyduğu zaman da PEK fazla şaşırmadı. (Daha sonra bu durumu düşününce, olanlara şaşırması gerektiğini, ama o sırada tüm bunların ona çok doğal geldiğini farketti.) Ama Tavşan YELEĞİNİN CEBİNDEN BİR SAAT ÇIKARIP ona bakarak telaşla yürümeye başladığında Alice ayağa fırladı: Çünkü birdenbire  O zamana kadar ne yelek cebi olan, ne de yelek cebinden saat çıkaran bir tavşan görmediğini hatırladı. Büyük bir merakla  tarlada Tavşan\\'ın arkasından koşmaya başladı. Neyse ki tam zamanında yetişti ve onun bir çalı dibindeki kocaman bir tavşan deliğine daldığını gördü.\\n\\nAlice te peşinden deliğe daldı: Buradan tekrar nasıl çıkabileceği aklına bile gelmemişti. \\n\\nTavşan deliği önce bir tünel gibi düz gitti, sonra birdenbire dikleşti. Bu o kadar ani oldu ki Alice durmayı düşünmeye fırsat bulamadan kendini çok derin bir kuyuya düşüyor buldu.')]"
      ]
     },
     "execution_count": 55,
     "metadata": {},
     "output_type": "execute_result"
    }
   ],
   "source": [
    "docs[:2]"
   ]
  },
  {
   "cell_type": "code",
   "execution_count": 71,
   "metadata": {},
   "outputs": [],
   "source": [
    "db = SurrealDBStore(\n",
    "    dburl=\"ws://localhost:8000/rpc\",  # url for the hosted SurrealDB database\n",
    "    embedding_function=embeddings,\n",
    "    db_user=\"root\",  # SurrealDB credentials if needed: db username\n",
    "    db_pass=\"root\",  # SurrealDB credentials if needed: db password\n",
    "    # ns=\"langchain\", # namespace to use for vectorstore\n",
    "    # db=\"database\",  # database to use for vectorstore\n",
    "    # collection=\"documents\", #collection to use for vectorstore\n",
    ")\n",
    "\n",
    "# this is needed to initialize the underlying async library for SurrealDB\n",
    "await db.initialize()"
   ]
  },
  {
   "cell_type": "code",
   "execution_count": 72,
   "metadata": {},
   "outputs": [
    {
     "ename": "ConnectionClosedError",
     "evalue": "sent 1009 (message too big); no close frame received",
     "output_type": "error",
     "traceback": [
      "\u001b[0;31m---------------------------------------------------------------------------\u001b[0m",
      "\u001b[0;31mPayloadTooBig\u001b[0m                             Traceback (most recent call last)",
      "File \u001b[0;32m~/Library/Python/3.9/lib/python/site-packages/websockets/legacy/protocol.py:968\u001b[0m, in \u001b[0;36mWebSocketCommonProtocol.transfer_data\u001b[0;34m(self)\u001b[0m\n\u001b[1;32m    967\u001b[0m \u001b[38;5;28;01mwhile\u001b[39;00m \u001b[38;5;28;01mTrue\u001b[39;00m:\n\u001b[0;32m--> 968\u001b[0m     message \u001b[38;5;241m=\u001b[39m \u001b[38;5;28;01mawait\u001b[39;00m \u001b[38;5;28mself\u001b[39m\u001b[38;5;241m.\u001b[39mread_message()\n\u001b[1;32m    970\u001b[0m     \u001b[38;5;66;03m# Exit the loop when receiving a close frame.\u001b[39;00m\n",
      "File \u001b[0;32m~/Library/Python/3.9/lib/python/site-packages/websockets/legacy/protocol.py:1038\u001b[0m, in \u001b[0;36mWebSocketCommonProtocol.read_message\u001b[0;34m(self)\u001b[0m\n\u001b[1;32m   1030\u001b[0m \u001b[38;5;250m\u001b[39m\u001b[38;5;124;03m\"\"\"\u001b[39;00m\n\u001b[1;32m   1031\u001b[0m \u001b[38;5;124;03mRead a single message from the connection.\u001b[39;00m\n\u001b[1;32m   1032\u001b[0m \n\u001b[0;32m   (...)\u001b[0m\n\u001b[1;32m   1036\u001b[0m \n\u001b[1;32m   1037\u001b[0m \u001b[38;5;124;03m\"\"\"\u001b[39;00m\n\u001b[0;32m-> 1038\u001b[0m frame \u001b[38;5;241m=\u001b[39m \u001b[38;5;28;01mawait\u001b[39;00m \u001b[38;5;28mself\u001b[39m\u001b[38;5;241m.\u001b[39mread_data_frame(max_size\u001b[38;5;241m=\u001b[39m\u001b[38;5;28mself\u001b[39m\u001b[38;5;241m.\u001b[39mmax_size)\n\u001b[1;32m   1040\u001b[0m \u001b[38;5;66;03m# A close frame was received.\u001b[39;00m\n",
      "File \u001b[0;32m~/Library/Python/3.9/lib/python/site-packages/websockets/legacy/protocol.py:1113\u001b[0m, in \u001b[0;36mWebSocketCommonProtocol.read_data_frame\u001b[0;34m(self, max_size)\u001b[0m\n\u001b[1;32m   1112\u001b[0m \u001b[38;5;28;01mwhile\u001b[39;00m \u001b[38;5;28;01mTrue\u001b[39;00m:\n\u001b[0;32m-> 1113\u001b[0m     frame \u001b[38;5;241m=\u001b[39m \u001b[38;5;28;01mawait\u001b[39;00m \u001b[38;5;28mself\u001b[39m\u001b[38;5;241m.\u001b[39mread_frame(max_size)\n\u001b[1;32m   1115\u001b[0m     \u001b[38;5;66;03m# 5.5. Control Frames\u001b[39;00m\n",
      "File \u001b[0;32m~/Library/Python/3.9/lib/python/site-packages/websockets/legacy/protocol.py:1170\u001b[0m, in \u001b[0;36mWebSocketCommonProtocol.read_frame\u001b[0;34m(self, max_size)\u001b[0m\n\u001b[1;32m   1166\u001b[0m \u001b[38;5;250m\u001b[39m\u001b[38;5;124;03m\"\"\"\u001b[39;00m\n\u001b[1;32m   1167\u001b[0m \u001b[38;5;124;03mRead a single frame from the connection.\u001b[39;00m\n\u001b[1;32m   1168\u001b[0m \n\u001b[1;32m   1169\u001b[0m \u001b[38;5;124;03m\"\"\"\u001b[39;00m\n\u001b[0;32m-> 1170\u001b[0m frame \u001b[38;5;241m=\u001b[39m \u001b[38;5;28;01mawait\u001b[39;00m Frame\u001b[38;5;241m.\u001b[39mread(\n\u001b[1;32m   1171\u001b[0m     \u001b[38;5;28mself\u001b[39m\u001b[38;5;241m.\u001b[39mreader\u001b[38;5;241m.\u001b[39mreadexactly,\n\u001b[1;32m   1172\u001b[0m     mask\u001b[38;5;241m=\u001b[39m\u001b[38;5;129;01mnot\u001b[39;00m \u001b[38;5;28mself\u001b[39m\u001b[38;5;241m.\u001b[39mis_client,\n\u001b[1;32m   1173\u001b[0m     max_size\u001b[38;5;241m=\u001b[39mmax_size,\n\u001b[1;32m   1174\u001b[0m     extensions\u001b[38;5;241m=\u001b[39m\u001b[38;5;28mself\u001b[39m\u001b[38;5;241m.\u001b[39mextensions,\n\u001b[1;32m   1175\u001b[0m )\n\u001b[1;32m   1176\u001b[0m \u001b[38;5;28;01mif\u001b[39;00m \u001b[38;5;28mself\u001b[39m\u001b[38;5;241m.\u001b[39mdebug:\n",
      "File \u001b[0;32m~/Library/Python/3.9/lib/python/site-packages/websockets/legacy/framing.py:94\u001b[0m, in \u001b[0;36mFrame.read\u001b[0;34m(cls, reader, mask, max_size, extensions)\u001b[0m\n\u001b[1;32m     93\u001b[0m \u001b[38;5;28;01mif\u001b[39;00m max_size \u001b[38;5;129;01mis\u001b[39;00m \u001b[38;5;129;01mnot\u001b[39;00m \u001b[38;5;28;01mNone\u001b[39;00m \u001b[38;5;129;01mand\u001b[39;00m length \u001b[38;5;241m>\u001b[39m max_size:\n\u001b[0;32m---> 94\u001b[0m     \u001b[38;5;28;01mraise\u001b[39;00m PayloadTooBig(\u001b[38;5;124mf\u001b[39m\u001b[38;5;124m\"\u001b[39m\u001b[38;5;124mover size limit (\u001b[39m\u001b[38;5;132;01m{\u001b[39;00mlength\u001b[38;5;132;01m}\u001b[39;00m\u001b[38;5;124m > \u001b[39m\u001b[38;5;132;01m{\u001b[39;00mmax_size\u001b[38;5;132;01m}\u001b[39;00m\u001b[38;5;124m bytes)\u001b[39m\u001b[38;5;124m\"\u001b[39m)\n\u001b[1;32m     95\u001b[0m \u001b[38;5;28;01mif\u001b[39;00m mask:\n",
      "\u001b[0;31mPayloadTooBig\u001b[0m: over size limit (2848465 > 1048576 bytes)",
      "\nThe above exception was the direct cause of the following exception:\n",
      "\u001b[0;31mConnectionClosedError\u001b[0m                     Traceback (most recent call last)",
      "Cell \u001b[0;32mIn[72], line 2\u001b[0m\n\u001b[1;32m      1\u001b[0m \u001b[38;5;66;03m# delete all existing documents from the vectorstore collection\u001b[39;00m\n\u001b[0;32m----> 2\u001b[0m \u001b[38;5;28;01mawait\u001b[39;00m db\u001b[38;5;241m.\u001b[39madelete()\n",
      "File \u001b[0;32m~/Library/Python/3.9/lib/python/site-packages/langchain_community/vectorstores/surrealdb.py:170\u001b[0m, in \u001b[0;36madelete\u001b[0;34m(self, ids, **kwargs)\u001b[0m\n\u001b[1;32m    154\u001b[0m \u001b[38;5;28;01masync\u001b[39;00m \u001b[38;5;28;01mdef\u001b[39;00m \u001b[38;5;21madelete\u001b[39m(\n\u001b[1;32m    155\u001b[0m     \u001b[38;5;28mself\u001b[39m,\n\u001b[1;32m    156\u001b[0m     ids: Optional[List[\u001b[38;5;28mstr\u001b[39m]] \u001b[38;5;241m=\u001b[39m \u001b[38;5;28;01mNone\u001b[39;00m,\n\u001b[1;32m    157\u001b[0m     \u001b[38;5;241m*\u001b[39m\u001b[38;5;241m*\u001b[39mkwargs: Any,\n\u001b[1;32m    158\u001b[0m ) \u001b[38;5;241m-\u001b[39m\u001b[38;5;241m>\u001b[39m Optional[\u001b[38;5;28mbool\u001b[39m]:\n\u001b[1;32m    159\u001b[0m \u001b[38;5;250m    \u001b[39m\u001b[38;5;124;03m\"\"\"Delete by document ID asynchronously.\u001b[39;00m\n\u001b[1;32m    160\u001b[0m \n\u001b[1;32m    161\u001b[0m \u001b[38;5;124;03m    Args:\u001b[39;00m\n\u001b[0;32m   (...)\u001b[0m\n\u001b[1;32m    167\u001b[0m \u001b[38;5;124;03m        False otherwise.\u001b[39;00m\n\u001b[1;32m    168\u001b[0m \u001b[38;5;124;03m    \"\"\"\u001b[39;00m\n\u001b[0;32m--> 170\u001b[0m     \u001b[38;5;28;01mif\u001b[39;00m ids \u001b[38;5;129;01mis\u001b[39;00m \u001b[38;5;28;01mNone\u001b[39;00m:\n\u001b[1;32m    171\u001b[0m         \u001b[38;5;28;01mawait\u001b[39;00m \u001b[38;5;28mself\u001b[39m\u001b[38;5;241m.\u001b[39msdb\u001b[38;5;241m.\u001b[39mdelete(\u001b[38;5;28mself\u001b[39m\u001b[38;5;241m.\u001b[39mcollection)\n\u001b[1;32m    172\u001b[0m         \u001b[38;5;28;01mreturn\u001b[39;00m \u001b[38;5;28;01mTrue\u001b[39;00m\n",
      "File \u001b[0;32m~/Library/Python/3.9/lib/python/site-packages/surrealdb/ws.py:595\u001b[0m, in \u001b[0;36mSurreal.delete\u001b[0;34m(self, thing)\u001b[0m\n\u001b[1;32m    580\u001b[0m \u001b[38;5;28;01masync\u001b[39;00m \u001b[38;5;28;01mdef\u001b[39;00m \u001b[38;5;21mdelete\u001b[39m(\u001b[38;5;28mself\u001b[39m, thing: \u001b[38;5;28mstr\u001b[39m) \u001b[38;5;241m-\u001b[39m\u001b[38;5;241m>\u001b[39m List[Dict[\u001b[38;5;28mstr\u001b[39m, Any]]:\n\u001b[1;32m    581\u001b[0m \u001b[38;5;250m    \u001b[39m\u001b[38;5;124;03m\"\"\"Delete all records in a table, or a specific record, from the database.\u001b[39;00m\n\u001b[1;32m    582\u001b[0m \n\u001b[1;32m    583\u001b[0m \u001b[38;5;124;03m    This function will run the following query in the database:\u001b[39;00m\n\u001b[0;32m   (...)\u001b[0m\n\u001b[1;32m    593\u001b[0m \u001b[38;5;124;03m            await db.delete('person:h5wxrf2ewk8xjxosxtyc')\u001b[39;00m\n\u001b[1;32m    594\u001b[0m \u001b[38;5;124;03m    \"\"\"\u001b[39;00m\n\u001b[0;32m--> 595\u001b[0m     response \u001b[38;5;241m=\u001b[39m \u001b[38;5;28;01mawait\u001b[39;00m \u001b[38;5;28mself\u001b[39m\u001b[38;5;241m.\u001b[39m_send_receive(\n\u001b[1;32m    596\u001b[0m         Request(\u001b[38;5;28mid\u001b[39m\u001b[38;5;241m=\u001b[39mgenerate_uuid(), method\u001b[38;5;241m=\u001b[39m\u001b[38;5;124m\"\u001b[39m\u001b[38;5;124mdelete\u001b[39m\u001b[38;5;124m\"\u001b[39m, params\u001b[38;5;241m=\u001b[39m(thing,)),\n\u001b[1;32m    597\u001b[0m     )\n\u001b[1;32m    598\u001b[0m     success: ResponseSuccess \u001b[38;5;241m=\u001b[39m _validate_response(\n\u001b[1;32m    599\u001b[0m         response, SurrealPermissionException\n\u001b[1;32m    600\u001b[0m     )\n\u001b[1;32m    601\u001b[0m     \u001b[38;5;28;01mreturn\u001b[39;00m success\u001b[38;5;241m.\u001b[39mresult\n",
      "File \u001b[0;32m~/Library/Python/3.9/lib/python/site-packages/surrealdb/ws.py:651\u001b[0m, in \u001b[0;36mSurreal._send_receive\u001b[0;34m(self, request)\u001b[0m\n\u001b[1;32m    639\u001b[0m \u001b[38;5;250m\u001b[39m\u001b[38;5;124;03m\"\"\"Send a request to the Surreal server and receive a response.\u001b[39;00m\n\u001b[1;32m    640\u001b[0m \n\u001b[1;32m    641\u001b[0m \u001b[38;5;124;03mArgs:\u001b[39;00m\n\u001b[0;32m   (...)\u001b[0m\n\u001b[1;32m    648\u001b[0m \u001b[38;5;124;03m    Exception: If the client is not connected to the Surreal server.\u001b[39;00m\n\u001b[1;32m    649\u001b[0m \u001b[38;5;124;03m\"\"\"\u001b[39;00m\n\u001b[1;32m    650\u001b[0m \u001b[38;5;28;01mawait\u001b[39;00m \u001b[38;5;28mself\u001b[39m\u001b[38;5;241m.\u001b[39m_send(request)\n\u001b[0;32m--> 651\u001b[0m \u001b[38;5;28;01mreturn\u001b[39;00m \u001b[38;5;28;01mawait\u001b[39;00m \u001b[38;5;28mself\u001b[39m\u001b[38;5;241m.\u001b[39m_recv()\n",
      "File \u001b[0;32m~/Library/Python/3.9/lib/python/site-packages/surrealdb/ws.py:676\u001b[0m, in \u001b[0;36mSurreal._recv\u001b[0;34m(self)\u001b[0m\n\u001b[1;32m    666\u001b[0m \u001b[38;5;250m\u001b[39m\u001b[38;5;124;03m\"\"\"Receive a response from the Surreal server.\u001b[39;00m\n\u001b[1;32m    667\u001b[0m \n\u001b[1;32m    668\u001b[0m \u001b[38;5;124;03mReturns:\u001b[39;00m\n\u001b[0;32m   (...)\u001b[0m\n\u001b[1;32m    673\u001b[0m \u001b[38;5;124;03m    Exception: If the response contains an error.\u001b[39;00m\n\u001b[1;32m    674\u001b[0m \u001b[38;5;124;03m\"\"\"\u001b[39;00m\n\u001b[1;32m    675\u001b[0m \u001b[38;5;28mself\u001b[39m\u001b[38;5;241m.\u001b[39m_validate_connection()\n\u001b[0;32m--> 676\u001b[0m response \u001b[38;5;241m=\u001b[39m json\u001b[38;5;241m.\u001b[39mloads(\u001b[38;5;28;01mawait\u001b[39;00m \u001b[38;5;28mself\u001b[39m\u001b[38;5;241m.\u001b[39mws\u001b[38;5;241m.\u001b[39mrecv())\n\u001b[1;32m    677\u001b[0m \u001b[38;5;28;01mif\u001b[39;00m response\u001b[38;5;241m.\u001b[39mget(\u001b[38;5;124m\"\u001b[39m\u001b[38;5;124merror\u001b[39m\u001b[38;5;124m\"\u001b[39m):\n\u001b[1;32m    678\u001b[0m     \u001b[38;5;28;01mreturn\u001b[39;00m ResponseError(\u001b[38;5;241m*\u001b[39m\u001b[38;5;241m*\u001b[39mresponse[\u001b[38;5;124m\"\u001b[39m\u001b[38;5;124merror\u001b[39m\u001b[38;5;124m\"\u001b[39m])\n",
      "File \u001b[0;32m~/Library/Python/3.9/lib/python/site-packages/websockets/legacy/protocol.py:568\u001b[0m, in \u001b[0;36mWebSocketCommonProtocol.recv\u001b[0;34m(self)\u001b[0m\n\u001b[1;32m    564\u001b[0m             \u001b[38;5;28;01mreturn\u001b[39;00m \u001b[38;5;28;01mNone\u001b[39;00m  \u001b[38;5;66;03m# type: ignore\u001b[39;00m\n\u001b[1;32m    565\u001b[0m         \u001b[38;5;28;01melse\u001b[39;00m:\n\u001b[1;32m    566\u001b[0m             \u001b[38;5;66;03m# Wait until the connection is closed to raise\u001b[39;00m\n\u001b[1;32m    567\u001b[0m             \u001b[38;5;66;03m# ConnectionClosed with the correct code and reason.\u001b[39;00m\n\u001b[0;32m--> 568\u001b[0m             \u001b[38;5;28;01mawait\u001b[39;00m \u001b[38;5;28mself\u001b[39m\u001b[38;5;241m.\u001b[39mensure_open()\n\u001b[1;32m    570\u001b[0m \u001b[38;5;66;03m# Pop a message from the queue.\u001b[39;00m\n\u001b[1;32m    571\u001b[0m message \u001b[38;5;241m=\u001b[39m \u001b[38;5;28mself\u001b[39m\u001b[38;5;241m.\u001b[39mmessages\u001b[38;5;241m.\u001b[39mpopleft()\n",
      "File \u001b[0;32m~/Library/Python/3.9/lib/python/site-packages/websockets/legacy/protocol.py:953\u001b[0m, in \u001b[0;36mWebSocketCommonProtocol.ensure_open\u001b[0;34m(self)\u001b[0m\n\u001b[1;32m    946\u001b[0m \u001b[38;5;28;01mif\u001b[39;00m \u001b[38;5;28mself\u001b[39m\u001b[38;5;241m.\u001b[39mstate \u001b[38;5;129;01mis\u001b[39;00m State\u001b[38;5;241m.\u001b[39mCLOSING:\n\u001b[1;32m    947\u001b[0m     \u001b[38;5;66;03m# If we started the closing handshake, wait for its completion to\u001b[39;00m\n\u001b[1;32m    948\u001b[0m     \u001b[38;5;66;03m# get the proper close code and reason. self.close_connection_task\u001b[39;00m\n\u001b[1;32m    949\u001b[0m     \u001b[38;5;66;03m# will complete within 4 or 5 * close_timeout after close(). The\u001b[39;00m\n\u001b[1;32m    950\u001b[0m     \u001b[38;5;66;03m# CLOSING state also occurs when failing the connection. In that\u001b[39;00m\n\u001b[1;32m    951\u001b[0m     \u001b[38;5;66;03m# case self.close_connection_task will complete even faster.\u001b[39;00m\n\u001b[1;32m    952\u001b[0m     \u001b[38;5;28;01mawait\u001b[39;00m asyncio\u001b[38;5;241m.\u001b[39mshield(\u001b[38;5;28mself\u001b[39m\u001b[38;5;241m.\u001b[39mclose_connection_task)\n\u001b[0;32m--> 953\u001b[0m     \u001b[38;5;28;01mraise\u001b[39;00m \u001b[38;5;28mself\u001b[39m\u001b[38;5;241m.\u001b[39mconnection_closed_exc()\n\u001b[1;32m    955\u001b[0m \u001b[38;5;66;03m# Control may only reach this point in buggy third-party subclasses.\u001b[39;00m\n\u001b[1;32m    956\u001b[0m \u001b[38;5;28;01massert\u001b[39;00m \u001b[38;5;28mself\u001b[39m\u001b[38;5;241m.\u001b[39mstate \u001b[38;5;129;01mis\u001b[39;00m State\u001b[38;5;241m.\u001b[39mCONNECTING\n",
      "\u001b[0;31mConnectionClosedError\u001b[0m: sent 1009 (message too big); no close frame received"
     ]
    }
   ],
   "source": [
    "# delete all existing documents from the vectorstore collection\n",
    "await db.adelete()"
   ]
  },
  {
   "cell_type": "code",
   "execution_count": 70,
   "metadata": {},
   "outputs": [
    {
     "name": "stdout",
     "output_type": "stream",
     "text": [
      "error adding document: 0\n",
      "error adding document: 0\n",
      "error adding document: 0\n",
      "error adding document: 0\n",
      "error adding document: 0\n",
      "error adding document: 0\n",
      "error adding document: 0\n",
      "error adding document: 0\n",
      "error adding document: 0\n",
      "error adding document: 0\n",
      "error adding document: 0\n",
      "error adding document: 0\n",
      "error adding document: 0\n",
      "error adding document: 0\n",
      "error adding document: 0\n",
      "error adding document: 0\n",
      "error adding document: 0\n",
      "error adding document: 0\n",
      "error adding document: 0\n",
      "error adding document: 0\n",
      "error adding document: 0\n",
      "error adding document: 0\n",
      "error adding document: 0\n",
      "error adding document: 0\n",
      "error adding document: 0\n",
      "error adding document: 0\n",
      "error adding document: 0\n",
      "error adding document: 0\n",
      "error adding document: 0\n",
      "error adding document: 0\n",
      "error adding document: 0\n",
      "error adding document: 0\n",
      "error adding document: 0\n",
      "error adding document: 0\n",
      "error adding document: 0\n",
      "error adding document: 0\n",
      "error adding document: 0\n",
      "error adding document: 0\n",
      "error adding document: 0\n",
      "error adding document: 0\n",
      "error adding document: 0\n",
      "error adding document: 0\n",
      "error adding document: 0\n",
      "error adding document: 0\n",
      "error adding document: 0\n",
      "error adding document: 0\n",
      "error adding document: 0\n",
      "error adding document: 0\n",
      "error adding document: 0\n",
      "error adding document: 0\n",
      "error adding document: 0\n",
      "error adding document: 0\n",
      "error adding document: 0\n",
      "error adding document: 0\n",
      "error adding document: 0\n",
      "error adding document: 0\n",
      "error adding document: 0\n",
      "error adding document: 0\n",
      "error adding document: 0\n",
      "error adding document: 0\n",
      "error adding document: 0\n",
      "error adding document: 0\n",
      "error adding document: 0\n",
      "error adding document: 0\n",
      "error adding document: 0\n",
      "error adding document: 0\n",
      "error adding document: 0\n",
      "error adding document: 0\n",
      "error adding document: 0\n",
      "error adding document: 0\n",
      "error adding document: 0\n",
      "error adding document: 0\n",
      "error adding document: 0\n",
      "error adding document: 0\n",
      "error adding document: 0\n",
      "error adding document: 0\n",
      "error adding document: 0\n",
      "error adding document: 0\n",
      "error adding document: 0\n",
      "error adding document: 0\n",
      "error adding document: 0\n",
      "error adding document: 0\n",
      "error adding document: 0\n",
      "error adding document: 0\n",
      "error adding document: 0\n",
      "error adding document: 0\n",
      "error adding document: 0\n",
      "error adding document: 0\n",
      "error adding document: 0\n",
      "error adding document: 0\n",
      "error adding document: 0\n",
      "error adding document: 0\n",
      "error adding document: 0\n",
      "error adding document: 0\n",
      "error adding document: 0\n",
      "error adding document: 0\n",
      "error adding document: 0\n",
      "error adding document: 0\n",
      "error adding document: 0\n",
      "error adding document: 0\n",
      "error adding document: 0\n",
      "error adding document: 0\n",
      "error adding document: 0\n",
      "error adding document: 0\n",
      "error adding document: 0\n",
      "error adding document: 0\n",
      "error adding document: 0\n",
      "error adding document: 0\n",
      "error adding document: 0\n",
      "error adding document: 0\n",
      "error adding document: 0\n",
      "error adding document: 0\n",
      "error adding document: 0\n",
      "error adding document: 0\n",
      "error adding document: 0\n",
      "error adding document: 0\n",
      "error adding document: 0\n",
      "error adding document: 0\n",
      "error adding document: 0\n",
      "error adding document: 0\n",
      "error adding document: 0\n",
      "error adding document: 0\n",
      "error adding document: 0\n",
      "error adding document: 0\n",
      "error adding document: 0\n",
      "error adding document: 0\n",
      "error adding document: 0\n",
      "error adding document: 0\n",
      "error adding document: 0\n",
      "error adding document: 0\n",
      "error adding document: 0\n",
      "error adding document: 0\n",
      "error adding document: 0\n",
      "error adding document: 0\n",
      "error adding document: 0\n",
      "error adding document: 0\n",
      "error adding document: 0\n",
      "error adding document: 0\n",
      "error adding document: 0\n",
      "error adding document: 0\n",
      "error adding document: 0\n",
      "error adding document: 0\n",
      "error adding document: 0\n",
      "error adding document: 0\n",
      "error adding document: 0\n",
      "error adding document: 0\n",
      "error adding document: 0\n",
      "error adding document: 0\n",
      "error adding document: 0\n",
      "error adding document: 0\n",
      "error adding document: 0\n",
      "error adding document: 0\n",
      "error adding document: 0\n",
      "error adding document: 0\n",
      "error adding document: 0\n",
      "error adding document: 0\n",
      "error adding document: 0\n",
      "error adding document: 0\n",
      "error adding document: 0\n",
      "error adding document: 0\n",
      "error adding document: 0\n",
      "error adding document: 0\n",
      "error adding document: 0\n",
      "error adding document: 0\n",
      "error adding document: 0\n"
     ]
    },
    {
     "data": {
      "text/plain": [
       "[]"
      ]
     },
     "execution_count": 70,
     "metadata": {},
     "output_type": "execute_result"
    }
   ],
   "source": [
    "ids = []\n",
    "\n",
    "for doc in docs:\n",
    "  # add documents to the vectorstore\n",
    "  try:\n",
    "    record = await db.aadd_documents([doc])\n",
    "    ids.extend(record)\n",
    "  except Exception as e:\n",
    "    print(\"error adding document:\", e)\n",
    "\n",
    "# document ids of the added documents\n",
    "ids[:5]"
   ]
  }
 ],
 "metadata": {
  "kernelspec": {
   "display_name": "Python 3",
   "language": "python",
   "name": "python3"
  },
  "language_info": {
   "codemirror_mode": {
    "name": "ipython",
    "version": 3
   },
   "file_extension": ".py",
   "mimetype": "text/x-python",
   "name": "python",
   "nbconvert_exporter": "python",
   "pygments_lexer": "ipython3",
   "version": "3.9.6"
  }
 },
 "nbformat": 4,
 "nbformat_minor": 2
}
