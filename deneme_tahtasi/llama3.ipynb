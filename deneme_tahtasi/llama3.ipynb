{
 "cells": [
  {
   "cell_type": "code",
   "execution_count": 1,
   "metadata": {},
   "outputs": [
    {
     "name": "stderr",
     "output_type": "stream",
     "text": [
      "/Users/mab/Library/Python/3.9/lib/python/site-packages/tqdm/auto.py:21: TqdmWarning: IProgress not found. Please update jupyter and ipywidgets. See https://ipywidgets.readthedocs.io/en/stable/user_install.html\n",
      "  from .autonotebook import tqdm as notebook_tqdm\n",
      "Special tokens have been added in the vocabulary, make sure the associated word embeddings are fine-tuned or trained.\n",
      "Downloading shards: 100%|██████████| 4/4 [23:21<00:00, 350.34s/it]\n",
      "Loading checkpoint shards: 100%|██████████| 4/4 [00:26<00:00,  6.55s/it]\n"
     ]
    }
   ],
   "source": [
    "# Load model directly\n",
    "from transformers import AutoTokenizer, AutoModelForCausalLM\n",
    "\n",
    "tokenizer = AutoTokenizer.from_pretrained(\"meta-llama/Meta-Llama-3-8B\")\n",
    "model = AutoModelForCausalLM.from_pretrained(\"meta-llama/Meta-Llama-3-8B\")"
   ]
  },
  {
   "cell_type": "code",
   "execution_count": null,
   "metadata": {},
   "outputs": [],
   "source": []
  },
  {
   "cell_type": "code",
   "execution_count": 3,
   "metadata": {},
   "outputs": [],
   "source": [
    "# Use a pipeline as a high-level helper\n",
    "from transformers import pipeline\n",
    "\n",
    "text_generator = pipeline(\n",
    "    \"text-generation\",\n",
    "    model=model,\n",
    "    tokenizer=tokenizer,\n",
    "    device_map=\"auto\",\n",
    "    temperature=0.3,\n",
    "    repetition_penalty=1.1,\n",
    "    top_p=0.9,\n",
    "    max_length=610,\n",
    "    do_sample=True,\n",
    "    return_full_text=False,\n",
    "    min_new_tokens=32\n",
    ")"
   ]
  },
  {
   "cell_type": "code",
   "execution_count": 4,
   "metadata": {},
   "outputs": [
    {
     "name": "stderr",
     "output_type": "stream",
     "text": [
      "Setting `pad_token_id` to `eos_token_id`:128001 for open-end generation.\n"
     ]
    },
    {
     "data": {
      "text/plain": [
       "[{'generated_text': 'Siz de nasılsınız? How are you?\\nBen iyiyim. I am fine.\\nSen de nasılsın? And how about you?\\nO da iyi. He is also fine.\\nBizler iyiyiz. We are fine.\\nOnlar da iyiler. They are also fine.\\nBu da iyi. This one is also good.\\nBiraz daha iyi. A little bit better.\\nÇok iyi. Very well.\\nÇok iyiyim. I feel very well.\\nÇok iyisin. You look very well.\\nÇok iyidir. It is very well.\\nÇok iyiler. They are very well.\\nÇok iyilerdir. They are very well.\\nÇok iyilerdi. They were very well.\\nÇok iyilerdik. We were very well.\\nÇok iyilerdiniz. You were very well.\\nÇok iyilerdi. They were very well.\\nÇok iyilerdim. I was very well.\\nÇok iyilerdin. You were very well.\\nÇok iyilerdi. She was very well.\\nÇok iyilerdik. We were very well.\\nÇok iyilerdiniz. You were very well.\\nÇok iyilerdi. They were very well.\\nÇok iyilerdik. We were very well.\\nÇok iyilerdiniz. You were very well.\\nÇok iyilerdi. They were very well.\\nÇok iyilerdik. We were very well.\\nÇok iyilerdiniz. You were very well.\\nÇok iyilerdi. They were very well.\\nÇok iyilerdik. We were very well.\\nÇok iyilerdiniz. You were very well.\\nÇok iyilerdi. They were very well.\\nÇok iyilerdik. We were very well.\\nÇok iyilerdiniz. You were very well.\\nÇok iyilerdi. They were very well.\\nÇok iyilerdik. We were very well.\\nÇok iyilerdiniz. You were very well.\\nÇok iyilerdi. They were very well.\\nÇok iyilerdik. We were very well.\\nÇok iyilerdiniz. You were very well.\\nÇok iyilerdi. They were very well.\\nÇok iyilerdik. We were very well.\\nÇok iyilerdiniz. You were very well.\\nÇok iyilerdi. They were very well.\\nÇok iyilerdik. We were very well.\\nÇok iyilerdiniz. You were very well.\\nÇok iyilerdi. They were very well.\\nÇok iyilerdik. We were very well.\\nÇok iyilerdiniz. You were very well.\\nÇok iyilerdi. They were very well.\\nÇok iyilerdik. We were very well.\\nÇok iyilerdiniz. You were very well.\\nÇok iyilerdi. They were very well.\\nÇok iyilerdik. We were very well.\\nÇok'}]"
      ]
     },
     "execution_count": 4,
     "metadata": {},
     "output_type": "execute_result"
    }
   ],
   "source": [
    "text2 = \"\"\"Nasılsın?\\n\"\"\"\n",
    "r2 = text_generator(text2)\n",
    "r2"
   ]
  }
 ],
 "metadata": {
  "kernelspec": {
   "display_name": "Python 3",
   "language": "python",
   "name": "python3"
  },
  "language_info": {
   "codemirror_mode": {
    "name": "ipython",
    "version": 3
   },
   "file_extension": ".py",
   "mimetype": "text/x-python",
   "name": "python",
   "nbconvert_exporter": "python",
   "pygments_lexer": "ipython3",
   "version": "3.9.6"
  }
 },
 "nbformat": 4,
 "nbformat_minor": 2
}
