{
 "cells": [
  {
   "cell_type": "code",
   "execution_count": 9,
   "metadata": {},
   "outputs": [
    {
     "name": "stdout",
     "output_type": "stream",
     "text": [
      "Defaulting to user installation because normal site-packages is not writeable\n",
      "Requirement already satisfied: kagglehub in /Users/mab/Library/Python/3.9/lib/python/site-packages (0.2.5)\n",
      "Requirement already satisfied: packaging in /Users/mab/Library/Python/3.9/lib/python/site-packages (from kagglehub) (23.2)\n",
      "Requirement already satisfied: requests in /Users/mab/Library/Python/3.9/lib/python/site-packages (from kagglehub) (2.31.0)\n",
      "Requirement already satisfied: tqdm in /Users/mab/Library/Python/3.9/lib/python/site-packages (from kagglehub) (4.66.2)\n",
      "Requirement already satisfied: charset-normalizer<4,>=2 in /Users/mab/Library/Python/3.9/lib/python/site-packages (from requests->kagglehub) (3.3.2)\n",
      "Requirement already satisfied: idna<4,>=2.5 in /Users/mab/Library/Python/3.9/lib/python/site-packages (from requests->kagglehub) (3.7)\n",
      "Requirement already satisfied: urllib3<3,>=1.21.1 in /Users/mab/Library/Python/3.9/lib/python/site-packages (from requests->kagglehub) (1.26.18)\n",
      "Requirement already satisfied: certifi>=2017.4.17 in /Users/mab/Library/Python/3.9/lib/python/site-packages (from requests->kagglehub) (2023.11.17)\n",
      "Note: you may need to restart the kernel to use updated packages.\n",
      "Defaulting to user installation because normal site-packages is not writeable\n",
      "Requirement already satisfied: kaggle in /Users/mab/Library/Python/3.9/lib/python/site-packages (1.6.14)\n",
      "Requirement already satisfied: six>=1.10 in /Users/mab/Library/Python/3.9/lib/python/site-packages (from kaggle) (1.16.0)\n",
      "Requirement already satisfied: certifi>=2023.7.22 in /Users/mab/Library/Python/3.9/lib/python/site-packages (from kaggle) (2023.11.17)\n",
      "Requirement already satisfied: python-dateutil in /Users/mab/Library/Python/3.9/lib/python/site-packages (from kaggle) (2.9.0.post0)\n",
      "Requirement already satisfied: requests in /Users/mab/Library/Python/3.9/lib/python/site-packages (from kaggle) (2.31.0)\n",
      "Requirement already satisfied: tqdm in /Users/mab/Library/Python/3.9/lib/python/site-packages (from kaggle) (4.66.2)\n",
      "Requirement already satisfied: python-slugify in /Users/mab/Library/Python/3.9/lib/python/site-packages (from kaggle) (8.0.4)\n",
      "Requirement already satisfied: urllib3 in /Users/mab/Library/Python/3.9/lib/python/site-packages (from kaggle) (1.26.18)\n",
      "Requirement already satisfied: bleach in /Users/mab/Library/Python/3.9/lib/python/site-packages (from kaggle) (6.1.0)\n",
      "Requirement already satisfied: webencodings in /Users/mab/Library/Python/3.9/lib/python/site-packages (from bleach->kaggle) (0.5.1)\n",
      "Requirement already satisfied: text-unidecode>=1.3 in /Users/mab/Library/Python/3.9/lib/python/site-packages (from python-slugify->kaggle) (1.3)\n",
      "Requirement already satisfied: charset-normalizer<4,>=2 in /Users/mab/Library/Python/3.9/lib/python/site-packages (from requests->kaggle) (3.3.2)\n",
      "Requirement already satisfied: idna<4,>=2.5 in /Users/mab/Library/Python/3.9/lib/python/site-packages (from requests->kaggle) (3.7)\n",
      "Note: you may need to restart the kernel to use updated packages.\n",
      "Defaulting to user installation because normal site-packages is not writeable\n",
      "Requirement already satisfied: accelerate in /Users/mab/Library/Python/3.9/lib/python/site-packages (0.29.3)\n",
      "Requirement already satisfied: numpy>=1.17 in /Users/mab/Library/Python/3.9/lib/python/site-packages (from accelerate) (1.26.4)\n",
      "Requirement already satisfied: packaging>=20.0 in /Users/mab/Library/Python/3.9/lib/python/site-packages (from accelerate) (23.2)\n",
      "Requirement already satisfied: psutil in /Users/mab/Library/Python/3.9/lib/python/site-packages (from accelerate) (5.9.8)\n",
      "Requirement already satisfied: pyyaml in /Users/mab/Library/Python/3.9/lib/python/site-packages (from accelerate) (6.0.1)\n",
      "Requirement already satisfied: torch>=1.10.0 in /Users/mab/Library/Python/3.9/lib/python/site-packages (from accelerate) (2.2.2)\n",
      "Requirement already satisfied: huggingface-hub in /Users/mab/Library/Python/3.9/lib/python/site-packages (from accelerate) (0.22.2)\n",
      "Requirement already satisfied: safetensors>=0.3.1 in /Users/mab/Library/Python/3.9/lib/python/site-packages (from accelerate) (0.4.3)\n",
      "Requirement already satisfied: filelock in /Users/mab/Library/Python/3.9/lib/python/site-packages (from torch>=1.10.0->accelerate) (3.13.1)\n",
      "Requirement already satisfied: typing-extensions>=4.8.0 in /Users/mab/Library/Python/3.9/lib/python/site-packages (from torch>=1.10.0->accelerate) (4.10.0)\n",
      "Requirement already satisfied: sympy in /Users/mab/Library/Python/3.9/lib/python/site-packages (from torch>=1.10.0->accelerate) (1.12)\n",
      "Requirement already satisfied: networkx in /Users/mab/Library/Python/3.9/lib/python/site-packages (from torch>=1.10.0->accelerate) (3.2.1)\n",
      "Requirement already satisfied: jinja2 in /Users/mab/Library/Python/3.9/lib/python/site-packages (from torch>=1.10.0->accelerate) (3.1.3)\n",
      "Requirement already satisfied: fsspec in /Users/mab/Library/Python/3.9/lib/python/site-packages (from torch>=1.10.0->accelerate) (2024.2.0)\n",
      "Requirement already satisfied: requests in /Users/mab/Library/Python/3.9/lib/python/site-packages (from huggingface-hub->accelerate) (2.31.0)\n",
      "Requirement already satisfied: tqdm>=4.42.1 in /Users/mab/Library/Python/3.9/lib/python/site-packages (from huggingface-hub->accelerate) (4.66.2)\n",
      "Requirement already satisfied: MarkupSafe>=2.0 in /Users/mab/Library/Python/3.9/lib/python/site-packages (from jinja2->torch>=1.10.0->accelerate) (2.1.5)\n",
      "Requirement already satisfied: charset-normalizer<4,>=2 in /Users/mab/Library/Python/3.9/lib/python/site-packages (from requests->huggingface-hub->accelerate) (3.3.2)\n",
      "Requirement already satisfied: idna<4,>=2.5 in /Users/mab/Library/Python/3.9/lib/python/site-packages (from requests->huggingface-hub->accelerate) (3.7)\n",
      "Requirement already satisfied: urllib3<3,>=1.21.1 in /Users/mab/Library/Python/3.9/lib/python/site-packages (from requests->huggingface-hub->accelerate) (1.26.18)\n",
      "Requirement already satisfied: certifi>=2017.4.17 in /Users/mab/Library/Python/3.9/lib/python/site-packages (from requests->huggingface-hub->accelerate) (2023.11.17)\n",
      "Requirement already satisfied: mpmath>=0.19 in /Users/mab/Library/Python/3.9/lib/python/site-packages (from sympy->torch>=1.10.0->accelerate) (1.3.0)\n",
      "Note: you may need to restart the kernel to use updated packages.\n",
      "Defaulting to user installation because normal site-packages is not writeable\n",
      "Looking in indexes: https://pypi.org/simple/\n",
      "Requirement already satisfied: bitsandbytes in /Users/mab/Library/Python/3.9/lib/python/site-packages (0.41.1)\n",
      "Note: you may need to restart the kernel to use updated packages.\n"
     ]
    }
   ],
   "source": [
    "%pip install kagglehub\n",
    "%pip install kaggle\n",
    "# Setup the environment\n",
    "%pip install accelerate\n",
    "%pip install -i https://pypi.org/simple/ bitsandbytes"
   ]
  },
  {
   "cell_type": "code",
   "execution_count": 21,
   "metadata": {},
   "outputs": [
    {
     "name": "stdout",
     "output_type": "stream",
     "text": [
      "Path to model files: /Users/mab/.cache/kagglehub/models/google/gemma/transformers/1.1-2b-it/1\n"
     ]
    }
   ],
   "source": [
    "import kagglehub\n",
    "\n",
    "# Download latest version\n",
    "path = kagglehub.model_download(\"google/gemma/transformers/1.1-2b-it\")\n",
    "\n",
    "print(\"Path to model files:\", path)"
   ]
  },
  {
   "cell_type": "code",
   "execution_count": 22,
   "metadata": {},
   "outputs": [
    {
     "name": "stderr",
     "output_type": "stream",
     "text": [
      "Loading checkpoint shards: 100%|██████████| 2/2 [00:09<00:00,  4.84s/it]\n"
     ]
    }
   ],
   "source": [
    "from transformers import AutoTokenizer, AutoModelForCausalLM #, BitsAndBytesConfig\n",
    "\n",
    "# quantization_config = BitsAndBytesConfig(load_in_4bit=True)\n",
    "\n",
    "tokenizer = AutoTokenizer.from_pretrained(path)\n",
    "model = AutoModelForCausalLM.from_pretrained(\n",
    "  path,\n",
    "  # quantization_config=quantization_config\n",
    ")"
   ]
  },
  {
   "cell_type": "code",
   "execution_count": 23,
   "metadata": {},
   "outputs": [
    {
     "name": "stdout",
     "output_type": "stream",
     "text": [
      "<bos>Nasılsın, İyi misin?\n",
      "\n",
      "Cevap: İnsanlar.\n",
      "\n",
      "İnsan\n"
     ]
    }
   ],
   "source": [
    "# Use the model\n",
    "input_text = \"Nasılsın, İyi misin?\"\n",
    "input_ids = tokenizer(input_text, return_tensors=\"pt\")#.to(\"cuda\")\n",
    "outputs = model.generate(**input_ids)\n",
    "print(tokenizer.decode(outputs[0]))\n"
   ]
  },
  {
   "cell_type": "code",
   "execution_count": 15,
   "metadata": {},
   "outputs": [
    {
     "data": {
      "text/plain": [
       "tensor([[     2, 235300,  25725,   1560,   4119, 235336,    109, 235300,  25725,\n",
       "           1560,   4119, 235269,   2843, 191369,  20074, 108980,  13598, 104123,\n",
       "            534,   3599]])"
      ]
     },
     "execution_count": 15,
     "metadata": {},
     "output_type": "execute_result"
    }
   ],
   "source": [
    "outputs"
   ]
  }
 ],
 "metadata": {
  "kernelspec": {
   "display_name": "Python 3",
   "language": "python",
   "name": "python3"
  },
  "language_info": {
   "codemirror_mode": {
    "name": "ipython",
    "version": 3
   },
   "file_extension": ".py",
   "mimetype": "text/x-python",
   "name": "python",
   "nbconvert_exporter": "python",
   "pygments_lexer": "ipython3",
   "version": "3.9.6"
  }
 },
 "nbformat": 4,
 "nbformat_minor": 2
}
