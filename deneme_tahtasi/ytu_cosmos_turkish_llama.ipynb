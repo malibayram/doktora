{
 "cells": [
  {
   "cell_type": "code",
   "execution_count": 2,
   "metadata": {},
   "outputs": [
    {
     "name": "stderr",
     "output_type": "stream",
     "text": [
      "/Users/mab/Library/Python/3.9/lib/python/site-packages/tqdm/auto.py:21: TqdmWarning: IProgress not found. Please update jupyter and ipywidgets. See https://ipywidgets.readthedocs.io/en/stable/user_install.html\n",
      "  from .autonotebook import tqdm as notebook_tqdm\n",
      "Special tokens have been added in the vocabulary, make sure the associated word embeddings are fine-tuned or trained.\n",
      "Loading checkpoint shards:   0%|          | 0/4 [00:00<?, ?it/s]"
     ]
    }
   ],
   "source": [
    "# Load model directly\n",
    "from transformers import AutoTokenizer, AutoModelForCausalLM\n",
    "\n",
    "tokenizer = AutoTokenizer.from_pretrained(\"ytu-ce-cosmos/Turkish-Llama-8b-v0.1\")\n",
    "model = AutoModelForCausalLM.from_pretrained(\"ytu-ce-cosmos/Turkish-Llama-8b-v0.1\")"
   ]
  },
  {
   "cell_type": "code",
   "execution_count": null,
   "metadata": {},
   "outputs": [],
   "source": [
    "# Use a pipeline as a high-level helper\n",
    "from transformers import pipeline\n",
    "\n",
    "text_generator = pipeline(\n",
    "    \"text-generation\",\n",
    "    model=model,\n",
    "    tokenizer=tokenizer,\n",
    "    device_map=\"auto\",\n",
    "    temperature=0.3,\n",
    "    repetition_penalty=1.1,\n",
    "    top_p=0.9,\n",
    "    max_length=610,\n",
    "    do_sample=True,\n",
    "    return_full_text=False,\n",
    "    min_new_tokens=32\n",
    ")\n"
   ]
  },
  {
   "cell_type": "code",
   "execution_count": 3,
   "metadata": {},
   "outputs": [
    {
     "name": "stderr",
     "output_type": "stream",
     "text": [
      "Setting `pad_token_id` to `eos_token_id`:128001 for open-end generation.\n"
     ]
    },
    {
     "name": "stdout",
     "output_type": "stream",
     "text": [
      "Yapay zeka hakkında 3 tespit yaz.\n",
      "1. Yapay zeka, makinelerin insan zekasını taklit etmesi ve problem çözmeye, karar vermeye ve öğrenmeye benzer şekilde uyum sağlamasına olanak sağlamasıyla karakterize edilir.\n",
      "2. Yapay zeka, bilgisayar bilimi, mühendislik, psikoloji ve felsefe dahil olmak üzere çeşitli alanlardan yararlanan, çok disiplinli bir alandır.\n",
      "3. Yapay zeka teknolojisi, robotikten doğal dil işleme ve bilgisayarlı görme gibi çeşitli uygulamaları kapsayan, hızla gelişen bir alandır.\n"
     ]
    },
    {
     "data": {
      "text/plain": [
       "'\\n1. Yapay Zeka (AI), makinelerin insan benzeri bilişsel işlevleri gerçekleştirmesini sağlayan bir teknoloji alanıdır.\\n\\n2. Yapay zekanın geliştirilmesi ve uygulanması, sağlık hizmetlerinden eğlenceye kadar çeşitli sektörlerde çok sayıda fırsat sunmaktadır.\\n\\n3. Yapay zeka teknolojisinin potansiyel faydaları önemli olsa da mahremiyet, işten çıkarma ve etik hususlar gibi konularla ilgili endişeler de var.\\n'"
      ]
     },
     "execution_count": 3,
     "metadata": {},
     "output_type": "execute_result"
    }
   ],
   "source": [
    "text = \"\"\"Yapay zeka hakkında 3 tespit yaz.\\n\"\"\"\n",
    "\n",
    "r = text_generator(text)\n",
    "\n",
    "print(r[0]['generated_text'])\n",
    "\n",
    "\"\"\"\n",
    "1. Yapay Zeka (AI), makinelerin insan benzeri bilişsel işlevleri gerçekleştirmesini sağlayan bir teknoloji alanıdır.\n",
    "\n",
    "2. Yapay zekanın geliştirilmesi ve uygulanması, sağlık hizmetlerinden eğlenceye kadar çeşitli sektörlerde çok sayıda fırsat sunmaktadır.\n",
    "\n",
    "3. Yapay zeka teknolojisinin potansiyel faydaları önemli olsa da mahremiyet, işten çıkarma ve etik hususlar gibi konularla ilgili endişeler de var.\n",
    "\"\"\"\n"
   ]
  },
  {
   "cell_type": "code",
   "execution_count": 1,
   "metadata": {},
   "outputs": [
    {
     "ename": "NameError",
     "evalue": "name 'text_generator' is not defined",
     "output_type": "error",
     "traceback": [
      "\u001b[0;31m---------------------------------------------------------------------------\u001b[0m",
      "\u001b[0;31mNameError\u001b[0m                                 Traceback (most recent call last)",
      "Cell \u001b[0;32mIn[1], line 2\u001b[0m\n\u001b[1;32m      1\u001b[0m text2 \u001b[38;5;241m=\u001b[39m \u001b[38;5;124m\"\"\"\u001b[39m\u001b[38;5;124mNasılsın?\u001b[39m\u001b[38;5;130;01m\\n\u001b[39;00m\u001b[38;5;124m\"\"\"\u001b[39m\n\u001b[0;32m----> 2\u001b[0m r2 \u001b[38;5;241m=\u001b[39m \u001b[43mtext_generator\u001b[49m(text2)\n\u001b[1;32m      3\u001b[0m r2\n",
      "\u001b[0;31mNameError\u001b[0m: name 'text_generator' is not defined"
     ]
    }
   ],
   "source": [
    "text2 = \"\"\"Nasılsın?\\n\"\"\"\n",
    "r2 = text_generator(text2)\n",
    "r2\n"
   ]
  }
 ],
 "metadata": {
  "kernelspec": {
   "display_name": "Python 3",
   "language": "python",
   "name": "python3"
  },
  "language_info": {
   "codemirror_mode": {
    "name": "ipython",
    "version": 3
   },
   "file_extension": ".py",
   "mimetype": "text/x-python",
   "name": "python",
   "nbconvert_exporter": "python",
   "pygments_lexer": "ipython3",
   "version": "3.9.6"
  }
 },
 "nbformat": 4,
 "nbformat_minor": 2
}
