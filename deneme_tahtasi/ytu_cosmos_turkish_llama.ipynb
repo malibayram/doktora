{
 "cells": [
  {
   "cell_type": "code",
   "execution_count": 1,
   "metadata": {},
   "outputs": [
    {
     "name": "stderr",
     "output_type": "stream",
     "text": [
      "/Users/mab/Library/Python/3.9/lib/python/site-packages/tqdm/auto.py:21: TqdmWarning: IProgress not found. Please update jupyter and ipywidgets. See https://ipywidgets.readthedocs.io/en/stable/user_install.html\n",
      "  from .autonotebook import tqdm as notebook_tqdm\n",
      "Special tokens have been added in the vocabulary, make sure the associated word embeddings are fine-tuned or trained.\n",
      "Loading checkpoint shards: 100%|██████████| 4/4 [00:26<00:00,  6.63s/it]\n"
     ]
    }
   ],
   "source": [
    "# Load model directly\n",
    "from transformers import AutoTokenizer, AutoModelForCausalLM\n",
    "\n",
    "tokenizer = AutoTokenizer.from_pretrained(\"ytu-ce-cosmos/Turkish-Llama-8b-v0.1\")\n",
    "model = AutoModelForCausalLM.from_pretrained(\"ytu-ce-cosmos/Turkish-Llama-8b-v0.1\")"
   ]
  },
  {
   "cell_type": "code",
   "execution_count": 4,
   "metadata": {},
   "outputs": [],
   "source": [
    "# Use a pipeline as a high-level helper\n",
    "from transformers import pipeline\n",
    "\n",
    "text_generator = pipeline(\n",
    "    \"text-generation\",\n",
    "    model=model,\n",
    "    tokenizer=tokenizer,\n",
    "    device_map=\"auto\",\n",
    "    temperature=0.3,\n",
    "    repetition_penalty=1.1,\n",
    "    top_p=0.9,\n",
    "    max_length=610,\n",
    "    do_sample=True,\n",
    "    return_full_text=False,\n",
    "    min_new_tokens=32\n",
    ")\n"
   ]
  },
  {
   "cell_type": "code",
   "execution_count": 3,
   "metadata": {},
   "outputs": [
    {
     "name": "stderr",
     "output_type": "stream",
     "text": [
      "Setting `pad_token_id` to `eos_token_id`:128001 for open-end generation.\n"
     ]
    },
    {
     "name": "stdout",
     "output_type": "stream",
     "text": [
      "Yapay zeka hakkında 3 tespit yaz.\n",
      "1. Yapay zeka, makinelerin insan zekasını taklit etmesi ve problem çözmeye, karar vermeye ve öğrenmeye benzer şekilde uyum sağlamasına olanak sağlamasıyla karakterize edilir.\n",
      "2. Yapay zeka, bilgisayar bilimi, mühendislik, psikoloji ve felsefe dahil olmak üzere çeşitli alanlardan yararlanan, çok disiplinli bir alandır.\n",
      "3. Yapay zeka teknolojisi, robotikten doğal dil işleme ve bilgisayarlı görme gibi çeşitli uygulamaları kapsayan, hızla gelişen bir alandır.\n"
     ]
    },
    {
     "data": {
      "text/plain": [
       "'\\n1. Yapay Zeka (AI), makinelerin insan benzeri bilişsel işlevleri gerçekleştirmesini sağlayan bir teknoloji alanıdır.\\n\\n2. Yapay zekanın geliştirilmesi ve uygulanması, sağlık hizmetlerinden eğlenceye kadar çeşitli sektörlerde çok sayıda fırsat sunmaktadır.\\n\\n3. Yapay zeka teknolojisinin potansiyel faydaları önemli olsa da mahremiyet, işten çıkarma ve etik hususlar gibi konularla ilgili endişeler de var.\\n'"
      ]
     },
     "execution_count": 3,
     "metadata": {},
     "output_type": "execute_result"
    }
   ],
   "source": [
    "text = \"\"\"Yapay zeka hakkında 3 tespit yaz.\\n\"\"\"\n",
    "\n",
    "r = text_generator(text)\n",
    "\n",
    "print(r[0]['generated_text'])\n",
    "\n",
    "\"\"\"\n",
    "1. Yapay Zeka (AI), makinelerin insan benzeri bilişsel işlevleri gerçekleştirmesini sağlayan bir teknoloji alanıdır.\n",
    "\n",
    "2. Yapay zekanın geliştirilmesi ve uygulanması, sağlık hizmetlerinden eğlenceye kadar çeşitli sektörlerde çok sayıda fırsat sunmaktadır.\n",
    "\n",
    "3. Yapay zeka teknolojisinin potansiyel faydaları önemli olsa da mahremiyet, işten çıkarma ve etik hususlar gibi konularla ilgili endişeler de var.\n",
    "\"\"\"\n"
   ]
  },
  {
   "cell_type": "code",
   "execution_count": 6,
   "metadata": {},
   "outputs": [
    {
     "name": "stderr",
     "output_type": "stream",
     "text": [
      "\n",
      "No chat template is defined for this tokenizer - using a default chat template that implements the ChatML format (without BOS/EOS tokens!). If the default is not appropriate for your model, please set `tokenizer.chat_template` to an appropriate template. See https://huggingface.co/docs/transformers/main/chat_templating for more information.\n",
      "\n",
      "Setting `pad_token_id` to `eos_token_id`:128001 for open-end generation.\n"
     ]
    },
    {
     "data": {
      "text/plain": [
       "[{'generated_text': 'A: Yazar, altı çizili kelimenin altındaki boşluğu doldurmak için \"ben\"i kullanıyor. Bu, yazdıklarıyla ilgili olarak kendisinin sorumlu olduğunu gösteriyor.'}]"
      ]
     },
     "execution_count": 6,
     "metadata": {},
     "output_type": "execute_result"
    }
   ],
   "source": [
    "messages = [\n",
    "  {'role': 'user', 'content': '''“Yazdıkların kime hitap ediyor?” sorusuna verilmiş net\n",
    "bir cevabım yok. Bir iyelik ekiyle “okurlarım” demeyi de\n",
    "doğrusu beni hiç okumamış olanlara bir saygısızlık\n",
    "olarak değerlendiriyorum. Ancak yine de <altı çizili söz>boşluğa\n",
    "yazdığımı söyleyemiyorum.</altı çizili söz>\n",
    " Bu parçanın yazarı, altı çizili sözle hangi özelliğine\n",
    "vurgu yapmaktadır?\n",
    "Eserlerini zihninde tasarladığı bir kitleye yönelik olarak\n",
    "ürettiğine\n",
    "Eserleriyle her düzeyde okur kitlesine seslenmeyi\n",
    "öncelediğine\n",
    "Seçtiği temalarla mevcut ve potansiyel okurlarını\n",
    "ayrıştırdığına\n",
    "Sahiplendiği okurların duyarlılığını eserleriyle\n",
    "geliştirmeye çalıştığına\n",
    "Yazılarıyla bütün okurların beğenisini kazanmayı\n",
    "amaçladığına'''},\n",
    "]\n",
    "pipe = pipeline(\"text-generation\", model=model, tokenizer=tokenizer)\n",
    "text_generator(messages)"
   ]
  },
  {
   "cell_type": "code",
   "execution_count": 7,
   "metadata": {},
   "outputs": [
    {
     "name": "stderr",
     "output_type": "stream",
     "text": [
      "Setting `pad_token_id` to `eos_token_id`:128001 for open-end generation.\n"
     ]
    },
    {
     "data": {
      "text/plain": [
       "[{'generated_text': [{'role': 'user',\n",
       "    'content': '“Yazdıkların kime hitap ediyor?” sorusuna verilmiş net\\nbir cevabım yok. Bir iyelik ekiyle “okurlarım” demeyi de\\ndoğrusu beni hiç okumamış olanlara bir saygısızlık\\nolarak değerlendiriyorum. Ancak yine de <altı çizili söz>boşluğa\\nyazdığımı söyleyemiyorum.</altı çizili söz>\\n Bu parçanın yazarı, altı çizili sözle hangi özelliğine\\nvurgu yapmaktadır?\\nEserlerini zihninde tasarladığı bir kitleye yönelik olarak\\nürettiğine\\nEserleriyle her düzeyde okur kitlesine seslenmeyi\\nöncelediğine\\nSeçtiği temalarla mevcut ve potansiyel okurlarını\\nayrıştırdığına\\nSahiplendiği okurların duyarlılığını eserleriyle\\ngeliştirmeye çalıştığına\\nYazılarıyla bütün okurların beğenisini kazanmayı\\namaçladığına'},\n",
       "   {'role': 'assistant',\n",
       "    'content': '“Yazdıkların kime hitap ediyor?” sorusuna verilmiş net\\nbir cevabım yok. Bir iyelik ekiyle “okurlarım” demeyi de\\ndoğrusu beni hiç okumamış olanlara bir saygısızlık\\nolarak değerlendiriyorum. Ancak yine de <altı çizili söz>boşluğa\\nyazdığımı söyleyemiyorum.</altı çizili söz>\\n Bu parçanın yazarı, altı çizili sözle hangi özelliğine\\nvurgu yapmaktadır?\\nEserlerini zihninde tasarladığı bir kitleye göre ürettiğine\\nEserleriyle her düzeyde okur kitlesine seslenmeyi\\nöncelediğine\\nSeçtiği temalarla mevcut ve potansiyel okurlarını\\nayrıştırdığına\\nSahiplendiği okurların duyarlılığını eserleriyle\\ngeliştirmeye çalıştığına\\nYazılarıyla bütün okurların beğenisini kazanmayı\\namaçladığına<|im_end|>'}]}]"
      ]
     },
     "execution_count": 7,
     "metadata": {},
     "output_type": "execute_result"
    }
   ],
   "source": [
    "messages = [\n",
    "  {'role': 'user', 'content': '''“Yazdıkların kime hitap ediyor?” sorusuna verilmiş net\n",
    "bir cevabım yok. Bir iyelik ekiyle “okurlarım” demeyi de\n",
    "doğrusu beni hiç okumamış olanlara bir saygısızlık\n",
    "olarak değerlendiriyorum. Ancak yine de <altı çizili söz>boşluğa\n",
    "yazdığımı söyleyemiyorum.</altı çizili söz>\n",
    " Bu parçanın yazarı, altı çizili sözle hangi özelliğine\n",
    "vurgu yapmaktadır?\n",
    "Eserlerini zihninde tasarladığı bir kitleye yönelik olarak\n",
    "ürettiğine\n",
    "Eserleriyle her düzeyde okur kitlesine seslenmeyi\n",
    "öncelediğine\n",
    "Seçtiği temalarla mevcut ve potansiyel okurlarını\n",
    "ayrıştırdığına\n",
    "Sahiplendiği okurların duyarlılığını eserleriyle\n",
    "geliştirmeye çalıştığına\n",
    "Yazılarıyla bütün okurların beğenisini kazanmayı\n",
    "amaçladığına'''},\n",
    "]\n",
    "pipe(messages)"
   ]
  }
 ],
 "metadata": {
  "kernelspec": {
   "display_name": "Python 3",
   "language": "python",
   "name": "python3"
  },
  "language_info": {
   "codemirror_mode": {
    "name": "ipython",
    "version": 3
   },
   "file_extension": ".py",
   "mimetype": "text/x-python",
   "name": "python",
   "nbconvert_exporter": "python",
   "pygments_lexer": "ipython3",
   "version": "3.9.6"
  }
 },
 "nbformat": 4,
 "nbformat_minor": 2
}
