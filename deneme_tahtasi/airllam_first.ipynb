{
 "cells": [
  {
   "cell_type": "markdown",
   "metadata": {},
   "source": [
    "## Run the strongest open-source LLM model: Llama3 70B with just a single 4GB GPU!\n",
    "\n",
    "https://ai.gopubby.com/run-the-strongest-open-source-llm-model-llama3-70b-with-just-a-single-4gb-gpu-7e0ea2ad8ba2"
   ]
  },
  {
   "cell_type": "code",
   "execution_count": 1,
   "metadata": {},
   "outputs": [
    {
     "name": "stdout",
     "output_type": "stream",
     "text": [
      "Defaulting to user installation because normal site-packages is not writeable\n",
      "Collecting airllm\n",
      "  Using cached airllm-2.8.3-py3-none-any.whl.metadata (15 kB)\n",
      "Requirement already satisfied: tqdm in /Users/mab/Library/Python/3.9/lib/python/site-packages (from airllm) (4.66.2)\n",
      "Requirement already satisfied: torch in /Users/mab/Library/Python/3.9/lib/python/site-packages (from airllm) (2.2.2)\n",
      "Requirement already satisfied: transformers in /Users/mab/Library/Python/3.9/lib/python/site-packages (from airllm) (4.40.0)\n",
      "Requirement already satisfied: accelerate in /Users/mab/Library/Python/3.9/lib/python/site-packages (from airllm) (0.29.3)\n",
      "Requirement already satisfied: safetensors in /Users/mab/Library/Python/3.9/lib/python/site-packages (from airllm) (0.4.3)\n",
      "Collecting optimum (from airllm)\n",
      "  Using cached optimum-1.20.0-py3-none-any.whl.metadata (19 kB)\n",
      "Requirement already satisfied: huggingface-hub in /Users/mab/Library/Python/3.9/lib/python/site-packages (from airllm) (0.22.2)\n",
      "Requirement already satisfied: scipy in /Users/mab/Library/Python/3.9/lib/python/site-packages (from airllm) (1.13.0)\n",
      "Requirement already satisfied: numpy>=1.17 in /Users/mab/Library/Python/3.9/lib/python/site-packages (from accelerate->airllm) (1.26.4)\n",
      "Requirement already satisfied: packaging>=20.0 in /Users/mab/Library/Python/3.9/lib/python/site-packages (from accelerate->airllm) (23.2)\n",
      "Requirement already satisfied: psutil in /Users/mab/Library/Python/3.9/lib/python/site-packages (from accelerate->airllm) (5.9.8)\n",
      "Requirement already satisfied: pyyaml in /Users/mab/Library/Python/3.9/lib/python/site-packages (from accelerate->airllm) (6.0.1)\n",
      "Requirement already satisfied: filelock in /Users/mab/Library/Python/3.9/lib/python/site-packages (from torch->airllm) (3.13.1)\n",
      "Requirement already satisfied: typing-extensions>=4.8.0 in /Users/mab/Library/Python/3.9/lib/python/site-packages (from torch->airllm) (4.10.0)\n",
      "Requirement already satisfied: sympy in /Users/mab/Library/Python/3.9/lib/python/site-packages (from torch->airllm) (1.12)\n",
      "Requirement already satisfied: networkx in /Users/mab/Library/Python/3.9/lib/python/site-packages (from torch->airllm) (3.2.1)\n",
      "Requirement already satisfied: jinja2 in /Users/mab/Library/Python/3.9/lib/python/site-packages (from torch->airllm) (3.1.3)\n",
      "Requirement already satisfied: fsspec in /Users/mab/Library/Python/3.9/lib/python/site-packages (from torch->airllm) (2024.2.0)\n",
      "Requirement already satisfied: requests in /Users/mab/Library/Python/3.9/lib/python/site-packages (from huggingface-hub->airllm) (2.31.0)\n",
      "Requirement already satisfied: coloredlogs in /Users/mab/Library/Python/3.9/lib/python/site-packages (from optimum->airllm) (15.0.1)\n",
      "Requirement already satisfied: datasets in /Users/mab/Library/Python/3.9/lib/python/site-packages (from optimum->airllm) (2.18.0)\n",
      "Requirement already satisfied: regex!=2019.12.17 in /Users/mab/Library/Python/3.9/lib/python/site-packages (from transformers->airllm) (2024.5.15)\n",
      "Requirement already satisfied: tokenizers<0.20,>=0.19 in /Users/mab/Library/Python/3.9/lib/python/site-packages (from transformers->airllm) (0.19.1)\n",
      "Requirement already satisfied: sentencepiece!=0.1.92,>=0.1.91 in /Users/mab/Library/Python/3.9/lib/python/site-packages (from transformers[sentencepiece]<4.42.0,>=4.26.0->optimum->airllm) (0.2.0)\n",
      "Requirement already satisfied: protobuf in /Users/mab/Library/Python/3.9/lib/python/site-packages (from transformers[sentencepiece]<4.42.0,>=4.26.0->optimum->airllm) (4.25.3)\n",
      "Requirement already satisfied: humanfriendly>=9.1 in /Users/mab/Library/Python/3.9/lib/python/site-packages (from coloredlogs->optimum->airllm) (10.0)\n",
      "Requirement already satisfied: pyarrow>=12.0.0 in /Users/mab/Library/Python/3.9/lib/python/site-packages (from datasets->optimum->airllm) (16.1.0)\n",
      "Requirement already satisfied: pyarrow-hotfix in /Users/mab/Library/Python/3.9/lib/python/site-packages (from datasets->optimum->airllm) (0.6)\n",
      "Requirement already satisfied: dill<0.3.9,>=0.3.0 in /Users/mab/Library/Python/3.9/lib/python/site-packages (from datasets->optimum->airllm) (0.3.8)\n",
      "Requirement already satisfied: pandas in /Users/mab/Library/Python/3.9/lib/python/site-packages (from datasets->optimum->airllm) (2.2.2)\n",
      "Requirement already satisfied: xxhash in /Users/mab/Library/Python/3.9/lib/python/site-packages (from datasets->optimum->airllm) (3.4.1)\n",
      "Requirement already satisfied: multiprocess in /Users/mab/Library/Python/3.9/lib/python/site-packages (from datasets->optimum->airllm) (0.70.16)\n",
      "Requirement already satisfied: aiohttp in /Users/mab/Library/Python/3.9/lib/python/site-packages (from datasets->optimum->airllm) (3.9.5)\n",
      "Requirement already satisfied: charset-normalizer<4,>=2 in /Users/mab/Library/Python/3.9/lib/python/site-packages (from requests->huggingface-hub->airllm) (3.3.2)\n",
      "Requirement already satisfied: idna<4,>=2.5 in /Users/mab/Library/Python/3.9/lib/python/site-packages (from requests->huggingface-hub->airllm) (3.7)\n",
      "Requirement already satisfied: urllib3<3,>=1.21.1 in /Users/mab/Library/Python/3.9/lib/python/site-packages (from requests->huggingface-hub->airllm) (1.26.18)\n",
      "Requirement already satisfied: certifi>=2017.4.17 in /Users/mab/Library/Python/3.9/lib/python/site-packages (from requests->huggingface-hub->airllm) (2023.11.17)\n",
      "Requirement already satisfied: MarkupSafe>=2.0 in /Users/mab/Library/Python/3.9/lib/python/site-packages (from jinja2->torch->airllm) (2.1.5)\n",
      "Requirement already satisfied: mpmath>=0.19 in /Users/mab/Library/Python/3.9/lib/python/site-packages (from sympy->torch->airllm) (1.3.0)\n",
      "Requirement already satisfied: aiosignal>=1.1.2 in /Users/mab/Library/Python/3.9/lib/python/site-packages (from aiohttp->datasets->optimum->airllm) (1.3.1)\n",
      "Requirement already satisfied: attrs>=17.3.0 in /Users/mab/Library/Python/3.9/lib/python/site-packages (from aiohttp->datasets->optimum->airllm) (23.2.0)\n",
      "Requirement already satisfied: frozenlist>=1.1.1 in /Users/mab/Library/Python/3.9/lib/python/site-packages (from aiohttp->datasets->optimum->airllm) (1.4.1)\n",
      "Requirement already satisfied: multidict<7.0,>=4.5 in /Users/mab/Library/Python/3.9/lib/python/site-packages (from aiohttp->datasets->optimum->airllm) (6.0.5)\n",
      "Requirement already satisfied: yarl<2.0,>=1.0 in /Users/mab/Library/Python/3.9/lib/python/site-packages (from aiohttp->datasets->optimum->airllm) (1.9.4)\n",
      "Requirement already satisfied: async-timeout<5.0,>=4.0 in /Users/mab/Library/Python/3.9/lib/python/site-packages (from aiohttp->datasets->optimum->airllm) (4.0.3)\n",
      "Requirement already satisfied: python-dateutil>=2.8.2 in /Users/mab/Library/Python/3.9/lib/python/site-packages (from pandas->datasets->optimum->airllm) (2.9.0.post0)\n",
      "Requirement already satisfied: pytz>=2020.1 in /Users/mab/Library/Python/3.9/lib/python/site-packages (from pandas->datasets->optimum->airllm) (2024.1)\n",
      "Requirement already satisfied: tzdata>=2022.7 in /Users/mab/Library/Python/3.9/lib/python/site-packages (from pandas->datasets->optimum->airllm) (2024.1)\n",
      "Requirement already satisfied: six>=1.5 in /Users/mab/Library/Python/3.9/lib/python/site-packages (from python-dateutil>=2.8.2->pandas->datasets->optimum->airllm) (1.16.0)\n",
      "Using cached airllm-2.8.3-py3-none-any.whl (41 kB)\n",
      "Using cached optimum-1.20.0-py3-none-any.whl (418 kB)\n",
      "Installing collected packages: optimum, airllm\n",
      "Successfully installed airllm-2.8.3 optimum-1.20.0\n",
      "Note: you may need to restart the kernel to use updated packages.\n"
     ]
    }
   ],
   "source": [
    "%pip install airllm"
   ]
  },
  {
   "cell_type": "code",
   "execution_count": 1,
   "metadata": {},
   "outputs": [
    {
     "name": "stderr",
     "output_type": "stream",
     "text": [
      "/Users/mab/Library/Python/3.9/lib/python/site-packages/tqdm/auto.py:21: TqdmWarning: IProgress not found. Please update jupyter and ipywidgets. See https://ipywidgets.readthedocs.io/en/stable/user_install.html\n",
      "  from .autonotebook import tqdm as notebook_tqdm\n",
      "/Users/mab/Library/Python/3.9/lib/python/site-packages/bitsandbytes/cextension.py:34: UserWarning: The installed version of bitsandbytes was compiled without GPU support. 8-bit optimizers, 8-bit multiplication, and GPU quantization are unavailable.\n",
      "  warn(\"The installed version of bitsandbytes was compiled without GPU support. \"\n"
     ]
    },
    {
     "name": "stdout",
     "output_type": "stream",
     "text": [
      "'NoneType' object has no attribute 'cadam32bit_grad_fp32'\n"
     ]
    },
    {
     "name": "stderr",
     "output_type": "stream",
     "text": [
      "Fetching 10 files: 100%|██████████| 10/10 [00:00<00:00, 140748.46it/s]\n"
     ]
    },
    {
     "name": "stdout",
     "output_type": "stream",
     "text": [
      "found_layers:{'model.embed_tokens.': True, 'model.layers.0.': True, 'model.layers.1.': False, 'model.layers.2.': False, 'model.layers.3.': False, 'model.layers.4.': False, 'model.layers.5.': False, 'model.layers.6.': False, 'model.layers.7.': False, 'model.layers.8.': False, 'model.layers.9.': False, 'model.layers.10.': False, 'model.layers.11.': False, 'model.layers.12.': False, 'model.layers.13.': False, 'model.layers.14.': False, 'model.layers.15.': False, 'model.layers.16.': False, 'model.layers.17.': False, 'model.layers.18.': False, 'model.layers.19.': False, 'model.layers.20.': False, 'model.layers.21.': False, 'model.layers.22.': False, 'model.layers.23.': False, 'model.layers.24.': False, 'model.layers.25.': False, 'model.layers.26.': False, 'model.layers.27.': False, 'model.layers.28.': False, 'model.layers.29.': False, 'model.layers.30.': False, 'model.layers.31.': False, 'model.layers.32.': False, 'model.layers.33.': False, 'model.layers.34.': False, 'model.layers.35.': False, 'model.layers.36.': False, 'model.layers.37.': False, 'model.layers.38.': False, 'model.layers.39.': False, 'model.layers.40.': False, 'model.layers.41.': False, 'model.layers.42.': False, 'model.layers.43.': False, 'model.layers.44.': False, 'model.layers.45.': False, 'model.layers.46.': False, 'model.layers.47.': False, 'model.layers.48.': False, 'model.layers.49.': False, 'model.layers.50.': False, 'model.layers.51.': False, 'model.layers.52.': False, 'model.layers.53.': False, 'model.layers.54.': False, 'model.layers.55.': False, 'model.layers.56.': False, 'model.layers.57.': False, 'model.layers.58.': False, 'model.layers.59.': False, 'model.layers.60.': False, 'model.layers.61.': False, 'model.layers.62.': False, 'model.layers.63.': False, 'model.layers.64.': False, 'model.layers.65.': False, 'model.layers.66.': False, 'model.layers.67.': False, 'model.layers.68.': False, 'model.layers.69.': False, 'model.layers.70.': False, 'model.layers.71.': False, 'model.layers.72.': False, 'model.layers.73.': False, 'model.layers.74.': False, 'model.layers.75.': False, 'model.layers.76.': False, 'model.layers.77.': False, 'model.layers.78.': False, 'model.layers.79.': False, 'model.norm.': False, 'lm_head.': False}\n",
      "some layer splits found, some are not, re-save all layers in case there's some corruptions.\n"
     ]
    },
    {
     "name": "stderr",
     "output_type": "stream",
     "text": [
      "  2%|▏         | 2/83 [00:00<00:04, 17.19it/s]"
     ]
    },
    {
     "name": "stdout",
     "output_type": "stream",
     "text": [
      "Loading shard 1/30\n",
      "Loading shard 2/30\n"
     ]
    },
    {
     "name": "stderr",
     "output_type": "stream",
     "text": [
      "Fetching 1 files:   0%|          | 0/1 [05:36<?, ?it/s]\n"
     ]
    }
   ],
   "source": [
    "from airllm import AutoModel\n",
    "\n",
    "MAX_LENGTH = 128\n",
    "model = AutoModel.from_pretrained(\"v2ray/Llama-3-70B\")\n",
    "input_text = [        \n",
    "  'What is the capital of United States?'    \n",
    "]\n",
    "input_tokens = model.tokenizer(input_text,    \n",
    "  return_tensors=\"pt\",     \n",
    "  return_attention_mask=False,     \n",
    "  truncation=True,     \n",
    "  max_length=MAX_LENGTH,     \n",
    "  padding=False)\n",
    "\n",
    "generation_output = model.generate(    \n",
    "  input_tokens['input_ids'].cuda(),     \n",
    "  max_new_tokens=20,    \n",
    "  use_cache=True,    \n",
    "  return_dict_in_generate=True)\n",
    "\n",
    "output = model.tokenizer.decode(generation_output.sequences[0])\n",
    "print(output)\n"
   ]
  }
 ],
 "metadata": {
  "kernelspec": {
   "display_name": "Python 3",
   "language": "python",
   "name": "python3"
  },
  "language_info": {
   "codemirror_mode": {
    "name": "ipython",
    "version": 3
   },
   "file_extension": ".py",
   "mimetype": "text/x-python",
   "name": "python",
   "nbconvert_exporter": "python",
   "pygments_lexer": "ipython3",
   "version": "3.9.6"
  }
 },
 "nbformat": 4,
 "nbformat_minor": 2
}
