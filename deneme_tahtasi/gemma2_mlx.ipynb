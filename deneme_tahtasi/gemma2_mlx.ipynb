{
 "cells": [
  {
   "cell_type": "code",
   "execution_count": 1,
   "metadata": {},
   "outputs": [
    {
     "name": "stderr",
     "output_type": "stream",
     "text": [
      "/Users/alibayram/Library/Python/3.9/lib/python/site-packages/urllib3/__init__.py:35: NotOpenSSLWarning: urllib3 v2 only supports OpenSSL 1.1.1+, currently the 'ssl' module is compiled with 'LibreSSL 2.8.3'. See: https://github.com/urllib3/urllib3/issues/3020\n",
      "  warnings.warn(\n",
      "/Users/alibayram/Library/Python/3.9/lib/python/site-packages/tqdm/auto.py:21: TqdmWarning: IProgress not found. Please update jupyter and ipywidgets. See https://ipywidgets.readthedocs.io/en/stable/user_install.html\n",
      "  from .autonotebook import tqdm as notebook_tqdm\n",
      "None of PyTorch, TensorFlow >= 2.0, or Flax have been found. Models won't be available and only tokenizers, configuration and file/data utilities can be used.\n"
     ]
    }
   ],
   "source": [
    "from mlx_lm import load, generate\n"
   ]
  },
  {
   "cell_type": "code",
   "execution_count": 5,
   "metadata": {},
   "outputs": [
    {
     "name": "stderr",
     "output_type": "stream",
     "text": [
      "Fetching 9 files: 100%|██████████| 9/9 [00:00<00:00, 157286.40it/s]\n"
     ]
    }
   ],
   "source": [
    "model, tokenizer = load(\"mlx-community/gemma-2-9b-it-fp16\")\n",
    "# model, tokenizer = load(\"mlx-community/gemma-2-9b-it-4bit\")\n"
   ]
  },
  {
   "cell_type": "code",
   "execution_count": 6,
   "metadata": {},
   "outputs": [
    {
     "name": "stdout",
     "output_type": "stream",
     "text": [
      "==========\n",
      "Prompt: Bir arabanın deposu 60 litre benzin alabiliyor. Araba her 100 kilometrede 8 litre benzin tüketiyor. Depo tamamen doluyken araba kaç kilometre yol alabilir?\n",
      "\n",
      "\n",
      "**Çözüm:**\n",
      "\n",
      "1. **Benzin tüketim oranını kilometreye göre ifade edelim:** Araba 1 kilometrede 8/100 = 0.08 litre benzin tüketiyor.\n",
      "\n",
      "2. **Depodaki benzini kilometreye çevirelim:** 60 litre benzin / 0.08 litre/km = 750 kilometre.\n",
      "\n",
      "\n",
      "**Cevap:** Depo tamamen doluyken araba 750 kilometre yol alabilir.<end_of_turn>\n",
      "\n",
      "==========\n",
      "Prompt: 59.453 tokens-per-sec\n",
      "Generation: 8.688 tokens-per-sec\n"
     ]
    },
    {
     "data": {
      "text/plain": [
       "'\\n\\n**Çözüm:**\\n\\n1. **Benzin tüketim oranını kilometreye göre ifade edelim:** Araba 1 kilometrede 8/100 = 0.08 litre benzin tüketiyor.\\n\\n2. **Depodaki benzini kilometreye çevirelim:** 60 litre benzin / 0.08 litre/km = 750 kilometre.\\n\\n\\n**Cevap:** Depo tamamen doluyken araba 750 kilometre yol alabilir.<end_of_turn>\\n'"
      ]
     },
     "execution_count": 6,
     "metadata": {},
     "output_type": "execute_result"
    }
   ],
   "source": [
    "response = generate(model, tokenizer, max_tokens=256, prompt=\"Bir arabanın deposu 60 litre benzin alabiliyor. Araba her 100 kilometrede 8 litre benzin tüketiyor. Depo tamamen doluyken araba kaç kilometre yol alabilir?\", verbose=True)\n",
    "response"
   ]
  },
  {
   "cell_type": "code",
   "execution_count": 3,
   "metadata": {},
   "outputs": [],
   "source": [
    "from sentence_transformers import SentenceTransformer\n",
    "\n",
    "model = SentenceTransformer(\"distiluse-base-multilingual-cased-v2\")"
   ]
  }
 ],
 "metadata": {
  "kernelspec": {
   "display_name": "Python 3",
   "language": "python",
   "name": "python3"
  },
  "language_info": {
   "codemirror_mode": {
    "name": "ipython",
    "version": 3
   },
   "file_extension": ".py",
   "mimetype": "text/x-python",
   "name": "python",
   "nbconvert_exporter": "python",
   "pygments_lexer": "ipython3",
   "version": "3.9.6"
  }
 },
 "nbformat": 4,
 "nbformat_minor": 2
}
