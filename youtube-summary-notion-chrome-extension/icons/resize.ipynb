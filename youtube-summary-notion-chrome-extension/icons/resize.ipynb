{
 "cells": [
  {
   "cell_type": "code",
   "execution_count": 1,
   "metadata": {},
   "outputs": [
    {
     "name": "stdout",
     "output_type": "stream",
     "text": [
      "Defaulting to user installation because normal site-packages is not writeable\n",
      "Requirement already satisfied: pillow in /Users/mab/Library/Python/3.9/lib/python/site-packages (10.2.0)\n",
      "Note: you may need to restart the kernel to use updated packages.\n"
     ]
    }
   ],
   "source": [
    "%pip install pillow"
   ]
  },
  {
   "cell_type": "code",
   "execution_count": 3,
   "metadata": {},
   "outputs": [
    {
     "name": "stdout",
     "output_type": "stream",
     "text": [
      "Saved resized icon at: icon16.png\n",
      "Saved resized icon at: icon48.png\n",
      "Saved resized icon at: icon128.png\n"
     ]
    }
   ],
   "source": [
    "from PIL import Image\n",
    "\n",
    "# İkon dosyasının yolunu belirleyin\n",
    "input_path = 'icon.webp'\n",
    "\n",
    "# Yeniden boyutlandırmak istediğiniz boyutları belirtin\n",
    "sizes = [16, 48, 128]\n",
    "\n",
    "# Girdi dosyasını açın\n",
    "img = Image.open(input_path)\n",
    "\n",
    "# Her boyut için yeniden boyutlandırma işlemini gerçekleştirin ve kaydedin\n",
    "for size in sizes:\n",
    "    resized_img = img.resize((size, size))\n",
    "    output_path = f'icon{size}.png'\n",
    "    resized_img.save(output_path)\n",
    "    print(f'Saved resized icon at: {output_path}')\n"
   ]
  }
 ],
 "metadata": {
  "kernelspec": {
   "display_name": "Python 3",
   "language": "python",
   "name": "python3"
  },
  "language_info": {
   "codemirror_mode": {
    "name": "ipython",
    "version": 3
   },
   "file_extension": ".py",
   "mimetype": "text/x-python",
   "name": "python",
   "nbconvert_exporter": "python",
   "pygments_lexer": "ipython3",
   "version": "3.9.6"
  }
 },
 "nbformat": 4,
 "nbformat_minor": 2
}
